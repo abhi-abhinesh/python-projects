{
 "cells": [
  {
   "cell_type": "code",
   "execution_count": 69,
   "id": "b52fc0c7",
   "metadata": {},
   "outputs": [],
   "source": [
    "#importing necessory libraries\n",
    "import numpy as np\n",
    "import pandas as pd\n",
    "import warnings\n",
    "warnings.filterwarnings(\"ignore\")\n",
    "np.set_printoptions(suppress=True,linewidth=100,precision=2)"
   ]
  },
  {
   "cell_type": "code",
   "execution_count": 70,
   "id": "9f4698f9",
   "metadata": {},
   "outputs": [
    {
     "data": {
      "text/plain": [
       "array([[48010226.  ,         nan,    35000.  , ...,         nan,         nan,     9452.96],\n",
       "       [57693261.  ,         nan,    30000.  , ...,         nan,         nan,     4679.7 ],\n",
       "       [59432726.  ,         nan,    15000.  , ...,         nan,         nan,     1969.83],\n",
       "       ...,\n",
       "       [50415990.  ,         nan,    10000.  , ...,         nan,         nan,     2185.64],\n",
       "       [46154151.  ,         nan,         nan, ...,         nan,         nan,     3199.4 ],\n",
       "       [66055249.  ,         nan,    10000.  , ...,         nan,         nan,      301.9 ]])"
      ]
     },
     "execution_count": 70,
     "metadata": {},
     "output_type": "execute_result"
    }
   ],
   "source": [
    "#importing data\n",
    "\n",
    "raw_data=np.genfromtxt(\"C:/Users/ABINESH/Downloads/loan-data.csv\",delimiter=\";\",autostrip=True,skip_header=1)\n",
    "raw_data"
   ]
  },
  {
   "cell_type": "code",
   "execution_count": 71,
   "id": "a0211363",
   "metadata": {},
   "outputs": [
    {
     "data": {
      "text/plain": [
       "(10000, 14)"
      ]
     },
     "execution_count": 71,
     "metadata": {},
     "output_type": "execute_result"
    }
   ],
   "source": [
    "## Data cleaning Procedures\n",
    "# Checking the shape of the dataset\n",
    "raw_data.shape"
   ]
  },
  {
   "cell_type": "code",
   "execution_count": 72,
   "id": "9bbeab85",
   "metadata": {},
   "outputs": [
    {
     "data": {
      "text/plain": [
       "88005"
      ]
     },
     "execution_count": 72,
     "metadata": {},
     "output_type": "execute_result"
    }
   ],
   "source": [
    "## checking missing values\n",
    "np.isnan(raw_data).sum()"
   ]
  },
  {
   "cell_type": "code",
   "execution_count": 73,
   "id": "ef112c61",
   "metadata": {},
   "outputs": [
    {
     "data": {
      "text/plain": [
       "array([54015809.19,         nan,    15273.46,         nan,    15311.04,         nan,       16.62,\n",
       "            440.92,         nan,         nan,         nan,         nan,         nan,     3143.85])"
      ]
     },
     "execution_count": 73,
     "metadata": {},
     "output_type": "execute_result"
    }
   ],
   "source": [
    "## temporary mean\n",
    "temporary_mean=np.nanmean(raw_data,axis=0)\n",
    "temporary_mean"
   ]
  },
  {
   "cell_type": "code",
   "execution_count": 74,
   "id": "85571563",
   "metadata": {},
   "outputs": [
    {
     "data": {
      "text/plain": [
       "array([[ 1],\n",
       "       [ 3],\n",
       "       [ 5],\n",
       "       [ 8],\n",
       "       [ 9],\n",
       "       [10],\n",
       "       [11],\n",
       "       [12]], dtype=int64)"
      ]
     },
     "execution_count": 74,
     "metadata": {},
     "output_type": "execute_result"
    }
   ],
   "source": [
    "## capturing the indices of column containing string values\n",
    "\n",
    "columns_string=np.argwhere(np.isnan(temporary_mean))\n",
    "columns_string"
   ]
  },
  {
   "cell_type": "code",
   "execution_count": 75,
   "id": "fac88d13",
   "metadata": {},
   "outputs": [
    {
     "data": {
      "text/plain": [
       "array([ 1,  3,  5,  8,  9, 10, 11, 12], dtype=int64)"
      ]
     },
     "execution_count": 75,
     "metadata": {},
     "output_type": "execute_result"
    }
   ],
   "source": [
    "## converting the above 2D output to 1D output for further use\n",
    "\n",
    "columns_string=np.argwhere(np.isnan(temporary_mean)).squeeze()\n",
    "columns_string"
   ]
  },
  {
   "cell_type": "code",
   "execution_count": 76,
   "id": "242b9236",
   "metadata": {},
   "outputs": [
    {
     "data": {
      "text/plain": [
       "array([ 0,  2,  4,  6,  7, 13], dtype=int64)"
      ]
     },
     "execution_count": 76,
     "metadata": {},
     "output_type": "execute_result"
    }
   ],
   "source": [
    "## capturing numeric columns indices\n",
    "\n",
    "columns_numeric=np.argwhere(np.isnan(temporary_mean)==False).squeeze()\n",
    "columns_numeric"
   ]
  },
  {
   "cell_type": "code",
   "execution_count": 77,
   "id": "1c2a8985",
   "metadata": {
    "scrolled": true
   },
   "outputs": [
    {
     "data": {
      "text/plain": [
       "array([['May-15', 'Current', '36 months', ..., 'Verified',\n",
       "        'https://www.lendingclub.com/browse/loanDetail.action?loan_id=48010226', 'CA'],\n",
       "       ['', 'Current', '36 months', ..., 'Source Verified',\n",
       "        'https://www.lendingclub.com/browse/loanDetail.action?loan_id=57693261', 'NY'],\n",
       "       ['Sep-15', 'Current', '36 months', ..., 'Verified',\n",
       "        'https://www.lendingclub.com/browse/loanDetail.action?loan_id=59432726', 'PA'],\n",
       "       ...,\n",
       "       ['Jun-15', 'Current', '36 months', ..., 'Source Verified',\n",
       "        'https://www.lendingclub.com/browse/loanDetail.action?loan_id=50415990', 'CA'],\n",
       "       ['Apr-15', 'Current', '36 months', ..., 'Source Verified',\n",
       "        'https://www.lendingclub.com/browse/loanDetail.action?loan_id=46154151', 'OH'],\n",
       "       ['Dec-15', 'Current', '36 months', ..., '',\n",
       "        'https://www.lendingclub.com/browse/loanDetail.action?loan_id=66055249', 'IL']],\n",
       "      dtype='<U69')"
      ]
     },
     "execution_count": 77,
     "metadata": {},
     "output_type": "execute_result"
    }
   ],
   "source": [
    "## Capturing columns containig object/string values\n",
    "\n",
    "loan_data_strings=np.genfromtxt(\"C:/Users/ABINESH/Downloads/loan-data.csv\",delimiter=\";\",skip_header=1,\n",
    "                               autostrip=True,usecols=columns_string,dtype=str)\n",
    "loan_data_strings"
   ]
  },
  {
   "cell_type": "code",
   "execution_count": 78,
   "id": "5ce5ebdc",
   "metadata": {},
   "outputs": [
    {
     "data": {
      "text/plain": [
       "array([[48010226.  ,    35000.  ,    35000.  ,       13.33,     1184.86,     9452.96],\n",
       "       [57693261.  ,    30000.  ,    30000.  , 68616520.  ,      938.57,     4679.7 ],\n",
       "       [59432726.  ,    15000.  ,    15000.  , 68616520.  ,      494.86,     1969.83],\n",
       "       ...,\n",
       "       [50415990.  ,    10000.  ,    10000.  , 68616520.  , 68616520.  ,     2185.64],\n",
       "       [46154151.  , 68616520.  ,    10000.  ,       16.55,      354.3 ,     3199.4 ],\n",
       "       [66055249.  ,    10000.  ,    10000.  , 68616520.  ,      309.97,      301.9 ]])"
      ]
     },
     "execution_count": 78,
     "metadata": {},
     "output_type": "execute_result"
    }
   ],
   "source": [
    "## capturing columns containig numeric data\n",
    "temporary_fill=np.nanmax(raw_data)+1\n",
    "loan_data_numeric=np.genfromtxt(\"C:/Users/ABINESH/Downloads/loan-data.csv\",delimiter=\";\",skip_header=1,\n",
    "                               autostrip=True,usecols=columns_numeric,filling_values=temporary_fill)\n",
    "loan_data_numeric"
   ]
  },
  {
   "cell_type": "code",
   "execution_count": 79,
   "id": "d38bb96d",
   "metadata": {},
   "outputs": [
    {
     "data": {
      "text/plain": [
       "array(['id', 'issue_d', 'loan_amnt', 'loan_status', 'funded_amnt', 'term', 'int_rate',\n",
       "       'installment', 'grade', 'sub_grade', 'verification_status', 'url', 'addr_state',\n",
       "       'total_pymnt'], dtype='<U19')"
      ]
     },
     "execution_count": 79,
     "metadata": {},
     "output_type": "execute_result"
    }
   ],
   "source": [
    "## capturing headers\n",
    "\n",
    "header_full=np.genfromtxt(\"C:/Users/ABINESH/Downloads/loan-data.csv\",delimiter=\";\",autostrip=True,\n",
    "                          skip_footer=raw_data.shape[0],dtype=str)\n",
    "header_full"
   ]
  },
  {
   "cell_type": "code",
   "execution_count": 80,
   "id": "949b40e4",
   "metadata": {},
   "outputs": [
    {
     "data": {
      "text/plain": [
       "array(['issue_d', 'loan_status', 'term', 'grade', 'sub_grade', 'verification_status', 'url',\n",
       "       'addr_state'], dtype='<U19')"
      ]
     },
     "execution_count": 80,
     "metadata": {},
     "output_type": "execute_result"
    }
   ],
   "source": [
    "## Splitting headers for numeric data and string data\n",
    "\n",
    "header_strings,header_numeric=header_full[columns_string],header_full[columns_numeric]\n",
    "header_strings"
   ]
  },
  {
   "cell_type": "code",
   "execution_count": 81,
   "id": "f157bb00",
   "metadata": {},
   "outputs": [
    {
     "data": {
      "text/plain": [
       "array(['issue_date', 'loan_status', 'term', 'grade', 'sub_grade', 'verification_status', 'url',\n",
       "       'addr_state'], dtype='<U19')"
      ]
     },
     "execution_count": 81,
     "metadata": {},
     "output_type": "execute_result"
    }
   ],
   "source": [
    "## Manipulating text data:issue date:\n",
    "# 1.) renaming column name\n",
    "header_strings[0]=\"issue_date\"\n",
    "header_strings"
   ]
  },
  {
   "cell_type": "code",
   "execution_count": 82,
   "id": "53f91f40",
   "metadata": {},
   "outputs": [
    {
     "data": {
      "text/plain": [
       "array(['May-15', '', 'Sep-15', ..., 'Jun-15', 'Apr-15', 'Dec-15'], dtype='<U69')"
      ]
     },
     "execution_count": 82,
     "metadata": {},
     "output_type": "execute_result"
    }
   ],
   "source": [
    "##2.) Displaying 1st column\n",
    "loan_data_strings[:,0]"
   ]
  },
  {
   "cell_type": "code",
   "execution_count": 83,
   "id": "209c0584",
   "metadata": {},
   "outputs": [
    {
     "data": {
      "text/plain": [
       "array(['', 'Apr-15', 'Aug-15', 'Dec-15', 'Feb-15', 'Jan-15', 'Jul-15', 'Jun-15', 'Mar-15',\n",
       "       'May-15', 'Nov-15', 'Oct-15', 'Sep-15'], dtype='<U69')"
      ]
     },
     "execution_count": 83,
     "metadata": {},
     "output_type": "execute_result"
    }
   ],
   "source": [
    "## 3.) unique values in the column \"issue_date\"\n",
    "\n",
    "np.unique(loan_data_strings[:,0])"
   ]
  },
  {
   "cell_type": "code",
   "execution_count": 84,
   "id": "c239314c",
   "metadata": {},
   "outputs": [
    {
     "data": {
      "text/plain": [
       "array(['May', '', 'Sep', ..., 'Jun', 'Apr', 'Dec'], dtype='<U69')"
      ]
     },
     "execution_count": 84,
     "metadata": {},
     "output_type": "execute_result"
    }
   ],
   "source": [
    "## 4.) stripping the number 15 from the column \"issue_date\" since we know the data set is for the year 2015\n",
    "\n",
    "loan_data_strings[:,0]=np.chararray.strip(loan_data_strings[:,0],\"-15\")\n",
    "loan_data_strings[:,0]"
   ]
  },
  {
   "cell_type": "code",
   "execution_count": 85,
   "id": "3793a642",
   "metadata": {},
   "outputs": [
    {
     "data": {
      "text/plain": [
       "array(['', '1', '10', '11', '12', '2', '3', '4', '5', '6', '7', '8', '9'], dtype='<U69')"
      ]
     },
     "execution_count": 85,
     "metadata": {},
     "output_type": "execute_result"
    }
   ],
   "source": [
    "##5.) convertng month values to eqivalent month number\n",
    "\n",
    "months=np.array([\" \",\"Jan\",\"Feb\",\"Mar\",\"Apr\",\"May\",\"Jun\",\"Jul\",\"Aug\",\"Sep\",\"Oct\",\"Nov\",\"Dec\"])\n",
    "for i in range(13):\n",
    "    loan_data_strings[:,0]=np.where(loan_data_strings[:,0]==months[i],i,loan_data_strings[:,0])\n",
    "loan_data_strings[:,0]\n",
    "np.unique(loan_data_strings[:,0])"
   ]
  },
  {
   "cell_type": "code",
   "execution_count": 86,
   "id": "436eec84",
   "metadata": {},
   "outputs": [
    {
     "data": {
      "text/plain": [
       "array(['', 'Charged Off', 'Current', 'Default', 'Fully Paid', 'In Grace Period', 'Issued',\n",
       "       'Late (16-30 days)', 'Late (31-120 days)'], dtype='<U69')"
      ]
     },
     "execution_count": 86,
     "metadata": {},
     "output_type": "execute_result"
    }
   ],
   "source": [
    "## Manipulating text data \"loan status\" column\n",
    "#unique values in \"loan status and term\" column\n",
    "np.unique(loan_data_strings[:,1])"
   ]
  },
  {
   "cell_type": "code",
   "execution_count": 87,
   "id": "fd234fb7",
   "metadata": {},
   "outputs": [
    {
     "data": {
      "text/plain": [
       "array(['0', '1'], dtype='<U69')"
      ]
     },
     "execution_count": 87,
     "metadata": {},
     "output_type": "execute_result"
    }
   ],
   "source": [
    "##Providing dummy variables to this column for better analysis,assigning \"good\" as 1 and \"bad\" as 0\n",
    "status_bad=np.array([\"\",\"Charged off\",\"Default\",\"Late (31-120 days)\"])\n",
    "x=np.where(np.isin(loan_data_strings[:,1], status_bad),0,1)\n",
    "x\n",
    "loan_data_strings[:,1]=x\n",
    "np.unique(loan_data_strings[:,1])"
   ]
  },
  {
   "cell_type": "code",
   "execution_count": 88,
   "id": "22fdade5",
   "metadata": {},
   "outputs": [
    {
     "data": {
      "text/plain": [
       "array(['', '36 months', '60 months'], dtype='<U69')"
      ]
     },
     "execution_count": 88,
     "metadata": {},
     "output_type": "execute_result"
    }
   ],
   "source": [
    "## Manipulation on \"term\" column\n",
    "np.unique(loan_data_strings[:,2])"
   ]
  },
  {
   "cell_type": "code",
   "execution_count": 89,
   "id": "3150d388",
   "metadata": {},
   "outputs": [
    {
     "data": {
      "text/plain": [
       "array(['36', '36', '36', ..., '36', '36', '36'], dtype='<U69')"
      ]
     },
     "execution_count": 89,
     "metadata": {},
     "output_type": "execute_result"
    }
   ],
   "source": [
    "# strippin the string months from the column\n",
    "loan_data_strings[:,2]=np.chararray.strip(loan_data_strings[:,2],\" months\")\n",
    "loan_data_strings[:,2]"
   ]
  },
  {
   "cell_type": "code",
   "execution_count": 91,
   "id": "6e1676b8",
   "metadata": {},
   "outputs": [],
   "source": [
    "## Renaming the column\n",
    "header_strings[2]=\"term_months\""
   ]
  },
  {
   "cell_type": "code",
   "execution_count": 92,
   "id": "236015aa",
   "metadata": {},
   "outputs": [
    {
     "data": {
      "text/plain": [
       "array(['36', '60'], dtype='<U69')"
      ]
     },
     "execution_count": 92,
     "metadata": {},
     "output_type": "execute_result"
    }
   ],
   "source": [
    "## assuming worst case scenario and replacing blank spaces with duration 60 months\n",
    "loan_data_strings[:,2]=np.where(loan_data_strings[:,2]==\"\",\"60\",loan_data_strings[:,2])\n",
    "np.unique(loan_data_strings[:,2])"
   ]
  },
  {
   "cell_type": "code",
   "execution_count": 93,
   "id": "d6f56043",
   "metadata": {},
   "outputs": [
    {
     "data": {
      "text/plain": [
       "(array(['', 'A', 'B', 'C', 'D', 'E', 'F', 'G'], dtype='<U69'),\n",
       " array([ 515, 1632, 2606, 2766, 1389,  816,  236,   40], dtype=int64))"
      ]
     },
     "execution_count": 93,
     "metadata": {},
     "output_type": "execute_result"
    }
   ],
   "source": [
    "## Manipulating text data \"Grade\" column\n",
    "np.unique(loan_data_strings[:,3],return_counts=True)"
   ]
  },
  {
   "cell_type": "code",
   "execution_count": 95,
   "id": "b611d72f",
   "metadata": {},
   "outputs": [
    {
     "data": {
      "text/plain": [
       "(array(['A', 'B', 'C', 'D', 'E', 'F', 'G'], dtype='<U69'),\n",
       " array([1632, 3121, 2766, 1389,  816,  236,   40], dtype=int64))"
      ]
     },
     "execution_count": 95,
     "metadata": {},
     "output_type": "execute_result"
    }
   ],
   "source": [
    "## Replacing missing values with the 2nd highest occerence in the data\n",
    "loan_data_strings[:,3]=np.where(loan_data_strings[:,3]==\"\",'B',loan_data_strings[:,3])\n",
    "np.unique(loan_data_strings[:,3],return_counts=True)"
   ]
  },
  {
   "cell_type": "code",
   "execution_count": 96,
   "id": "83de8c1f",
   "metadata": {},
   "outputs": [
    {
     "data": {
      "text/plain": [
       "(array(['', 'A1', 'A2', 'A3', 'A4', 'A5', 'B1', 'B2', 'B3', 'B4', 'B5', 'C1', 'C2', 'C3', 'C4',\n",
       "        'C5', 'D1', 'D2', 'D3', 'D4', 'D5', 'E1', 'E2', 'E3', 'E4', 'E5', 'F1', 'F2', 'F3', 'F4',\n",
       "        'F5', 'G1', 'G2', 'G3', 'G4', 'G5'], dtype='<U69'),\n",
       " array([514, 285, 278, 239, 323, 502, 509, 517, 530, 553, 494, 629, 567, 586, 564, 423, 391, 267,\n",
       "        250, 255, 223, 235, 162, 171, 139, 114,  94,  52,  34,  43,  16,  19,  10,   3,   7,   2],\n",
       "       dtype=int64))"
      ]
     },
     "execution_count": 96,
     "metadata": {},
     "output_type": "execute_result"
    }
   ],
   "source": [
    "## Manipulating text data \"subgrade\" column\n",
    "np.unique(loan_data_strings[:,4],return_counts=True)"
   ]
  },
  {
   "cell_type": "code",
   "execution_count": 97,
   "id": "ed18c3dd",
   "metadata": {},
   "outputs": [
    {
     "data": {
      "text/plain": [
       "array(['C3', 'A5', 'B5', ..., 'A5', 'D2', 'A4'], dtype='<U69')"
      ]
     },
     "execution_count": 97,
     "metadata": {},
     "output_type": "execute_result"
    }
   ],
   "source": [
    "## Replacing missing values in \"subgrade\" column\n",
    "\n",
    "for i in np.unique(loan_data_strings[:,3]):\n",
    "    loan_data_strings[:,4]=np.where((loan_data_strings[:,4]==\"\")&(loan_data_strings[:,3]==i),i+\"5\",loan_data_strings[:,4])\n",
    "loan_data_strings[:,4]"
   ]
  },
  {
   "cell_type": "code",
   "execution_count": 98,
   "id": "6a480090",
   "metadata": {},
   "outputs": [
    {
     "data": {
      "text/plain": [
       "array(['A1', 'A2', 'A3', 'A4', 'A5', 'B1', 'B2', 'B3', 'B4', 'B5', 'C1', 'C2', 'C3', 'C4', 'C5',\n",
       "       'D1', 'D2', 'D3', 'D4', 'D5', 'E1', 'E2', 'E3', 'E4', 'E5', 'F1', 'F2', 'F3', 'F4', 'F5',\n",
       "       'G1', 'G2', 'G3', 'G4', 'G5'], dtype='<U69')"
      ]
     },
     "execution_count": 98,
     "metadata": {},
     "output_type": "execute_result"
    }
   ],
   "source": [
    "## unique values in the modified \"subgrade\" column\n",
    "np.unique(loan_data_strings[:,4])"
   ]
  },
  {
   "cell_type": "code",
   "execution_count": 99,
   "id": "63d4f111",
   "metadata": {},
   "outputs": [
    {
     "data": {
      "text/plain": [
       "array(['Verified', 'Source Verified', 'Verified', ..., 'Source Verified', 'Source Verified', ''],\n",
       "      dtype='<U69')"
      ]
     },
     "execution_count": 99,
     "metadata": {},
     "output_type": "execute_result"
    }
   ],
   "source": [
    "## Manipulating text data \"verification status\" column\n",
    "loan_data_strings[:,5]"
   ]
  },
  {
   "cell_type": "code",
   "execution_count": 100,
   "id": "ed5efbf6",
   "metadata": {},
   "outputs": [
    {
     "data": {
      "text/plain": [
       "array(['', 'Not Verified', 'Source Verified', 'Verified'], dtype='<U69')"
      ]
     },
     "execution_count": 100,
     "metadata": {},
     "output_type": "execute_result"
    }
   ],
   "source": [
    "## unique values in this columns\n",
    "np.unique(loan_data_strings[:,5])"
   ]
  },
  {
   "cell_type": "code",
   "execution_count": 101,
   "id": "a1710b0f",
   "metadata": {},
   "outputs": [
    {
     "data": {
      "text/plain": [
       "array(['1', '1', '1', ..., '1', '1', '0'], dtype='<U69')"
      ]
     },
     "execution_count": 101,
     "metadata": {},
     "output_type": "execute_result"
    }
   ],
   "source": [
    "## replacing the values in this column with dummy variables\n",
    "loan_data_strings[:,5]=np.where((loan_data_strings[:,5]==\"\")|(loan_data_strings[:,5]==\"Not Verified\"),0,1)\n",
    "loan_data_strings[:,5]"
   ]
  },
  {
   "cell_type": "code",
   "execution_count": 102,
   "id": "22b716b8",
   "metadata": {},
   "outputs": [
    {
     "data": {
      "text/plain": [
       "array(['0', '1'], dtype='<U69')"
      ]
     },
     "execution_count": 102,
     "metadata": {},
     "output_type": "execute_result"
    }
   ],
   "source": [
    "##unique vales\n",
    "np.unique(loan_data_strings[:,5])"
   ]
  },
  {
   "cell_type": "code",
   "execution_count": 105,
   "id": "5e5d3ba8",
   "metadata": {},
   "outputs": [
    {
     "data": {
      "text/plain": [
       "array([['5', '1', '36', 'C', 'C3', '1'],\n",
       "       ['', '1', '36', 'A', 'A5', '1'],\n",
       "       ['9', '1', '36', 'B', 'B5', '1'],\n",
       "       ...,\n",
       "       ['6', '1', '36', 'A', 'A5', '1'],\n",
       "       ['4', '1', '36', 'D', 'D2', '1'],\n",
       "       ['12', '1', '36', 'A', 'A4', '0']], dtype='<U69')"
      ]
     },
     "execution_count": 105,
     "metadata": {},
     "output_type": "execute_result"
    }
   ],
   "source": [
    "loan_data_strings=np.delete(loan_data_strings,6,axis=1)\n",
    "loan_data_strings"
   ]
  },
  {
   "cell_type": "code",
   "execution_count": 112,
   "id": "01d91837",
   "metadata": {},
   "outputs": [
    {
     "data": {
      "text/plain": [
       "array(['issue_date', 'loan_status', 'term_months', 'grade', 'sub_grade', 'verification_status'],\n",
       "      dtype='<U19')"
      ]
     },
     "execution_count": 112,
     "metadata": {},
     "output_type": "execute_result"
    }
   ],
   "source": [
    "header_strings=np.delete(header_strings,6)\n",
    "header_strings"
   ]
  },
  {
   "cell_type": "code",
   "execution_count": 107,
   "id": "cb042ade",
   "metadata": {},
   "outputs": [
    {
     "data": {
      "text/plain": [
       "array([[48010226.  ,    35000.  ,    35000.  ,       13.33,     1184.86,     9452.96],\n",
       "       [57693261.  ,    30000.  ,    30000.  , 68616520.  ,      938.57,     4679.7 ],\n",
       "       [59432726.  ,    15000.  ,    15000.  , 68616520.  ,      494.86,     1969.83],\n",
       "       ...,\n",
       "       [50415990.  ,    10000.  ,    10000.  , 68616520.  , 68616520.  ,     2185.64],\n",
       "       [46154151.  , 68616520.  ,    10000.  ,       16.55,      354.3 ,     3199.4 ],\n",
       "       [66055249.  ,    10000.  ,    10000.  , 68616520.  ,      309.97,      301.9 ]])"
      ]
     },
     "execution_count": 107,
     "metadata": {},
     "output_type": "execute_result"
    }
   ],
   "source": [
    "## Manipulating Numeric data\n",
    "\n",
    "loan_data_numeric"
   ]
  },
  {
   "cell_type": "code",
   "execution_count": 39,
   "id": "473e580b",
   "metadata": {},
   "outputs": [
    {
     "data": {
      "text/plain": [
       "0"
      ]
     },
     "execution_count": 39,
     "metadata": {},
     "output_type": "execute_result"
    }
   ],
   "source": [
    "## looking for null vales in the data set\n",
    "np.isnan(loan_data_numeric).sum()"
   ]
  },
  {
   "cell_type": "code",
   "execution_count": 104,
   "id": "4c30f866",
   "metadata": {},
   "outputs": [
    {
     "data": {
      "text/plain": [
       "array(['id', 'loan_amnt', 'funded_amnt', 'int_rate', 'installment', 'total_pymnt'], dtype='<U19')"
      ]
     },
     "execution_count": 104,
     "metadata": {},
     "output_type": "execute_result"
    }
   ],
   "source": [
    "## Numeric data column names\n",
    "\n",
    "header_numeric"
   ]
  },
  {
   "cell_type": "code",
   "execution_count": 40,
   "id": "9b8b3a8b",
   "metadata": {},
   "outputs": [
    {
     "data": {
      "text/plain": [
       "68616520.0"
      ]
     },
     "execution_count": 40,
     "metadata": {},
     "output_type": "execute_result"
    }
   ],
   "source": [
    "temporary_fill=np.nanmax(raw_data)+1\n",
    "temporary_fill"
   ]
  },
  {
   "cell_type": "code",
   "execution_count": 41,
   "id": "91e69801",
   "metadata": {},
   "outputs": [
    {
     "data": {
      "text/plain": [
       "array([[  373332.  ,     1000.  ,     1000.  ,        6.  ,       31.42,        0.  ],\n",
       "       [54015809.19,    15273.46,    15311.04,       16.62,      440.92,     3143.85],\n",
       "       [68616519.  ,    35000.  ,    35000.  ,       28.99,     1372.97,    41913.62]])"
      ]
     },
     "execution_count": 41,
     "metadata": {},
     "output_type": "execute_result"
    }
   ],
   "source": [
    "temporary_stats=np.array([np.nanmin(raw_data,axis=0),temporary_mean,\n",
    "                         np.nanmax(raw_data,axis=0)])\n",
    "temporary_stats[:,columns_numeric]"
   ]
  },
  {
   "cell_type": "code",
   "execution_count": 42,
   "id": "f55b52fc",
   "metadata": {},
   "outputs": [
    {
     "data": {
      "text/plain": [
       "array([35000., 30000., 15000., ..., 10000., 10000., 10000.])"
      ]
     },
     "execution_count": 42,
     "metadata": {},
     "output_type": "execute_result"
    }
   ],
   "source": [
    "## Filling \"funded amount\" column with worst case\n",
    "\n",
    "loan_data_numeric[:,2]=np.where(loan_data_numeric[:,2]==temporary_fill,\n",
    "                               temporary_stats[0,columns_numeric[2]],loan_data_numeric[:,2])\n",
    "loan_data_numeric[:,2]"
   ]
  },
  {
   "cell_type": "code",
   "execution_count": 43,
   "id": "dc95bd09",
   "metadata": {},
   "outputs": [
    {
     "data": {
      "text/plain": [
       "array([1184.86,  938.57,  494.86, ..., 1372.97,  354.3 ,  309.97])"
      ]
     },
     "execution_count": 43,
     "metadata": {},
     "output_type": "execute_result"
    }
   ],
   "source": [
    "## Filling missing values in other numeric columns with maximum value\n",
    "\n",
    "for i in [1,3,4,5]:\n",
    "    loan_data_numeric[:,i]=np.where(loan_data_numeric[:,i]==temporary_fill,\n",
    "                                   temporary_stats[2,columns_numeric[i]],loan_data_numeric[:,i])\n",
    "loan_data_numeric[:,4]"
   ]
  },
  {
   "cell_type": "code",
   "execution_count": 109,
   "id": "c11faac9",
   "metadata": {},
   "outputs": [
    {
     "data": {
      "text/plain": [
       "(10000, 6)"
      ]
     },
     "execution_count": 109,
     "metadata": {},
     "output_type": "execute_result"
    }
   ],
   "source": [
    "loan_data_strings.shape"
   ]
  },
  {
   "cell_type": "code",
   "execution_count": 45,
   "id": "b386ddfd",
   "metadata": {},
   "outputs": [
    {
     "data": {
      "text/plain": [
       "(10000, 6)"
      ]
     },
     "execution_count": 45,
     "metadata": {},
     "output_type": "execute_result"
    }
   ],
   "source": [
    "loan_data_numeric.shape"
   ]
  },
  {
   "cell_type": "code",
   "execution_count": 108,
   "id": "96a0bb55",
   "metadata": {},
   "outputs": [
    {
     "data": {
      "text/plain": [
       "array([['48010226.0', '35000.0', '35000.0', ..., 'C', 'C3', '1'],\n",
       "       ['57693261.0', '30000.0', '30000.0', ..., 'A', 'A5', '1'],\n",
       "       ['59432726.0', '15000.0', '15000.0', ..., 'B', 'B5', '1'],\n",
       "       ...,\n",
       "       ['50415990.0', '10000.0', '10000.0', ..., 'A', 'A5', '1'],\n",
       "       ['46154151.0', '68616520.0', '10000.0', ..., 'D', 'D2', '1'],\n",
       "       ['66055249.0', '10000.0', '10000.0', ..., 'A', 'A4', '0']], dtype='<U69')"
      ]
     },
     "execution_count": 108,
     "metadata": {},
     "output_type": "execute_result"
    }
   ],
   "source": [
    "## Merging both string data and numeric data\n",
    "clean_loan_data=np.hstack((loan_data_numeric,loan_data_strings))\n",
    "clean_loan_data"
   ]
  },
  {
   "cell_type": "code",
   "execution_count": 114,
   "id": "26dcaef9",
   "metadata": {},
   "outputs": [
    {
     "data": {
      "text/plain": [
       "array(['id', 'loan_amnt', 'funded_amnt', 'int_rate', 'installment', 'total_pymnt', 'issue_date',\n",
       "       'loan_status', 'term_months', 'grade', 'sub_grade', 'verification_status'], dtype='<U19')"
      ]
     },
     "execution_count": 114,
     "metadata": {},
     "output_type": "execute_result"
    }
   ],
   "source": [
    "## concatinating headers to our data\n",
    "header_overall=np.concatenate((header_numeric,header_strings))\n",
    "header_overall"
   ]
  },
  {
   "cell_type": "code",
   "execution_count": 115,
   "id": "ecbf01aa",
   "metadata": {},
   "outputs": [
    {
     "data": {
      "text/plain": [
       "array([['id', 'loan_amnt', 'funded_amnt', ..., 'grade', 'sub_grade', 'verification_status'],\n",
       "       ['48010226.0', '35000.0', '35000.0', ..., 'C', 'C3', '1'],\n",
       "       ['57693261.0', '30000.0', '30000.0', ..., 'A', 'A5', '1'],\n",
       "       ...,\n",
       "       ['50415990.0', '10000.0', '10000.0', ..., 'A', 'A5', '1'],\n",
       "       ['46154151.0', '68616520.0', '10000.0', ..., 'D', 'D2', '1'],\n",
       "       ['66055249.0', '10000.0', '10000.0', ..., 'A', 'A4', '0']], dtype='<U69')"
      ]
     },
     "execution_count": 115,
     "metadata": {},
     "output_type": "execute_result"
    }
   ],
   "source": [
    "## Merging headers and their values\n",
    "final_data=np.vstack((header_overall,clean_loan_data))\n",
    "final_data"
   ]
  },
  {
   "cell_type": "code",
   "execution_count": 121,
   "id": "db8c8b3e",
   "metadata": {},
   "outputs": [
    {
     "data": {
      "text/html": [
       "<div>\n",
       "<style scoped>\n",
       "    .dataframe tbody tr th:only-of-type {\n",
       "        vertical-align: middle;\n",
       "    }\n",
       "\n",
       "    .dataframe tbody tr th {\n",
       "        vertical-align: top;\n",
       "    }\n",
       "\n",
       "    .dataframe thead th {\n",
       "        text-align: right;\n",
       "    }\n",
       "</style>\n",
       "<table border=\"1\" class=\"dataframe\">\n",
       "  <thead>\n",
       "    <tr style=\"text-align: right;\">\n",
       "      <th></th>\n",
       "      <th>id</th>\n",
       "      <th>loan_amnt</th>\n",
       "      <th>funded_amnt</th>\n",
       "      <th>int_rate</th>\n",
       "      <th>installment</th>\n",
       "      <th>total_pymnt</th>\n",
       "      <th>issue_date</th>\n",
       "      <th>loan_status</th>\n",
       "      <th>term_months</th>\n",
       "      <th>grade</th>\n",
       "      <th>sub_grade</th>\n",
       "      <th>verification_status</th>\n",
       "    </tr>\n",
       "  </thead>\n",
       "  <tbody>\n",
       "    <tr>\n",
       "      <th>1</th>\n",
       "      <td>48010226.0</td>\n",
       "      <td>35000.0</td>\n",
       "      <td>35000.0</td>\n",
       "      <td>13.33</td>\n",
       "      <td>1184.86</td>\n",
       "      <td>9452.96</td>\n",
       "      <td>5</td>\n",
       "      <td>1</td>\n",
       "      <td>36</td>\n",
       "      <td>C</td>\n",
       "      <td>C3</td>\n",
       "      <td>1</td>\n",
       "    </tr>\n",
       "    <tr>\n",
       "      <th>2</th>\n",
       "      <td>57693261.0</td>\n",
       "      <td>30000.0</td>\n",
       "      <td>30000.0</td>\n",
       "      <td>68616520.0</td>\n",
       "      <td>938.57</td>\n",
       "      <td>4679.7</td>\n",
       "      <td></td>\n",
       "      <td>1</td>\n",
       "      <td>36</td>\n",
       "      <td>A</td>\n",
       "      <td>A5</td>\n",
       "      <td>1</td>\n",
       "    </tr>\n",
       "    <tr>\n",
       "      <th>3</th>\n",
       "      <td>59432726.0</td>\n",
       "      <td>15000.0</td>\n",
       "      <td>15000.0</td>\n",
       "      <td>68616520.0</td>\n",
       "      <td>494.86</td>\n",
       "      <td>1969.83</td>\n",
       "      <td>9</td>\n",
       "      <td>1</td>\n",
       "      <td>36</td>\n",
       "      <td>B</td>\n",
       "      <td>B5</td>\n",
       "      <td>1</td>\n",
       "    </tr>\n",
       "    <tr>\n",
       "      <th>4</th>\n",
       "      <td>53222800.0</td>\n",
       "      <td>9600.0</td>\n",
       "      <td>9600.0</td>\n",
       "      <td>68616520.0</td>\n",
       "      <td>300.35</td>\n",
       "      <td>1793.68</td>\n",
       "      <td>7</td>\n",
       "      <td>1</td>\n",
       "      <td>36</td>\n",
       "      <td>A</td>\n",
       "      <td>A5</td>\n",
       "      <td>0</td>\n",
       "    </tr>\n",
       "    <tr>\n",
       "      <th>5</th>\n",
       "      <td>57803010.0</td>\n",
       "      <td>8075.0</td>\n",
       "      <td>8075.0</td>\n",
       "      <td>19.19</td>\n",
       "      <td>296.78</td>\n",
       "      <td>1178.51</td>\n",
       "      <td>8</td>\n",
       "      <td>1</td>\n",
       "      <td>36</td>\n",
       "      <td>B</td>\n",
       "      <td>E3</td>\n",
       "      <td>1</td>\n",
       "    </tr>\n",
       "    <tr>\n",
       "      <th>...</th>\n",
       "      <td>...</td>\n",
       "      <td>...</td>\n",
       "      <td>...</td>\n",
       "      <td>...</td>\n",
       "      <td>...</td>\n",
       "      <td>...</td>\n",
       "      <td>...</td>\n",
       "      <td>...</td>\n",
       "      <td>...</td>\n",
       "      <td>...</td>\n",
       "      <td>...</td>\n",
       "      <td>...</td>\n",
       "    </tr>\n",
       "    <tr>\n",
       "      <th>9996</th>\n",
       "      <td>42974433.0</td>\n",
       "      <td>18000.0</td>\n",
       "      <td>18000.0</td>\n",
       "      <td>68616520.0</td>\n",
       "      <td>565.56</td>\n",
       "      <td>5639.24</td>\n",
       "      <td>3</td>\n",
       "      <td>1</td>\n",
       "      <td>36</td>\n",
       "      <td>B</td>\n",
       "      <td>B1</td>\n",
       "      <td>1</td>\n",
       "    </tr>\n",
       "    <tr>\n",
       "      <th>9997</th>\n",
       "      <td>45424654.0</td>\n",
       "      <td>11300.0</td>\n",
       "      <td>11300.0</td>\n",
       "      <td>68616520.0</td>\n",
       "      <td>364.57</td>\n",
       "      <td>3274.86</td>\n",
       "      <td>4</td>\n",
       "      <td>1</td>\n",
       "      <td>36</td>\n",
       "      <td>B</td>\n",
       "      <td>B3</td>\n",
       "      <td>0</td>\n",
       "    </tr>\n",
       "    <tr>\n",
       "      <th>9998</th>\n",
       "      <td>50415990.0</td>\n",
       "      <td>10000.0</td>\n",
       "      <td>10000.0</td>\n",
       "      <td>68616520.0</td>\n",
       "      <td>68616520.0</td>\n",
       "      <td>2185.64</td>\n",
       "      <td>6</td>\n",
       "      <td>1</td>\n",
       "      <td>36</td>\n",
       "      <td>A</td>\n",
       "      <td>A5</td>\n",
       "      <td>1</td>\n",
       "    </tr>\n",
       "    <tr>\n",
       "      <th>9999</th>\n",
       "      <td>46154151.0</td>\n",
       "      <td>68616520.0</td>\n",
       "      <td>10000.0</td>\n",
       "      <td>16.55</td>\n",
       "      <td>354.3</td>\n",
       "      <td>3199.4</td>\n",
       "      <td>4</td>\n",
       "      <td>1</td>\n",
       "      <td>36</td>\n",
       "      <td>D</td>\n",
       "      <td>D2</td>\n",
       "      <td>1</td>\n",
       "    </tr>\n",
       "    <tr>\n",
       "      <th>10000</th>\n",
       "      <td>66055249.0</td>\n",
       "      <td>10000.0</td>\n",
       "      <td>10000.0</td>\n",
       "      <td>68616520.0</td>\n",
       "      <td>309.97</td>\n",
       "      <td>301.9</td>\n",
       "      <td>12</td>\n",
       "      <td>1</td>\n",
       "      <td>36</td>\n",
       "      <td>A</td>\n",
       "      <td>A4</td>\n",
       "      <td>0</td>\n",
       "    </tr>\n",
       "  </tbody>\n",
       "</table>\n",
       "<p>10000 rows × 12 columns</p>\n",
       "</div>"
      ],
      "text/plain": [
       "0              id   loan_amnt funded_amnt    int_rate installment total_pymnt  \\\n",
       "1      48010226.0     35000.0     35000.0       13.33     1184.86     9452.96   \n",
       "2      57693261.0     30000.0     30000.0  68616520.0      938.57      4679.7   \n",
       "3      59432726.0     15000.0     15000.0  68616520.0      494.86     1969.83   \n",
       "4      53222800.0      9600.0      9600.0  68616520.0      300.35     1793.68   \n",
       "5      57803010.0      8075.0      8075.0       19.19      296.78     1178.51   \n",
       "...           ...         ...         ...         ...         ...         ...   \n",
       "9996   42974433.0     18000.0     18000.0  68616520.0      565.56     5639.24   \n",
       "9997   45424654.0     11300.0     11300.0  68616520.0      364.57     3274.86   \n",
       "9998   50415990.0     10000.0     10000.0  68616520.0  68616520.0     2185.64   \n",
       "9999   46154151.0  68616520.0     10000.0       16.55       354.3      3199.4   \n",
       "10000  66055249.0     10000.0     10000.0  68616520.0      309.97       301.9   \n",
       "\n",
       "0     issue_date loan_status term_months grade sub_grade verification_status  \n",
       "1              5           1          36     C        C3                   1  \n",
       "2                          1          36     A        A5                   1  \n",
       "3              9           1          36     B        B5                   1  \n",
       "4              7           1          36     A        A5                   0  \n",
       "5              8           1          36     B        E3                   1  \n",
       "...          ...         ...         ...   ...       ...                 ...  \n",
       "9996           3           1          36     B        B1                   1  \n",
       "9997           4           1          36     B        B3                   0  \n",
       "9998           6           1          36     A        A5                   1  \n",
       "9999           4           1          36     D        D2                   1  \n",
       "10000         12           1          36     A        A4                   0  \n",
       "\n",
       "[10000 rows x 12 columns]"
      ]
     },
     "execution_count": 121,
     "metadata": {},
     "output_type": "execute_result"
    }
   ],
   "source": [
    "analysis_data=pd.DataFrame(final_data)\n",
    "header_row=0\n",
    "analysis_data.columns=analysis_data.iloc[header_row]\n",
    "analysis_data=analysis_data.drop([0])\n",
    "analysis_data.reset_index()\n",
    "analysis_data\n",
    "analysis_data.reset_index()\n",
    "analysis_data"
   ]
  },
  {
   "cell_type": "code",
   "execution_count": null,
   "id": "9532419d",
   "metadata": {},
   "outputs": [],
   "source": []
  }
 ],
 "metadata": {
  "kernelspec": {
   "display_name": "Python 3 (ipykernel)",
   "language": "python",
   "name": "python3"
  },
  "language_info": {
   "codemirror_mode": {
    "name": "ipython",
    "version": 3
   },
   "file_extension": ".py",
   "mimetype": "text/x-python",
   "name": "python",
   "nbconvert_exporter": "python",
   "pygments_lexer": "ipython3",
   "version": "3.9.7"
  }
 },
 "nbformat": 4,
 "nbformat_minor": 5
}
