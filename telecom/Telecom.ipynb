{
 "cells": [
  {
   "cell_type": "code",
   "execution_count": 1,
   "id": "f57d654f",
   "metadata": {},
   "outputs": [
    {
     "name": "stderr",
     "output_type": "stream",
     "text": [
      "C:\\Users\\ABINESH\\anaconda3\\lib\\site-packages\\scipy\\__init__.py:146: UserWarning: A NumPy version >=1.16.5 and <1.23.0 is required for this version of SciPy (detected version 1.24.2\n",
      "  warnings.warn(f\"A NumPy version >={np_minversion} and <{np_maxversion}\"\n"
     ]
    }
   ],
   "source": [
    "##importing necessory libraries\n",
    "import numpy as np\n",
    "import pandas as pd\n",
    "import matplotlib.pyplot as plt\n",
    "import seaborn as sns\n"
   ]
  },
  {
   "cell_type": "code",
   "execution_count": 2,
   "id": "545e0954",
   "metadata": {},
   "outputs": [
    {
     "data": {
      "text/html": [
       "<div>\n",
       "<style scoped>\n",
       "    .dataframe tbody tr th:only-of-type {\n",
       "        vertical-align: middle;\n",
       "    }\n",
       "\n",
       "    .dataframe tbody tr th {\n",
       "        vertical-align: top;\n",
       "    }\n",
       "\n",
       "    .dataframe thead th {\n",
       "        text-align: right;\n",
       "    }\n",
       "</style>\n",
       "<table border=\"1\" class=\"dataframe\">\n",
       "  <thead>\n",
       "    <tr style=\"text-align: right;\">\n",
       "      <th></th>\n",
       "      <th>date</th>\n",
       "      <th>city_code</th>\n",
       "      <th>company</th>\n",
       "      <th>atliqo_revenue_crores</th>\n",
       "      <th>arpu</th>\n",
       "      <th>active_users_lakhs</th>\n",
       "      <th>unsubscribed_users_lakhs</th>\n",
       "    </tr>\n",
       "  </thead>\n",
       "  <tbody>\n",
       "    <tr>\n",
       "      <th>0</th>\n",
       "      <td>01-Jan-22</td>\n",
       "      <td>400001</td>\n",
       "      <td>Atliqo</td>\n",
       "      <td>60.69</td>\n",
       "      <td>192</td>\n",
       "      <td>31.61</td>\n",
       "      <td>1.90</td>\n",
       "    </tr>\n",
       "    <tr>\n",
       "      <th>1</th>\n",
       "      <td>01-Jan-22</td>\n",
       "      <td>110001</td>\n",
       "      <td>Atliqo</td>\n",
       "      <td>42.71</td>\n",
       "      <td>175</td>\n",
       "      <td>24.41</td>\n",
       "      <td>1.31</td>\n",
       "    </tr>\n",
       "    <tr>\n",
       "      <th>2</th>\n",
       "      <td>01-Jan-22</td>\n",
       "      <td>700001</td>\n",
       "      <td>Atliqo</td>\n",
       "      <td>36.91</td>\n",
       "      <td>175</td>\n",
       "      <td>21.09</td>\n",
       "      <td>1.25</td>\n",
       "    </tr>\n",
       "    <tr>\n",
       "      <th>3</th>\n",
       "      <td>01-Jan-22</td>\n",
       "      <td>560001</td>\n",
       "      <td>Atliqo</td>\n",
       "      <td>37.40</td>\n",
       "      <td>175</td>\n",
       "      <td>21.37</td>\n",
       "      <td>1.39</td>\n",
       "    </tr>\n",
       "    <tr>\n",
       "      <th>4</th>\n",
       "      <td>01-Jan-22</td>\n",
       "      <td>600001</td>\n",
       "      <td>Atliqo</td>\n",
       "      <td>30.80</td>\n",
       "      <td>203</td>\n",
       "      <td>15.17</td>\n",
       "      <td>1.12</td>\n",
       "    </tr>\n",
       "    <tr>\n",
       "      <th>...</th>\n",
       "      <td>...</td>\n",
       "      <td>...</td>\n",
       "      <td>...</td>\n",
       "      <td>...</td>\n",
       "      <td>...</td>\n",
       "      <td>...</td>\n",
       "      <td>...</td>\n",
       "    </tr>\n",
       "    <tr>\n",
       "      <th>115</th>\n",
       "      <td>01-Sep-22</td>\n",
       "      <td>800008</td>\n",
       "      <td>Atliqo</td>\n",
       "      <td>11.86</td>\n",
       "      <td>250</td>\n",
       "      <td>4.74</td>\n",
       "      <td>0.38</td>\n",
       "    </tr>\n",
       "    <tr>\n",
       "      <th>116</th>\n",
       "      <td>01-Sep-22</td>\n",
       "      <td>641001</td>\n",
       "      <td>Atliqo</td>\n",
       "      <td>8.59</td>\n",
       "      <td>177</td>\n",
       "      <td>4.85</td>\n",
       "      <td>0.53</td>\n",
       "    </tr>\n",
       "    <tr>\n",
       "      <th>117</th>\n",
       "      <td>01-Sep-22</td>\n",
       "      <td>160017</td>\n",
       "      <td>Atliqo</td>\n",
       "      <td>10.32</td>\n",
       "      <td>163</td>\n",
       "      <td>6.33</td>\n",
       "      <td>0.63</td>\n",
       "    </tr>\n",
       "    <tr>\n",
       "      <th>118</th>\n",
       "      <td>01-Sep-22</td>\n",
       "      <td>122001</td>\n",
       "      <td>Atliqo</td>\n",
       "      <td>6.35</td>\n",
       "      <td>238</td>\n",
       "      <td>2.67</td>\n",
       "      <td>0.21</td>\n",
       "    </tr>\n",
       "    <tr>\n",
       "      <th>119</th>\n",
       "      <td>01-Sep-22</td>\n",
       "      <td>492001</td>\n",
       "      <td>Atliqo</td>\n",
       "      <td>3.73</td>\n",
       "      <td>173</td>\n",
       "      <td>2.16</td>\n",
       "      <td>0.18</td>\n",
       "    </tr>\n",
       "  </tbody>\n",
       "</table>\n",
       "<p>120 rows × 7 columns</p>\n",
       "</div>"
      ],
      "text/plain": [
       "          date  city_code company  atliqo_revenue_crores  arpu  \\\n",
       "0    01-Jan-22     400001  Atliqo                  60.69   192   \n",
       "1    01-Jan-22     110001  Atliqo                  42.71   175   \n",
       "2    01-Jan-22     700001  Atliqo                  36.91   175   \n",
       "3    01-Jan-22     560001  Atliqo                  37.40   175   \n",
       "4    01-Jan-22     600001  Atliqo                  30.80   203   \n",
       "..         ...        ...     ...                    ...   ...   \n",
       "115  01-Sep-22     800008  Atliqo                  11.86   250   \n",
       "116  01-Sep-22     641001  Atliqo                   8.59   177   \n",
       "117  01-Sep-22     160017  Atliqo                  10.32   163   \n",
       "118  01-Sep-22     122001  Atliqo                   6.35   238   \n",
       "119  01-Sep-22     492001  Atliqo                   3.73   173   \n",
       "\n",
       "     active_users_lakhs  unsubscribed_users_lakhs  \n",
       "0                 31.61                      1.90  \n",
       "1                 24.41                      1.31  \n",
       "2                 21.09                      1.25  \n",
       "3                 21.37                      1.39  \n",
       "4                 15.17                      1.12  \n",
       "..                  ...                       ...  \n",
       "115                4.74                      0.38  \n",
       "116                4.85                      0.53  \n",
       "117                6.33                      0.63  \n",
       "118                2.67                      0.21  \n",
       "119                2.16                      0.18  \n",
       "\n",
       "[120 rows x 7 columns]"
      ]
     },
     "execution_count": 2,
     "metadata": {},
     "output_type": "execute_result"
    }
   ],
   "source": [
    "## Importing data\n",
    "atlqio_metrics=pd.read_csv(\"D:/python practice projects/telecom/C3 Input_for_Participants/fact_atliqo_metrics.csv\")\n",
    "atlqio_metrics"
   ]
  },
  {
   "cell_type": "code",
   "execution_count": 3,
   "id": "659be463",
   "metadata": {},
   "outputs": [
    {
     "data": {
      "text/plain": [
       "date                        0\n",
       "city_code                   0\n",
       "company                     0\n",
       "atliqo_revenue_crores       0\n",
       "arpu                        0\n",
       "active_users_lakhs          0\n",
       "unsubscribed_users_lakhs    0\n",
       "dtype: int64"
      ]
     },
     "execution_count": 3,
     "metadata": {},
     "output_type": "execute_result"
    }
   ],
   "source": [
    "## Data celaning procedures\n",
    "## Looking for null values in all the column\n",
    "atlqio_metrics.isnull().sum()"
   ]
  },
  {
   "cell_type": "code",
   "execution_count": 4,
   "id": "5ce8778d",
   "metadata": {},
   "outputs": [
    {
     "name": "stderr",
     "output_type": "stream",
     "text": [
      "C:\\Users\\ABINESH\\anaconda3\\lib\\site-packages\\seaborn\\_decorators.py:36: FutureWarning: Pass the following variable as a keyword arg: x. From version 0.12, the only valid positional argument will be `data`, and passing other arguments without an explicit keyword will result in an error or misinterpretation.\n",
      "  warnings.warn(\n"
     ]
    },
    {
     "data": {
      "text/plain": [
       "<AxesSubplot:xlabel='atliqo_revenue_crores'>"
      ]
     },
     "execution_count": 4,
     "metadata": {},
     "output_type": "execute_result"
    },
    {
     "data": {
      "image/png": "[encoded data removed]",
      "text/plain": [
       "<Figure size 432x288 with 1 Axes>"
      ]
     },
     "metadata": {
      "needs_background": "light"
     },
     "output_type": "display_data"
    }
   ],
   "source": [
    "## Looking for outliers in the atliqo_revenue_crores column\n",
    "sns.boxplot(atlqio_metrics[\"atliqo_revenue_crores\"])"
   ]
  },
  {
   "cell_type": "code",
   "execution_count": 13,
   "id": "016c30d9",
   "metadata": {},
   "outputs": [
    {
     "name": "stdout",
     "output_type": "stream",
     "text": [
      "The total revenue generated in crores by atlqio is 3187.36\n"
     ]
    }
   ],
   "source": [
    "## Total revenue generated by atlqio\n",
    "\n",
    "tot_rev=atlqio_metrics[\"atliqo_revenue_crores\"].sum()\n",
    "tot_rev\n",
    "print(\"The total revenue generated in crores by atlqio is\",tot_rev)"
   ]
  },
  {
   "cell_type": "code",
   "execution_count": 14,
   "id": "057c8537",
   "metadata": {},
   "outputs": [
    {
     "name": "stdout",
     "output_type": "stream",
     "text": [
      "The average revenue generated in crores is 26.56\n"
     ]
    }
   ],
   "source": [
    "## Average revenue generated\n",
    "avg_rev=atlqio_metrics[\"atliqo_revenue_crores\"].mean()\n",
    "round(avg_rev,2)\n",
    "print(\"The average revenue generated in crores is\",round(avg_rev,2))"
   ]
  },
  {
   "cell_type": "code",
   "execution_count": 15,
   "id": "e50710c6",
   "metadata": {},
   "outputs": [
    {
     "name": "stderr",
     "output_type": "stream",
     "text": [
      "C:\\Users\\ABINESH\\anaconda3\\lib\\site-packages\\seaborn\\_decorators.py:36: FutureWarning: Pass the following variable as a keyword arg: x. From version 0.12, the only valid positional argument will be `data`, and passing other arguments without an explicit keyword will result in an error or misinterpretation.\n",
      "  warnings.warn(\n"
     ]
    },
    {
     "data": {
      "text/plain": [
       "<AxesSubplot:xlabel='arpu'>"
      ]
     },
     "execution_count": 15,
     "metadata": {},
     "output_type": "execute_result"
    },
    {
     "data": {
      "image/png": "[encoded data removed]",
      "text/plain": [
       "<Figure size 432x288 with 1 Axes>"
      ]
     },
     "metadata": {
      "needs_background": "light"
     },
     "output_type": "display_data"
    }
   ],
   "source": [
    "##looking for outliers in arpu column\n",
    "\n",
    "sns.boxplot(atlqio_metrics[\"arpu\"])"
   ]
  },
  {
   "cell_type": "code",
   "execution_count": 18,
   "id": "cbd92d33",
   "metadata": {},
   "outputs": [
    {
     "name": "stdout",
     "output_type": "stream",
     "text": [
      "The average revenue per user is 200.74\n"
     ]
    }
   ],
   "source": [
    "## Average revenue per user\n",
    "\n",
    "avg_rev_per_user=atlqio_metrics[\"arpu\"].mean()\n",
    "round(avg_rev_per_user,2)\n",
    "print(\"The average revenue per user is\",round(avg_rev_per_user,2))"
   ]
  },
  {
   "cell_type": "code",
   "execution_count": 20,
   "id": "dc9a7999",
   "metadata": {},
   "outputs": [
    {
     "name": "stderr",
     "output_type": "stream",
     "text": [
      "C:\\Users\\ABINESH\\anaconda3\\lib\\site-packages\\seaborn\\_decorators.py:36: FutureWarning: Pass the following variable as a keyword arg: x. From version 0.12, the only valid positional argument will be `data`, and passing other arguments without an explicit keyword will result in an error or misinterpretation.\n",
      "  warnings.warn(\n"
     ]
    },
    {
     "data": {
      "text/plain": [
       "<AxesSubplot:xlabel='active_users_lakhs'>"
      ]
     },
     "execution_count": 20,
     "metadata": {},
     "output_type": "execute_result"
    },
    {
     "data": {
      "image/png": "[encoded data removed]",
      "text/plain": [
       "<Figure size 432x288 with 1 Axes>"
      ]
     },
     "metadata": {
      "needs_background": "light"
     },
     "output_type": "display_data"
    }
   ],
   "source": [
    "## looking for outliers in active_users_lakhs column\n",
    "\n",
    "sns.boxplot(atlqio_metrics[\"active_users_lakhs\"])"
   ]
  },
  {
   "cell_type": "code",
   "execution_count": 23,
   "id": "e342aba6",
   "metadata": {},
   "outputs": [
    {
     "name": "stdout",
     "output_type": "stream",
     "text": [
      "The total active users in lakhs is 1617.23\n"
     ]
    }
   ],
   "source": [
    "## Total active users\n",
    "\n",
    "total_users=atlqio_metrics[\"active_users_lakhs\"].sum()\n",
    "print(\"The total active users in lakhs is\",total_users)"
   ]
  },
  {
   "cell_type": "code",
   "execution_count": 30,
   "id": "6caf4ea8",
   "metadata": {},
   "outputs": [
    {
     "data": {
      "text/plain": [
       "date                        datetime64[ns]\n",
       "city_code                            int64\n",
       "company                             object\n",
       "atliqo_revenue_crores              float64\n",
       "arpu                                 int64\n",
       "active_users_lakhs                 float64\n",
       "unsubscribed_users_lakhs           float64\n",
       "dtype: object"
      ]
     },
     "execution_count": 30,
     "metadata": {},
     "output_type": "execute_result"
    }
   ],
   "source": [
    "## Average of active users per month\n",
    "atlqio_metrics[\"date\"]=pd.to_datetime(atlqio_metrics[\"date\"])\n",
    "atlqio_metrics.dtypes"
   ]
  },
  {
   "cell_type": "code",
   "execution_count": 240,
   "id": "4df8034b",
   "metadata": {},
   "outputs": [
    {
     "data": {
      "text/plain": [
       "<Figure size 360x216 with 0 Axes>"
      ]
     },
     "execution_count": 240,
     "metadata": {},
     "output_type": "execute_result"
    },
    {
     "data": {
      "image/png": "[encoded data removed]",
      "text/plain": [
       "<Figure size 432x288 with 1 Axes>"
      ]
     },
     "metadata": {
      "needs_background": "light"
     },
     "output_type": "display_data"
    },
    {
     "data": {
      "text/plain": [
       "<Figure size 360x216 with 0 Axes>"
      ]
     },
     "metadata": {},
     "output_type": "display_data"
    }
   ],
   "source": [
    "atlqio_metrics[\"date\"].dt.month\n",
    "atlqio_metrics[\"Month\"]=atlqio_metrics[\"date\"].dt.month\n",
    "avg_users=atlqio_metrics.groupby(\"Month\").agg(avg_active_users_month=(\"active_users_lakhs\",\"mean\"))\n",
    "avg_users=avg_users.reset_index()\n",
    "plt.bar(avg_users[\"Month\"],avg_users[\"avg_active_users_month\"],color=[\"r\",\"g\",\"b\",\"brown\",\"y\",\"c\",\"m\",\"pink\"])\n",
    "plt.xlabel(\"Month\",fontsize=16)\n",
    "plt.ylabel(\"Avg active users\",fontsize=16)\n",
    "plt.title(\"Average active users per month\")\n",
    "plt.figure(figsize=(5,3))"
   ]
  },
  {
   "cell_type": "code",
   "execution_count": 79,
   "id": "aa56cf48",
   "metadata": {},
   "outputs": [
    {
     "data": {
      "text/plain": [
       "125.9"
      ]
     },
     "execution_count": 79,
     "metadata": {},
     "output_type": "execute_result"
    }
   ],
   "source": [
    "## Total unsubscribed users\n",
    "atlqio_metrics[\"unsubscribed_users_lakhs\"].sum()"
   ]
  },
  {
   "cell_type": "code",
   "execution_count": 77,
   "id": "3e6abea5",
   "metadata": {},
   "outputs": [
    {
     "data": {
      "text/html": [
       "<div>\n",
       "<style scoped>\n",
       "    .dataframe tbody tr th:only-of-type {\n",
       "        vertical-align: middle;\n",
       "    }\n",
       "\n",
       "    .dataframe tbody tr th {\n",
       "        vertical-align: top;\n",
       "    }\n",
       "\n",
       "    .dataframe thead th {\n",
       "        text-align: right;\n",
       "    }\n",
       "</style>\n",
       "<table border=\"1\" class=\"dataframe\">\n",
       "  <thead>\n",
       "    <tr style=\"text-align: right;\">\n",
       "      <th></th>\n",
       "      <th>date</th>\n",
       "      <th>city_code</th>\n",
       "      <th>tmv_city_crores</th>\n",
       "      <th>company</th>\n",
       "      <th>ms_pct</th>\n",
       "    </tr>\n",
       "  </thead>\n",
       "  <tbody>\n",
       "    <tr>\n",
       "      <th>0</th>\n",
       "      <td>01-Jan-22</td>\n",
       "      <td>400001</td>\n",
       "      <td>286.29</td>\n",
       "      <td>Atliqo</td>\n",
       "      <td>21.20</td>\n",
       "    </tr>\n",
       "    <tr>\n",
       "      <th>1</th>\n",
       "      <td>01-Jan-22</td>\n",
       "      <td>110001</td>\n",
       "      <td>241.59</td>\n",
       "      <td>Atliqo</td>\n",
       "      <td>17.68</td>\n",
       "    </tr>\n",
       "    <tr>\n",
       "      <th>2</th>\n",
       "      <td>01-Jan-22</td>\n",
       "      <td>700001</td>\n",
       "      <td>222.19</td>\n",
       "      <td>Atliqo</td>\n",
       "      <td>16.61</td>\n",
       "    </tr>\n",
       "    <tr>\n",
       "      <th>3</th>\n",
       "      <td>01-Jan-22</td>\n",
       "      <td>560001</td>\n",
       "      <td>195.41</td>\n",
       "      <td>Atliqo</td>\n",
       "      <td>19.14</td>\n",
       "    </tr>\n",
       "    <tr>\n",
       "      <th>4</th>\n",
       "      <td>01-Jan-22</td>\n",
       "      <td>600001</td>\n",
       "      <td>166.78</td>\n",
       "      <td>Atliqo</td>\n",
       "      <td>18.47</td>\n",
       "    </tr>\n",
       "    <tr>\n",
       "      <th>...</th>\n",
       "      <td>...</td>\n",
       "      <td>...</td>\n",
       "      <td>...</td>\n",
       "      <td>...</td>\n",
       "      <td>...</td>\n",
       "    </tr>\n",
       "    <tr>\n",
       "      <th>595</th>\n",
       "      <td>01-Sep-22</td>\n",
       "      <td>800008</td>\n",
       "      <td>68.74</td>\n",
       "      <td>Others</td>\n",
       "      <td>5.87</td>\n",
       "    </tr>\n",
       "    <tr>\n",
       "      <th>596</th>\n",
       "      <td>01-Sep-22</td>\n",
       "      <td>641001</td>\n",
       "      <td>60.90</td>\n",
       "      <td>Others</td>\n",
       "      <td>7.22</td>\n",
       "    </tr>\n",
       "    <tr>\n",
       "      <th>597</th>\n",
       "      <td>01-Sep-22</td>\n",
       "      <td>160017</td>\n",
       "      <td>44.33</td>\n",
       "      <td>Others</td>\n",
       "      <td>7.35</td>\n",
       "    </tr>\n",
       "    <tr>\n",
       "      <th>598</th>\n",
       "      <td>01-Sep-22</td>\n",
       "      <td>122001</td>\n",
       "      <td>34.48</td>\n",
       "      <td>Others</td>\n",
       "      <td>7.30</td>\n",
       "    </tr>\n",
       "    <tr>\n",
       "      <th>599</th>\n",
       "      <td>01-Sep-22</td>\n",
       "      <td>492001</td>\n",
       "      <td>21.50</td>\n",
       "      <td>Others</td>\n",
       "      <td>7.83</td>\n",
       "    </tr>\n",
       "  </tbody>\n",
       "</table>\n",
       "<p>600 rows × 5 columns</p>\n",
       "</div>"
      ],
      "text/plain": [
       "          date  city_code  tmv_city_crores company  ms_pct\n",
       "0    01-Jan-22     400001           286.29  Atliqo   21.20\n",
       "1    01-Jan-22     110001           241.59  Atliqo   17.68\n",
       "2    01-Jan-22     700001           222.19  Atliqo   16.61\n",
       "3    01-Jan-22     560001           195.41  Atliqo   19.14\n",
       "4    01-Jan-22     600001           166.78  Atliqo   18.47\n",
       "..         ...        ...              ...     ...     ...\n",
       "595  01-Sep-22     800008            68.74  Others    5.87\n",
       "596  01-Sep-22     641001            60.90  Others    7.22\n",
       "597  01-Sep-22     160017            44.33  Others    7.35\n",
       "598  01-Sep-22     122001            34.48  Others    7.30\n",
       "599  01-Sep-22     492001            21.50  Others    7.83\n",
       "\n",
       "[600 rows x 5 columns]"
      ]
     },
     "execution_count": 77,
     "metadata": {},
     "output_type": "execute_result"
    }
   ],
   "source": [
    "##Importing market share data\n",
    "\n",
    "market_share=pd.read_csv(\"D:/python practice projects/telecom/C3 Input_for_Participants/fact_market_share.csv\")\n",
    "market_share"
   ]
  },
  {
   "cell_type": "code",
   "execution_count": 52,
   "id": "a7a1343b",
   "metadata": {},
   "outputs": [
    {
     "data": {
      "text/plain": [
       "19.56"
      ]
     },
     "execution_count": 52,
     "metadata": {},
     "output_type": "execute_result"
    }
   ],
   "source": [
    "## average market share captured by atliqo\n",
    "market_share[market_share[\"company\"]==\"Atliqo\"][\"ms_pct\"].mean()"
   ]
  },
  {
   "cell_type": "code",
   "execution_count": 54,
   "id": "32ad1dd7",
   "metadata": {},
   "outputs": [
    {
     "data": {
      "text/plain": [
       "7.231583333333335"
      ]
     },
     "execution_count": 54,
     "metadata": {},
     "output_type": "execute_result"
    }
   ],
   "source": [
    "## overall market share by all the companies\n",
    "\n",
    "market_share[market_share[\"company\"]==\"Atliqo\"][\"ms_pct\"].mean()\n",
    "market_share[market_share[\"company\"]==\"Britel\"][\"ms_pct\"].mean()\n",
    "market_share[market_share[\"company\"]==\"PIO\"][\"ms_pct\"].mean()\n",
    "market_share[market_share[\"company\"]==\"DADAFONE\"][\"ms_pct\"].mean()\n",
    "market_share[market_share[\"company\"]==\"Others\"][\"ms_pct\"].mean()"
   ]
  },
  {
   "cell_type": "code",
   "execution_count": 225,
   "id": "04092579",
   "metadata": {},
   "outputs": [],
   "source": [
    "overall_market_share=pd.DataFrame({\"company\":[\"Atliqo\",\"Britel\",\"PIO\",\"DADAFONE\",\"Others\"],\n",
    "                                  \"market_share_com\":[round(market_share[market_share[\"company\"]==\"Atliqo\"][\"ms_pct\"].mean(),2),\n",
    "                                                     round(market_share[market_share[\"company\"]==\"Britel\"][\"ms_pct\"].mean(),2),\n",
    "                                                     round(market_share[market_share[\"company\"]==\"PIO\"][\"ms_pct\"].mean(),2),\n",
    "                                                     round(market_share[market_share[\"company\"]==\"DADAFONE\"][\"ms_pct\"].mean(),2),\n",
    "                                                     round(market_share[market_share[\"company\"]==\"Others\"][\"ms_pct\"].mean(),2)]})"
   ]
  },
  {
   "cell_type": "code",
   "execution_count": 226,
   "id": "13351a9a",
   "metadata": {},
   "outputs": [
    {
     "data": {
      "text/html": [
       "<div>\n",
       "<style scoped>\n",
       "    .dataframe tbody tr th:only-of-type {\n",
       "        vertical-align: middle;\n",
       "    }\n",
       "\n",
       "    .dataframe tbody tr th {\n",
       "        vertical-align: top;\n",
       "    }\n",
       "\n",
       "    .dataframe thead th {\n",
       "        text-align: right;\n",
       "    }\n",
       "</style>\n",
       "<table border=\"1\" class=\"dataframe\">\n",
       "  <thead>\n",
       "    <tr style=\"text-align: right;\">\n",
       "      <th></th>\n",
       "      <th>company</th>\n",
       "      <th>market_share_com</th>\n",
       "    </tr>\n",
       "  </thead>\n",
       "  <tbody>\n",
       "    <tr>\n",
       "      <th>0</th>\n",
       "      <td>Atliqo</td>\n",
       "      <td>19.56</td>\n",
       "    </tr>\n",
       "    <tr>\n",
       "      <th>1</th>\n",
       "      <td>Britel</td>\n",
       "      <td>27.49</td>\n",
       "    </tr>\n",
       "    <tr>\n",
       "      <th>2</th>\n",
       "      <td>PIO</td>\n",
       "      <td>35.42</td>\n",
       "    </tr>\n",
       "    <tr>\n",
       "      <th>3</th>\n",
       "      <td>DADAFONE</td>\n",
       "      <td>10.31</td>\n",
       "    </tr>\n",
       "    <tr>\n",
       "      <th>4</th>\n",
       "      <td>Others</td>\n",
       "      <td>7.23</td>\n",
       "    </tr>\n",
       "  </tbody>\n",
       "</table>\n",
       "</div>"
      ],
      "text/plain": [
       "    company  market_share_com\n",
       "0    Atliqo             19.56\n",
       "1    Britel             27.49\n",
       "2       PIO             35.42\n",
       "3  DADAFONE             10.31\n",
       "4    Others              7.23"
      ]
     },
     "execution_count": 226,
     "metadata": {},
     "output_type": "execute_result"
    }
   ],
   "source": [
    "overall_market_share"
   ]
  },
  {
   "cell_type": "code",
   "execution_count": 230,
   "id": "499bd505",
   "metadata": {},
   "outputs": [
    {
     "data": {
      "image/png": "[encoded data removed]",
      "text/plain": [
       "<Figure size 648x432 with 1 Axes>"
      ]
     },
     "metadata": {
      "needs_background": "light"
     },
     "output_type": "display_data"
    }
   ],
   "source": [
    "plt.figure(figsize=(9,6))\n",
    "plt.bar(overall_market_share[\"company\"],overall_market_share[\"market_share_com\"],color=[\"r\",\"g\",\"b\",\"brown\",\"y\"])\n",
    "plt.title(\"Market share captured by each company\")\n",
    "plt.xlabel(\"Companies\",fontsize=16)\n",
    "plt.ylabel(\"% Market share\",fontsize=16)\n",
    "for index,data in enumerate(overall_market_share[\"market_share_com\"]):\n",
    "    plt.text(x=index,y=data+0.3 , s=f\"{data}\",ha=\"center\")"
   ]
  },
  {
   "cell_type": "code",
   "execution_count": 243,
   "id": "402df28b",
   "metadata": {},
   "outputs": [
    {
     "data": {
      "image/png": "[encoded data removed]",
      "text/plain": [
       "<Figure size 432x288 with 1 Axes>"
      ]
     },
     "metadata": {},
     "output_type": "display_data"
    },
    {
     "data": {
      "text/plain": [
       "Text(0.5, 1.0, 'Market share captured by each company')"
      ]
     },
     "execution_count": 243,
     "metadata": {},
     "output_type": "execute_result"
    },
    {
     "data": {
      "image/png": "[encoded data removed]",
      "text/plain": [
       "<Figure size 432x288 with 1 Axes>"
      ]
     },
     "metadata": {
      "needs_background": "light"
     },
     "output_type": "display_data"
    }
   ],
   "source": [
    "exp=[0.2,0,0,0,0]\n",
    "plt.pie(overall_market_share[\"market_share_com\"],labels=overall_market_share[\"company\"],explode=exp,autopct=\"%2.2f%%\")\n",
    "plt.show()\n",
    "plt.title(\"Market share captured by each company\")"
   ]
  },
  {
   "cell_type": "code",
   "execution_count": 63,
   "id": "163e88f8",
   "metadata": {},
   "outputs": [
    {
     "data": {
      "text/html": [
       "<div>\n",
       "<style scoped>\n",
       "    .dataframe tbody tr th:only-of-type {\n",
       "        vertical-align: middle;\n",
       "    }\n",
       "\n",
       "    .dataframe tbody tr th {\n",
       "        vertical-align: top;\n",
       "    }\n",
       "\n",
       "    .dataframe thead th {\n",
       "        text-align: right;\n",
       "    }\n",
       "</style>\n",
       "<table border=\"1\" class=\"dataframe\">\n",
       "  <thead>\n",
       "    <tr style=\"text-align: right;\">\n",
       "      <th></th>\n",
       "      <th>date</th>\n",
       "      <th>month_name</th>\n",
       "      <th>before/after_5g</th>\n",
       "      <th>time_period</th>\n",
       "    </tr>\n",
       "  </thead>\n",
       "  <tbody>\n",
       "    <tr>\n",
       "      <th>0</th>\n",
       "      <td>01-Jan-22</td>\n",
       "      <td>Jan</td>\n",
       "      <td>Before 5G</td>\n",
       "      <td>1</td>\n",
       "    </tr>\n",
       "    <tr>\n",
       "      <th>1</th>\n",
       "      <td>01-Feb-22</td>\n",
       "      <td>Feb</td>\n",
       "      <td>Before 5G</td>\n",
       "      <td>2</td>\n",
       "    </tr>\n",
       "    <tr>\n",
       "      <th>2</th>\n",
       "      <td>01-Mar-22</td>\n",
       "      <td>Mar</td>\n",
       "      <td>Before 5G</td>\n",
       "      <td>3</td>\n",
       "    </tr>\n",
       "    <tr>\n",
       "      <th>3</th>\n",
       "      <td>01-Apr-22</td>\n",
       "      <td>Apr</td>\n",
       "      <td>Before 5G</td>\n",
       "      <td>4</td>\n",
       "    </tr>\n",
       "    <tr>\n",
       "      <th>4</th>\n",
       "      <td>01-Jun-22</td>\n",
       "      <td>Jun</td>\n",
       "      <td>After 5G</td>\n",
       "      <td>1</td>\n",
       "    </tr>\n",
       "    <tr>\n",
       "      <th>5</th>\n",
       "      <td>01-Jul-22</td>\n",
       "      <td>Jul</td>\n",
       "      <td>After 5G</td>\n",
       "      <td>2</td>\n",
       "    </tr>\n",
       "    <tr>\n",
       "      <th>6</th>\n",
       "      <td>01-Aug-22</td>\n",
       "      <td>Aug</td>\n",
       "      <td>After 5G</td>\n",
       "      <td>3</td>\n",
       "    </tr>\n",
       "    <tr>\n",
       "      <th>7</th>\n",
       "      <td>01-Sep-22</td>\n",
       "      <td>Sep</td>\n",
       "      <td>After 5G</td>\n",
       "      <td>4</td>\n",
       "    </tr>\n",
       "  </tbody>\n",
       "</table>\n",
       "</div>"
      ],
      "text/plain": [
       "        date month_name before/after_5g  time_period\n",
       "0  01-Jan-22        Jan       Before 5G            1\n",
       "1  01-Feb-22        Feb       Before 5G            2\n",
       "2  01-Mar-22        Mar       Before 5G            3\n",
       "3  01-Apr-22        Apr       Before 5G            4\n",
       "4  01-Jun-22        Jun        After 5G            1\n",
       "5  01-Jul-22        Jul        After 5G            2\n",
       "6  01-Aug-22        Aug        After 5G            3\n",
       "7  01-Sep-22        Sep        After 5G            4"
      ]
     },
     "execution_count": 63,
     "metadata": {},
     "output_type": "execute_result"
    }
   ],
   "source": [
    "## Importing data to address further metrics and queries\n",
    "\n",
    "atliqo_metrics=pd.read_csv(\"D:/python practice projects/telecom/C3 Input_for_Participants/fact_atliqo_metrics.csv\")\n",
    "atliqo_metrics\n",
    "dim_date=pd.read_csv(\"D:/python practice projects/telecom/C3 Input_for_Participants/dim_date.csv\")\n",
    "dim_date"
   ]
  },
  {
   "cell_type": "code",
   "execution_count": 71,
   "id": "75d9bf14",
   "metadata": {},
   "outputs": [
    {
     "data": {
      "text/plain": [
       "array(['Atliqo'], dtype=object)"
      ]
     },
     "execution_count": 71,
     "metadata": {},
     "output_type": "execute_result"
    }
   ],
   "source": [
    "# joining both tables\n",
    "final_data=atliqo_metrics.merge(dim_date,on=\"date\",how=\"left\")\n",
    "final_data"
   ]
  },
  {
   "cell_type": "code",
   "execution_count": 67,
   "id": "d949508c",
   "metadata": {},
   "outputs": [
    {
     "data": {
      "text/plain": [
       "date                        0\n",
       "city_code                   0\n",
       "company                     0\n",
       "atliqo_revenue_crores       0\n",
       "arpu                        0\n",
       "active_users_lakhs          0\n",
       "unsubscribed_users_lakhs    0\n",
       "month_name                  0\n",
       "before/after_5g             0\n",
       "time_period                 0\n",
       "dtype: int64"
      ]
     },
     "execution_count": 67,
     "metadata": {},
     "output_type": "execute_result"
    }
   ],
   "source": [
    "##Checking null values in the data\n",
    "final_data.isnull().sum()"
   ]
  },
  {
   "cell_type": "code",
   "execution_count": 126,
   "id": "17b94063",
   "metadata": {},
   "outputs": [
    {
     "data": {
      "text/html": [
       "<div>\n",
       "<style scoped>\n",
       "    .dataframe tbody tr th:only-of-type {\n",
       "        vertical-align: middle;\n",
       "    }\n",
       "\n",
       "    .dataframe tbody tr th {\n",
       "        vertical-align: top;\n",
       "    }\n",
       "\n",
       "    .dataframe thead th {\n",
       "        text-align: right;\n",
       "    }\n",
       "</style>\n",
       "<table border=\"1\" class=\"dataframe\">\n",
       "  <thead>\n",
       "    <tr style=\"text-align: right;\">\n",
       "      <th></th>\n",
       "      <th>time_period</th>\n",
       "      <th>total_revenue</th>\n",
       "    </tr>\n",
       "  </thead>\n",
       "  <tbody>\n",
       "    <tr>\n",
       "      <th>0</th>\n",
       "      <td>1</td>\n",
       "      <td>354.37</td>\n",
       "    </tr>\n",
       "    <tr>\n",
       "      <th>1</th>\n",
       "      <td>2</td>\n",
       "      <td>425.69</td>\n",
       "    </tr>\n",
       "    <tr>\n",
       "      <th>2</th>\n",
       "      <td>3</td>\n",
       "      <td>410.45</td>\n",
       "    </tr>\n",
       "    <tr>\n",
       "      <th>3</th>\n",
       "      <td>4</td>\n",
       "      <td>407.19</td>\n",
       "    </tr>\n",
       "  </tbody>\n",
       "</table>\n",
       "</div>"
      ],
      "text/plain": [
       "   time_period  total_revenue\n",
       "0            1         354.37\n",
       "1            2         425.69\n",
       "2            3         410.45\n",
       "3            4         407.19"
      ]
     },
     "execution_count": 126,
     "metadata": {},
     "output_type": "execute_result"
    }
   ],
   "source": [
    "##total revenue of all periods before 5G\n",
    "x=final_data[final_data[\"before/after_5g\"]==\"Before 5G\"]\n",
    "revenue_before_5G=x.groupby(\"time_period\").agg(total_revenue=(\"atliqo_revenue_crores\",\"sum\"))\n",
    "revenue_before_5G=revenue_before_5G.reset_index()\n",
    "revenue_before_5G"
   ]
  },
  {
   "cell_type": "code",
   "execution_count": 218,
   "id": "f1ef5ecb",
   "metadata": {},
   "outputs": [
    {
     "data": {
      "image/png": "[encoded data removed]",
      "text/plain": [
       "<Figure size 648x432 with 1 Axes>"
      ]
     },
     "metadata": {
      "needs_background": "light"
     },
     "output_type": "display_data"
    }
   ],
   "source": [
    "plt.figure(figsize=(9,6))\n",
    "plt.bar(revenue_before_5G[\"time_period\"],revenue_before_5G[\"total_revenue\"],color=[\"r\",\"g\",\"b\",\"brown\"])\n",
    "plt.title(\"Revenue before 5G implementation for all period\")\n",
    "plt.xlabel(\"time_period\",fontsize=16)\n",
    "plt.ylabel(\"Sum of revenue before 5G\",fontsize=16)\n",
    "for index,data in enumerate(revenue_before_5G[\"total_revenue\"]):\n",
    "    plt.text(x=index+0.8,y=data+5 , s=f\"{data}\")"
   ]
  },
  {
   "cell_type": "code",
   "execution_count": 128,
   "id": "d58bba27",
   "metadata": {},
   "outputs": [
    {
     "data": {
      "text/html": [
       "<div>\n",
       "<style scoped>\n",
       "    .dataframe tbody tr th:only-of-type {\n",
       "        vertical-align: middle;\n",
       "    }\n",
       "\n",
       "    .dataframe tbody tr th {\n",
       "        vertical-align: top;\n",
       "    }\n",
       "\n",
       "    .dataframe thead th {\n",
       "        text-align: right;\n",
       "    }\n",
       "</style>\n",
       "<table border=\"1\" class=\"dataframe\">\n",
       "  <thead>\n",
       "    <tr style=\"text-align: right;\">\n",
       "      <th></th>\n",
       "      <th>time_period</th>\n",
       "      <th>total_revenue</th>\n",
       "    </tr>\n",
       "  </thead>\n",
       "  <tbody>\n",
       "    <tr>\n",
       "      <th>0</th>\n",
       "      <td>1</td>\n",
       "      <td>357.56</td>\n",
       "    </tr>\n",
       "    <tr>\n",
       "      <th>1</th>\n",
       "      <td>2</td>\n",
       "      <td>412.76</td>\n",
       "    </tr>\n",
       "    <tr>\n",
       "      <th>2</th>\n",
       "      <td>3</td>\n",
       "      <td>419.08</td>\n",
       "    </tr>\n",
       "    <tr>\n",
       "      <th>3</th>\n",
       "      <td>4</td>\n",
       "      <td>400.26</td>\n",
       "    </tr>\n",
       "  </tbody>\n",
       "</table>\n",
       "</div>"
      ],
      "text/plain": [
       "   time_period  total_revenue\n",
       "0            1         357.56\n",
       "1            2         412.76\n",
       "2            3         419.08\n",
       "3            4         400.26"
      ]
     },
     "execution_count": 128,
     "metadata": {},
     "output_type": "execute_result"
    }
   ],
   "source": [
    "## Total revenue for all periods after 5G\n",
    "y=final_data[final_data[\"before/after_5g\"]==\"After 5G\"]\n",
    "revenue_after_5G=y.groupby(\"time_period\").agg(total_revenue=(\"atliqo_revenue_crores\",\"sum\"))\n",
    "revenue_after_5G=revenue_after_5G.reset_index()\n",
    "revenue_after_5G"
   ]
  },
  {
   "cell_type": "code",
   "execution_count": 217,
   "id": "e4717bc6",
   "metadata": {
    "scrolled": true
   },
   "outputs": [
    {
     "data": {
      "image/png": "[encoded data removed]",
      "text/plain": [
       "<Figure size 648x432 with 1 Axes>"
      ]
     },
     "metadata": {
      "needs_background": "light"
     },
     "output_type": "display_data"
    }
   ],
   "source": [
    "plt.figure(figsize=(9,6))\n",
    "plt.bar(revenue_after_5G[\"time_period\"],revenue_after_5G[\"total_revenue\"],color=[\"r\",\"g\",\"b\",\"brown\"])\n",
    "plt.title(\"Revenue after 5G\")\n",
    "plt.xlabel(\"time_period\",fontsize=16)\n",
    "plt.ylabel(\"Sum of revenue after 5G\",fontsize=16)\n",
    "for index,data in enumerate(revenue_after_5G[\"total_revenue\"]):\n",
    "    plt.text(x=index+0.8,y=data+5 , s=f\"{data}\")"
   ]
  },
  {
   "cell_type": "code",
   "execution_count": 136,
   "id": "daf58ca7",
   "metadata": {},
   "outputs": [
    {
     "data": {
      "text/html": [
       "<div>\n",
       "<style scoped>\n",
       "    .dataframe tbody tr th:only-of-type {\n",
       "        vertical-align: middle;\n",
       "    }\n",
       "\n",
       "    .dataframe tbody tr th {\n",
       "        vertical-align: top;\n",
       "    }\n",
       "\n",
       "    .dataframe thead th {\n",
       "        text-align: right;\n",
       "    }\n",
       "</style>\n",
       "<table border=\"1\" class=\"dataframe\">\n",
       "  <thead>\n",
       "    <tr style=\"text-align: right;\">\n",
       "      <th></th>\n",
       "      <th>time_period</th>\n",
       "      <th>sum_arpu</th>\n",
       "    </tr>\n",
       "  </thead>\n",
       "  <tbody>\n",
       "    <tr>\n",
       "      <th>0</th>\n",
       "      <td>1</td>\n",
       "      <td>2812</td>\n",
       "    </tr>\n",
       "    <tr>\n",
       "      <th>1</th>\n",
       "      <td>2</td>\n",
       "      <td>2786</td>\n",
       "    </tr>\n",
       "    <tr>\n",
       "      <th>2</th>\n",
       "      <td>3</td>\n",
       "      <td>2947</td>\n",
       "    </tr>\n",
       "    <tr>\n",
       "      <th>3</th>\n",
       "      <td>4</td>\n",
       "      <td>2869</td>\n",
       "    </tr>\n",
       "  </tbody>\n",
       "</table>\n",
       "</div>"
      ],
      "text/plain": [
       "   time_period  sum_arpu\n",
       "0            1      2812\n",
       "1            2      2786\n",
       "2            3      2947\n",
       "3            4      2869"
      ]
     },
     "execution_count": 136,
     "metadata": {},
     "output_type": "execute_result"
    }
   ],
   "source": [
    "## sum of arpu before 5G\n",
    "final_data\n",
    "final_data_before_5G=final_data[final_data[\"before/after_5g\"]==\"Before 5G\"]\n",
    "final_data_before_5G_stat=final_data_before_5G.groupby(\"time_period\").agg(sum_arpu=(\"arpu\",\"sum\"))\n",
    "final_data_before_5G_stat=final_data_before_5G_stat.reset_index()\n",
    "final_data_before_5G_stat"
   ]
  },
  {
   "cell_type": "code",
   "execution_count": 215,
   "id": "65514433",
   "metadata": {},
   "outputs": [
    {
     "data": {
      "image/png": "[encoded data removed]",
      "text/plain": [
       "<Figure size 648x432 with 1 Axes>"
      ]
     },
     "metadata": {
      "needs_background": "light"
     },
     "output_type": "display_data"
    }
   ],
   "source": [
    "plt.figure(figsize=(9,6))\n",
    "plt.bar(final_data_before_5G_stat[\"time_period\"],final_data_before_5G_stat[\"sum_arpu\"],color=[\"r\",\"g\",\"b\",\"brown\"])\n",
    "plt.title(\"Sum of arpu before 5G\")\n",
    "plt.xlabel(\"time_period\",fontsize=16)\n",
    "plt.ylabel(\"Sum of arpu before 5G\",fontsize=16)\n",
    "for index,data in enumerate(final_data_before_5G_stat[\"sum_arpu\"]):\n",
    "    plt.text(x=index+0.8,y=data+50 , s=f\"{data}\")"
   ]
  },
  {
   "cell_type": "code",
   "execution_count": 145,
   "id": "96fba3a8",
   "metadata": {},
   "outputs": [
    {
     "data": {
      "text/html": [
       "<div>\n",
       "<style scoped>\n",
       "    .dataframe tbody tr th:only-of-type {\n",
       "        vertical-align: middle;\n",
       "    }\n",
       "\n",
       "    .dataframe tbody tr th {\n",
       "        vertical-align: top;\n",
       "    }\n",
       "\n",
       "    .dataframe thead th {\n",
       "        text-align: right;\n",
       "    }\n",
       "</style>\n",
       "<table border=\"1\" class=\"dataframe\">\n",
       "  <thead>\n",
       "    <tr style=\"text-align: right;\">\n",
       "      <th></th>\n",
       "      <th>time_period</th>\n",
       "      <th>arpu_sum</th>\n",
       "    </tr>\n",
       "  </thead>\n",
       "  <tbody>\n",
       "    <tr>\n",
       "      <th>0</th>\n",
       "      <td>1</td>\n",
       "      <td>3267</td>\n",
       "    </tr>\n",
       "    <tr>\n",
       "      <th>1</th>\n",
       "      <td>2</td>\n",
       "      <td>3037</td>\n",
       "    </tr>\n",
       "    <tr>\n",
       "      <th>2</th>\n",
       "      <td>3</td>\n",
       "      <td>3143</td>\n",
       "    </tr>\n",
       "    <tr>\n",
       "      <th>3</th>\n",
       "      <td>4</td>\n",
       "      <td>3228</td>\n",
       "    </tr>\n",
       "  </tbody>\n",
       "</table>\n",
       "</div>"
      ],
      "text/plain": [
       "   time_period  arpu_sum\n",
       "0            1      3267\n",
       "1            2      3037\n",
       "2            3      3143\n",
       "3            4      3228"
      ]
     },
     "execution_count": 145,
     "metadata": {},
     "output_type": "execute_result"
    }
   ],
   "source": [
    "## Sum of arpu after 5G\n",
    "final_data\n",
    "final_data_after_5G=final_data[final_data[\"before/after_5g\"]==\"After 5G\"]\n",
    "final_data_after_5G_stat=final_data_after_5G.groupby(\"time_period\").agg(arpu_sum=(\"arpu\",\"sum\"))\n",
    "final_data_after_5G_stat=final_data_after_5G_stat.reset_index()\n",
    "final_data_after_5G_stat"
   ]
  },
  {
   "cell_type": "code",
   "execution_count": 214,
   "id": "202d4581",
   "metadata": {},
   "outputs": [
    {
     "data": {
      "image/png": "[encoded data removed]",
      "text/plain": [
       "<Figure size 648x432 with 1 Axes>"
      ]
     },
     "metadata": {
      "needs_background": "light"
     },
     "output_type": "display_data"
    }
   ],
   "source": [
    "plt.figure(figsize=(9,6))\n",
    "plt.bar(final_data_after_5G_stat[\"time_period\"],final_data_after_5G_stat[\"arpu_sum\"],color=[\"r\",\"g\",\"b\",\"brown\"])\n",
    "plt.title(\"arpu after 5G\")\n",
    "plt.xlabel(\"time_period\",fontsize=16)\n",
    "plt.ylabel(\"Sum of arpu after 5G\",fontsize=16)\n",
    "for index,data in enumerate(final_data_after_5G_stat[\"arpu_sum\"]):\n",
    "    plt.text(x=index+0.8,y=data+50 , s=f\"{data}\")"
   ]
  },
  {
   "cell_type": "code",
   "execution_count": 154,
   "id": "06a5f3c8",
   "metadata": {},
   "outputs": [
    {
     "data": {
      "text/html": [
       "<div>\n",
       "<style scoped>\n",
       "    .dataframe tbody tr th:only-of-type {\n",
       "        vertical-align: middle;\n",
       "    }\n",
       "\n",
       "    .dataframe tbody tr th {\n",
       "        vertical-align: top;\n",
       "    }\n",
       "\n",
       "    .dataframe thead th {\n",
       "        text-align: right;\n",
       "    }\n",
       "</style>\n",
       "<table border=\"1\" class=\"dataframe\">\n",
       "  <thead>\n",
       "    <tr style=\"text-align: right;\">\n",
       "      <th></th>\n",
       "      <th>time_period</th>\n",
       "      <th>b_act_users</th>\n",
       "    </tr>\n",
       "  </thead>\n",
       "  <tbody>\n",
       "    <tr>\n",
       "      <th>0</th>\n",
       "      <td>1</td>\n",
       "      <td>191.71</td>\n",
       "    </tr>\n",
       "    <tr>\n",
       "      <th>1</th>\n",
       "      <td>2</td>\n",
       "      <td>228.28</td>\n",
       "    </tr>\n",
       "    <tr>\n",
       "      <th>2</th>\n",
       "      <td>3</td>\n",
       "      <td>212.58</td>\n",
       "    </tr>\n",
       "    <tr>\n",
       "      <th>3</th>\n",
       "      <td>4</td>\n",
       "      <td>210.96</td>\n",
       "    </tr>\n",
       "  </tbody>\n",
       "</table>\n",
       "</div>"
      ],
      "text/plain": [
       "   time_period  b_act_users\n",
       "0            1       191.71\n",
       "1            2       228.28\n",
       "2            3       212.58\n",
       "3            4       210.96"
      ]
     },
     "execution_count": 154,
     "metadata": {},
     "output_type": "execute_result"
    }
   ],
   "source": [
    "## Active users before 5G\n",
    "final_data_before_5G\n",
    "final_data_before_5G_b_users=final_data_before_5G.groupby(\"time_period\").agg(b_act_users=(\"active_users_lakhs\",\"sum\"))\n",
    "final_data_before_5G_b_users=final_data_before_5G_b_users.reset_index()\n",
    "final_data_before_5G_b_users"
   ]
  },
  {
   "cell_type": "code",
   "execution_count": 207,
   "id": "19428ddf",
   "metadata": {},
   "outputs": [
    {
     "data": {
      "image/png": "[encoded data removed]",
      "text/plain": [
       "<Figure size 648x432 with 1 Axes>"
      ]
     },
     "metadata": {
      "needs_background": "light"
     },
     "output_type": "display_data"
    }
   ],
   "source": [
    "plt.figure(figsize=(9,6))\n",
    "plt.bar(final_data_before_5G_b_users[\"time_period\"],final_data_before_5G_b_users[\"b_act_users\"],color=[\"r\",\"g\",\"b\",\"brown\"])\n",
    "plt.title(\"Active users before 5G\")\n",
    "plt.xlabel(\"time_period\",fontsize=16)\n",
    "plt.ylabel(\"Sum active users before 5G\",fontsize=16)\n",
    "for index,data in enumerate(final_data_before_5G_b_users[\"b_act_users\"]):\n",
    "    plt.text(x=index+0.8,y=data+2 , s=f\"{data}\")\n"
   ]
  },
  {
   "cell_type": "code",
   "execution_count": 159,
   "id": "325c50b8",
   "metadata": {},
   "outputs": [
    {
     "data": {
      "text/html": [
       "<div>\n",
       "<style scoped>\n",
       "    .dataframe tbody tr th:only-of-type {\n",
       "        vertical-align: middle;\n",
       "    }\n",
       "\n",
       "    .dataframe tbody tr th {\n",
       "        vertical-align: top;\n",
       "    }\n",
       "\n",
       "    .dataframe thead th {\n",
       "        text-align: right;\n",
       "    }\n",
       "</style>\n",
       "<table border=\"1\" class=\"dataframe\">\n",
       "  <thead>\n",
       "    <tr style=\"text-align: right;\">\n",
       "      <th></th>\n",
       "      <th>time_period</th>\n",
       "      <th>a_act_users</th>\n",
       "    </tr>\n",
       "  </thead>\n",
       "  <tbody>\n",
       "    <tr>\n",
       "      <th>0</th>\n",
       "      <td>1</td>\n",
       "      <td>169.94</td>\n",
       "    </tr>\n",
       "    <tr>\n",
       "      <th>1</th>\n",
       "      <td>2</td>\n",
       "      <td>211.13</td>\n",
       "    </tr>\n",
       "    <tr>\n",
       "      <th>2</th>\n",
       "      <td>3</td>\n",
       "      <td>204.41</td>\n",
       "    </tr>\n",
       "    <tr>\n",
       "      <th>3</th>\n",
       "      <td>4</td>\n",
       "      <td>188.22</td>\n",
       "    </tr>\n",
       "  </tbody>\n",
       "</table>\n",
       "</div>"
      ],
      "text/plain": [
       "   time_period  a_act_users\n",
       "0            1       169.94\n",
       "1            2       211.13\n",
       "2            3       204.41\n",
       "3            4       188.22"
      ]
     },
     "execution_count": 159,
     "metadata": {},
     "output_type": "execute_result"
    }
   ],
   "source": [
    "## Active users after 5G\n",
    "final_data_after_5G\n",
    "final_data_after_5G_a_users=final_data_after_5G.groupby(\"time_period\").agg(a_act_users=(\"active_users_lakhs\",\"sum\"))\n",
    "final_data_after_5G_a_users=final_data_after_5G_a_users.reset_index()\n",
    "final_data_after_5G_a_users"
   ]
  },
  {
   "cell_type": "code",
   "execution_count": 201,
   "id": "1ff55e5c",
   "metadata": {},
   "outputs": [
    {
     "data": {
      "image/png": "[encoded data removed]",
      "text/plain": [
       "<Figure size 648x432 with 1 Axes>"
      ]
     },
     "metadata": {
      "needs_background": "light"
     },
     "output_type": "display_data"
    }
   ],
   "source": [
    "plt.figure(figsize=(9,6))\n",
    "plt.bar(final_data_after_5G_a_users[\"time_period\"],final_data_after_5G_a_users[\"a_act_users\"],color=[\"r\",\"g\",\"b\",\"brown\"])\n",
    "plt.title(\"active users after 5G\")\n",
    "plt.xlabel(\"time_period\",fontsize=16)\n",
    "plt.ylabel(\"Sum active users after 5G\",fontsize=16)\n",
    "for index,data in enumerate(final_data_after_5G_a_users[\"a_act_users\"]):\n",
    "    plt.text(x=index+0.8,y=data+2 , s=f\"{data}\")\n"
   ]
  },
  {
   "cell_type": "code",
   "execution_count": 172,
   "id": "0b1e4446",
   "metadata": {},
   "outputs": [
    {
     "data": {
      "text/html": [
       "<div>\n",
       "<style scoped>\n",
       "    .dataframe tbody tr th:only-of-type {\n",
       "        vertical-align: middle;\n",
       "    }\n",
       "\n",
       "    .dataframe tbody tr th {\n",
       "        vertical-align: top;\n",
       "    }\n",
       "\n",
       "    .dataframe thead th {\n",
       "        text-align: right;\n",
       "    }\n",
       "</style>\n",
       "<table border=\"1\" class=\"dataframe\">\n",
       "  <thead>\n",
       "    <tr style=\"text-align: right;\">\n",
       "      <th></th>\n",
       "      <th>time_period</th>\n",
       "      <th>b_users</th>\n",
       "    </tr>\n",
       "  </thead>\n",
       "  <tbody>\n",
       "    <tr>\n",
       "      <th>0</th>\n",
       "      <td>1</td>\n",
       "      <td>11.67</td>\n",
       "    </tr>\n",
       "    <tr>\n",
       "      <th>1</th>\n",
       "      <td>2</td>\n",
       "      <td>14.23</td>\n",
       "    </tr>\n",
       "    <tr>\n",
       "      <th>2</th>\n",
       "      <td>3</td>\n",
       "      <td>14.96</td>\n",
       "    </tr>\n",
       "    <tr>\n",
       "      <th>3</th>\n",
       "      <td>4</td>\n",
       "      <td>15.47</td>\n",
       "    </tr>\n",
       "  </tbody>\n",
       "</table>\n",
       "</div>"
      ],
      "text/plain": [
       "   time_period  b_users\n",
       "0            1    11.67\n",
       "1            2    14.23\n",
       "2            3    14.96\n",
       "3            4    15.47"
      ]
     },
     "execution_count": 172,
     "metadata": {},
     "output_type": "execute_result"
    }
   ],
   "source": [
    "## Unsubscribed users before 5G\n",
    "final_data_before_5G\n",
    "final_data_before_5G_un_b5G=final_data_before_5G.groupby(\"time_period\").agg(b_users=(\"unsubscribed_users_lakhs\",\"sum\"))\n",
    "final_data_before_5G_un_b5G=final_data_before_5G_un_b5G.reset_index()\n",
    "final_data_before_5G_un_b5G"
   ]
  },
  {
   "cell_type": "code",
   "execution_count": 204,
   "id": "f3df7587",
   "metadata": {},
   "outputs": [
    {
     "data": {
      "image/png": "[encoded data removed]",
      "text/plain": [
       "<Figure size 648x432 with 1 Axes>"
      ]
     },
     "metadata": {
      "needs_background": "light"
     },
     "output_type": "display_data"
    }
   ],
   "source": [
    "plt.figure(figsize=(9,6))\n",
    "plt.bar(final_data_before_5G_un_b5G[\"time_period\"],final_data_before_5G_un_b5G[\"b_users\"],color=[\"r\",\"g\",\"b\",\"brown\"])\n",
    "plt.title(\"Unsubscribed users before 5G\")\n",
    "plt.xlabel(\"time_period\",fontsize=16)\n",
    "plt.ylabel(\"Sum unsubscribed users before 5G\",fontsize=16)\n",
    "for index,data in enumerate(final_data_before_5G_un_b5G[\"b_users\"]):\n",
    "    plt.text(x=index+0.8,y=data+0.2 , s=f\"{data}\")"
   ]
  },
  {
   "cell_type": "code",
   "execution_count": 179,
   "id": "27f80368",
   "metadata": {},
   "outputs": [
    {
     "data": {
      "text/html": [
       "<div>\n",
       "<style scoped>\n",
       "    .dataframe tbody tr th:only-of-type {\n",
       "        vertical-align: middle;\n",
       "    }\n",
       "\n",
       "    .dataframe tbody tr th {\n",
       "        vertical-align: top;\n",
       "    }\n",
       "\n",
       "    .dataframe thead th {\n",
       "        text-align: right;\n",
       "    }\n",
       "</style>\n",
       "<table border=\"1\" class=\"dataframe\">\n",
       "  <thead>\n",
       "    <tr style=\"text-align: right;\">\n",
       "      <th></th>\n",
       "      <th>time_period</th>\n",
       "      <th>a_users</th>\n",
       "    </tr>\n",
       "  </thead>\n",
       "  <tbody>\n",
       "    <tr>\n",
       "      <th>0</th>\n",
       "      <td>1</td>\n",
       "      <td>15.56</td>\n",
       "    </tr>\n",
       "    <tr>\n",
       "      <th>1</th>\n",
       "      <td>2</td>\n",
       "      <td>18.57</td>\n",
       "    </tr>\n",
       "    <tr>\n",
       "      <th>2</th>\n",
       "      <td>3</td>\n",
       "      <td>18.67</td>\n",
       "    </tr>\n",
       "    <tr>\n",
       "      <th>3</th>\n",
       "      <td>4</td>\n",
       "      <td>16.77</td>\n",
       "    </tr>\n",
       "  </tbody>\n",
       "</table>\n",
       "</div>"
      ],
      "text/plain": [
       "   time_period  a_users\n",
       "0            1    15.56\n",
       "1            2    18.57\n",
       "2            3    18.67\n",
       "3            4    16.77"
      ]
     },
     "execution_count": 179,
     "metadata": {},
     "output_type": "execute_result"
    }
   ],
   "source": [
    "## Total unsubscribed users after 5G\n",
    "final_data_after_5G\n",
    "final_data_after_5G_un_a5G=final_data_after_5G.groupby(\"time_period\").agg(a_users=(\"unsubscribed_users_lakhs\",\"sum\"))\n",
    "final_data_after_5G_un_a5G=final_data_after_5G_un_a5G.reset_index()\n",
    "final_data_after_5G_un_a5G"
   ]
  },
  {
   "cell_type": "code",
   "execution_count": 205,
   "id": "cfdb78b7",
   "metadata": {},
   "outputs": [
    {
     "data": {
      "image/png": "[encoded data removed]",
      "text/plain": [
       "<Figure size 648x432 with 1 Axes>"
      ]
     },
     "metadata": {
      "needs_background": "light"
     },
     "output_type": "display_data"
    }
   ],
   "source": [
    "plt.figure(figsize=(9,6))\n",
    "plt.bar(final_data_after_5G_un_a5G[\"time_period\"],final_data_after_5G_un_a5G[\"a_users\"],color=[\"r\",\"g\",\"b\",\"brown\"])\n",
    "plt.title(\"Total unsubscribed users after 5G\")\n",
    "plt.xlabel(\"time_period\",fontsize=16)\n",
    "plt.ylabel(\"Sum unsubscribed users after 5G\",fontsize=16)\n",
    "for index,data in enumerate(final_data_after_5G_un_a5G[\"a_users\"]):\n",
    "    plt.text(x=index+0.8,y=data+0.2 , s=f\"{data}\")"
   ]
  },
  {
   "cell_type": "code",
   "execution_count": 244,
   "id": "484636f8",
   "metadata": {},
   "outputs": [
    {
     "data": {
      "text/html": [
       "<div>\n",
       "<style scoped>\n",
       "    .dataframe tbody tr th:only-of-type {\n",
       "        vertical-align: middle;\n",
       "    }\n",
       "\n",
       "    .dataframe tbody tr th {\n",
       "        vertical-align: top;\n",
       "    }\n",
       "\n",
       "    .dataframe thead th {\n",
       "        text-align: right;\n",
       "    }\n",
       "</style>\n",
       "<table border=\"1\" class=\"dataframe\">\n",
       "  <thead>\n",
       "    <tr style=\"text-align: right;\">\n",
       "      <th></th>\n",
       "      <th>date</th>\n",
       "      <th>city_code</th>\n",
       "      <th>company</th>\n",
       "      <th>atliqo_revenue_crores</th>\n",
       "      <th>arpu</th>\n",
       "      <th>active_users_lakhs</th>\n",
       "      <th>unsubscribed_users_lakhs</th>\n",
       "      <th>month_name</th>\n",
       "      <th>before/after_5g</th>\n",
       "      <th>time_period</th>\n",
       "    </tr>\n",
       "  </thead>\n",
       "  <tbody>\n",
       "    <tr>\n",
       "      <th>0</th>\n",
       "      <td>01-Jan-22</td>\n",
       "      <td>400001</td>\n",
       "      <td>Atliqo</td>\n",
       "      <td>60.69</td>\n",
       "      <td>192</td>\n",
       "      <td>31.61</td>\n",
       "      <td>1.90</td>\n",
       "      <td>Jan</td>\n",
       "      <td>Before 5G</td>\n",
       "      <td>1</td>\n",
       "    </tr>\n",
       "    <tr>\n",
       "      <th>1</th>\n",
       "      <td>01-Jan-22</td>\n",
       "      <td>110001</td>\n",
       "      <td>Atliqo</td>\n",
       "      <td>42.71</td>\n",
       "      <td>175</td>\n",
       "      <td>24.41</td>\n",
       "      <td>1.31</td>\n",
       "      <td>Jan</td>\n",
       "      <td>Before 5G</td>\n",
       "      <td>1</td>\n",
       "    </tr>\n",
       "    <tr>\n",
       "      <th>2</th>\n",
       "      <td>01-Jan-22</td>\n",
       "      <td>700001</td>\n",
       "      <td>Atliqo</td>\n",
       "      <td>36.91</td>\n",
       "      <td>175</td>\n",
       "      <td>21.09</td>\n",
       "      <td>1.25</td>\n",
       "      <td>Jan</td>\n",
       "      <td>Before 5G</td>\n",
       "      <td>1</td>\n",
       "    </tr>\n",
       "    <tr>\n",
       "      <th>3</th>\n",
       "      <td>01-Jan-22</td>\n",
       "      <td>560001</td>\n",
       "      <td>Atliqo</td>\n",
       "      <td>37.40</td>\n",
       "      <td>175</td>\n",
       "      <td>21.37</td>\n",
       "      <td>1.39</td>\n",
       "      <td>Jan</td>\n",
       "      <td>Before 5G</td>\n",
       "      <td>1</td>\n",
       "    </tr>\n",
       "    <tr>\n",
       "      <th>4</th>\n",
       "      <td>01-Jan-22</td>\n",
       "      <td>600001</td>\n",
       "      <td>Atliqo</td>\n",
       "      <td>30.80</td>\n",
       "      <td>203</td>\n",
       "      <td>15.17</td>\n",
       "      <td>1.12</td>\n",
       "      <td>Jan</td>\n",
       "      <td>Before 5G</td>\n",
       "      <td>1</td>\n",
       "    </tr>\n",
       "    <tr>\n",
       "      <th>...</th>\n",
       "      <td>...</td>\n",
       "      <td>...</td>\n",
       "      <td>...</td>\n",
       "      <td>...</td>\n",
       "      <td>...</td>\n",
       "      <td>...</td>\n",
       "      <td>...</td>\n",
       "      <td>...</td>\n",
       "      <td>...</td>\n",
       "      <td>...</td>\n",
       "    </tr>\n",
       "    <tr>\n",
       "      <th>115</th>\n",
       "      <td>01-Sep-22</td>\n",
       "      <td>800008</td>\n",
       "      <td>Atliqo</td>\n",
       "      <td>11.86</td>\n",
       "      <td>250</td>\n",
       "      <td>4.74</td>\n",
       "      <td>0.38</td>\n",
       "      <td>Sep</td>\n",
       "      <td>After 5G</td>\n",
       "      <td>4</td>\n",
       "    </tr>\n",
       "    <tr>\n",
       "      <th>116</th>\n",
       "      <td>01-Sep-22</td>\n",
       "      <td>641001</td>\n",
       "      <td>Atliqo</td>\n",
       "      <td>8.59</td>\n",
       "      <td>177</td>\n",
       "      <td>4.85</td>\n",
       "      <td>0.53</td>\n",
       "      <td>Sep</td>\n",
       "      <td>After 5G</td>\n",
       "      <td>4</td>\n",
       "    </tr>\n",
       "    <tr>\n",
       "      <th>117</th>\n",
       "      <td>01-Sep-22</td>\n",
       "      <td>160017</td>\n",
       "      <td>Atliqo</td>\n",
       "      <td>10.32</td>\n",
       "      <td>163</td>\n",
       "      <td>6.33</td>\n",
       "      <td>0.63</td>\n",
       "      <td>Sep</td>\n",
       "      <td>After 5G</td>\n",
       "      <td>4</td>\n",
       "    </tr>\n",
       "    <tr>\n",
       "      <th>118</th>\n",
       "      <td>01-Sep-22</td>\n",
       "      <td>122001</td>\n",
       "      <td>Atliqo</td>\n",
       "      <td>6.35</td>\n",
       "      <td>238</td>\n",
       "      <td>2.67</td>\n",
       "      <td>0.21</td>\n",
       "      <td>Sep</td>\n",
       "      <td>After 5G</td>\n",
       "      <td>4</td>\n",
       "    </tr>\n",
       "    <tr>\n",
       "      <th>119</th>\n",
       "      <td>01-Sep-22</td>\n",
       "      <td>492001</td>\n",
       "      <td>Atliqo</td>\n",
       "      <td>3.73</td>\n",
       "      <td>173</td>\n",
       "      <td>2.16</td>\n",
       "      <td>0.18</td>\n",
       "      <td>Sep</td>\n",
       "      <td>After 5G</td>\n",
       "      <td>4</td>\n",
       "    </tr>\n",
       "  </tbody>\n",
       "</table>\n",
       "<p>120 rows × 10 columns</p>\n",
       "</div>"
      ],
      "text/plain": [
       "          date  city_code company  atliqo_revenue_crores  arpu  \\\n",
       "0    01-Jan-22     400001  Atliqo                  60.69   192   \n",
       "1    01-Jan-22     110001  Atliqo                  42.71   175   \n",
       "2    01-Jan-22     700001  Atliqo                  36.91   175   \n",
       "3    01-Jan-22     560001  Atliqo                  37.40   175   \n",
       "4    01-Jan-22     600001  Atliqo                  30.80   203   \n",
       "..         ...        ...     ...                    ...   ...   \n",
       "115  01-Sep-22     800008  Atliqo                  11.86   250   \n",
       "116  01-Sep-22     641001  Atliqo                   8.59   177   \n",
       "117  01-Sep-22     160017  Atliqo                  10.32   163   \n",
       "118  01-Sep-22     122001  Atliqo                   6.35   238   \n",
       "119  01-Sep-22     492001  Atliqo                   3.73   173   \n",
       "\n",
       "     active_users_lakhs  unsubscribed_users_lakhs month_name before/after_5g  \\\n",
       "0                 31.61                      1.90        Jan       Before 5G   \n",
       "1                 24.41                      1.31        Jan       Before 5G   \n",
       "2                 21.09                      1.25        Jan       Before 5G   \n",
       "3                 21.37                      1.39        Jan       Before 5G   \n",
       "4                 15.17                      1.12        Jan       Before 5G   \n",
       "..                  ...                       ...        ...             ...   \n",
       "115                4.74                      0.38        Sep        After 5G   \n",
       "116                4.85                      0.53        Sep        After 5G   \n",
       "117                6.33                      0.63        Sep        After 5G   \n",
       "118                2.67                      0.21        Sep        After 5G   \n",
       "119                2.16                      0.18        Sep        After 5G   \n",
       "\n",
       "     time_period  \n",
       "0              1  \n",
       "1              1  \n",
       "2              1  \n",
       "3              1  \n",
       "4              1  \n",
       "..           ...  \n",
       "115            4  \n",
       "116            4  \n",
       "117            4  \n",
       "118            4  \n",
       "119            4  \n",
       "\n",
       "[120 rows x 10 columns]"
      ]
     },
     "execution_count": 244,
     "metadata": {},
     "output_type": "execute_result"
    }
   ],
   "source": []
  },
  {
   "cell_type": "code",
   "execution_count": null,
   "id": "87664fda",
   "metadata": {},
   "outputs": [],
   "source": []
  }
 ],
 "metadata": {
  "kernelspec": {
   "display_name": "Python 3 (ipykernel)",
   "language": "python",
   "name": "python3"
  },
  "language_info": {
   "codemirror_mode": {
    "name": "ipython",
    "version": 3
   },
   "file_extension": ".py",
   "mimetype": "text/x-python",
   "name": "python",
   "nbconvert_exporter": "python",
   "pygments_lexer": "ipython3",
   "version": "3.9.7"
  }
 },
 "nbformat": 4,
 "nbformat_minor": 5
}
