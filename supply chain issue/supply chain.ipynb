{
 "cells": [
  {
   "cell_type": "code",
   "execution_count": 1,
   "id": "876f3541",
   "metadata": {},
   "outputs": [
    {
     "name": "stderr",
     "output_type": "stream",
     "text": [
      "C:\\Users\\ABINESH\\anaconda3\\lib\\site-packages\\scipy\\__init__.py:146: UserWarning: A NumPy version >=1.16.5 and <1.23.0 is required for this version of SciPy (detected version 1.24.2\n",
      "  warnings.warn(f\"A NumPy version >={np_minversion} and <{np_maxversion}\"\n"
     ]
    }
   ],
   "source": [
    "## Importing necessory libraraies\n",
    "\n",
    "import numpy as np\n",
    "import pandas as pd\n",
    "import matplotlib.pyplot as plt\n",
    "import seaborn as sns\n"
   ]
  },
  {
   "cell_type": "code",
   "execution_count": 2,
   "id": "403fb2fd",
   "metadata": {},
   "outputs": [
    {
     "data": {
      "text/html": [
       "<div>\n",
       "<style scoped>\n",
       "    .dataframe tbody tr th:only-of-type {\n",
       "        vertical-align: middle;\n",
       "    }\n",
       "\n",
       "    .dataframe tbody tr th {\n",
       "        vertical-align: top;\n",
       "    }\n",
       "\n",
       "    .dataframe thead th {\n",
       "        text-align: right;\n",
       "    }\n",
       "</style>\n",
       "<table border=\"1\" class=\"dataframe\">\n",
       "  <thead>\n",
       "    <tr style=\"text-align: right;\">\n",
       "      <th></th>\n",
       "      <th>order_id</th>\n",
       "      <th>order_placement_date</th>\n",
       "      <th>customer_id</th>\n",
       "      <th>product_id</th>\n",
       "      <th>order_qty</th>\n",
       "      <th>agreed_delivery_date</th>\n",
       "      <th>actual_delivery_date</th>\n",
       "      <th>delivery_qty</th>\n",
       "      <th>In Full</th>\n",
       "      <th>On Time</th>\n",
       "      <th>On Time In Full</th>\n",
       "    </tr>\n",
       "  </thead>\n",
       "  <tbody>\n",
       "    <tr>\n",
       "      <th>0</th>\n",
       "      <td>FMR34203601</td>\n",
       "      <td>Tuesday, March 1, 2022</td>\n",
       "      <td>789203</td>\n",
       "      <td>25891601</td>\n",
       "      <td>110</td>\n",
       "      <td>Friday, March 4, 2022</td>\n",
       "      <td>Friday, March 4, 2022</td>\n",
       "      <td>110</td>\n",
       "      <td>1</td>\n",
       "      <td>1</td>\n",
       "      <td>1</td>\n",
       "    </tr>\n",
       "    <tr>\n",
       "      <th>1</th>\n",
       "      <td>FMR32320302</td>\n",
       "      <td>Tuesday, March 1, 2022</td>\n",
       "      <td>789320</td>\n",
       "      <td>25891203</td>\n",
       "      <td>347</td>\n",
       "      <td>Wednesday, March 2, 2022</td>\n",
       "      <td>Wednesday, March 2, 2022</td>\n",
       "      <td>347</td>\n",
       "      <td>1</td>\n",
       "      <td>1</td>\n",
       "      <td>1</td>\n",
       "    </tr>\n",
       "    <tr>\n",
       "      <th>2</th>\n",
       "      <td>FMR33320501</td>\n",
       "      <td>Tuesday, March 1, 2022</td>\n",
       "      <td>789320</td>\n",
       "      <td>25891203</td>\n",
       "      <td>187</td>\n",
       "      <td>Thursday, March 3, 2022</td>\n",
       "      <td>Thursday, March 3, 2022</td>\n",
       "      <td>150</td>\n",
       "      <td>0</td>\n",
       "      <td>1</td>\n",
       "      <td>0</td>\n",
       "    </tr>\n",
       "    <tr>\n",
       "      <th>3</th>\n",
       "      <td>FMR34220601</td>\n",
       "      <td>Tuesday, March 1, 2022</td>\n",
       "      <td>789220</td>\n",
       "      <td>25891203</td>\n",
       "      <td>235</td>\n",
       "      <td>Friday, March 4, 2022</td>\n",
       "      <td>Friday, March 4, 2022</td>\n",
       "      <td>235</td>\n",
       "      <td>1</td>\n",
       "      <td>1</td>\n",
       "      <td>1</td>\n",
       "    </tr>\n",
       "    <tr>\n",
       "      <th>4</th>\n",
       "      <td>FMR33703603</td>\n",
       "      <td>Tuesday, March 1, 2022</td>\n",
       "      <td>789703</td>\n",
       "      <td>25891203</td>\n",
       "      <td>176</td>\n",
       "      <td>Thursday, March 3, 2022</td>\n",
       "      <td>Thursday, March 3, 2022</td>\n",
       "      <td>176</td>\n",
       "      <td>1</td>\n",
       "      <td>1</td>\n",
       "      <td>1</td>\n",
       "    </tr>\n",
       "    <tr>\n",
       "      <th>...</th>\n",
       "      <td>...</td>\n",
       "      <td>...</td>\n",
       "      <td>...</td>\n",
       "      <td>...</td>\n",
       "      <td>...</td>\n",
       "      <td>...</td>\n",
       "      <td>...</td>\n",
       "      <td>...</td>\n",
       "      <td>...</td>\n",
       "      <td>...</td>\n",
       "      <td>...</td>\n",
       "    </tr>\n",
       "    <tr>\n",
       "      <th>57091</th>\n",
       "      <td>FAUG831420303</td>\n",
       "      <td>Tuesday, August 30, 2022</td>\n",
       "      <td>789420</td>\n",
       "      <td>25891303</td>\n",
       "      <td>24</td>\n",
       "      <td>Wednesday, August 31, 2022</td>\n",
       "      <td>Tuesday, August 30, 2022</td>\n",
       "      <td>24</td>\n",
       "      <td>1</td>\n",
       "      <td>1</td>\n",
       "      <td>1</td>\n",
       "    </tr>\n",
       "    <tr>\n",
       "      <th>57092</th>\n",
       "      <td>FAUG831122303</td>\n",
       "      <td>Tuesday, August 30, 2022</td>\n",
       "      <td>789122</td>\n",
       "      <td>25891303</td>\n",
       "      <td>67</td>\n",
       "      <td>Wednesday, August 31, 2022</td>\n",
       "      <td>Wednesday, August 31, 2022</td>\n",
       "      <td>54</td>\n",
       "      <td>0</td>\n",
       "      <td>1</td>\n",
       "      <td>0</td>\n",
       "    </tr>\n",
       "    <tr>\n",
       "      <th>57093</th>\n",
       "      <td>FAUG831702303</td>\n",
       "      <td>Tuesday, August 30, 2022</td>\n",
       "      <td>789702</td>\n",
       "      <td>25891303</td>\n",
       "      <td>41</td>\n",
       "      <td>Wednesday, August 31, 2022</td>\n",
       "      <td>Tuesday, August 30, 2022</td>\n",
       "      <td>37</td>\n",
       "      <td>0</td>\n",
       "      <td>1</td>\n",
       "      <td>0</td>\n",
       "    </tr>\n",
       "    <tr>\n",
       "      <th>57094</th>\n",
       "      <td>FAUG831221503</td>\n",
       "      <td>Tuesday, August 30, 2022</td>\n",
       "      <td>789221</td>\n",
       "      <td>25891303</td>\n",
       "      <td>92</td>\n",
       "      <td>Wednesday, August 31, 2022</td>\n",
       "      <td>Wednesday, August 31, 2022</td>\n",
       "      <td>83</td>\n",
       "      <td>0</td>\n",
       "      <td>1</td>\n",
       "      <td>0</td>\n",
       "    </tr>\n",
       "    <tr>\n",
       "      <th>57095</th>\n",
       "      <td>FAUG831202303</td>\n",
       "      <td>Tuesday, August 30, 2022</td>\n",
       "      <td>789202</td>\n",
       "      <td>25891303</td>\n",
       "      <td>29</td>\n",
       "      <td>Wednesday, August 31, 2022</td>\n",
       "      <td>Thursday, September 1, 2022</td>\n",
       "      <td>29</td>\n",
       "      <td>1</td>\n",
       "      <td>0</td>\n",
       "      <td>0</td>\n",
       "    </tr>\n",
       "  </tbody>\n",
       "</table>\n",
       "<p>57096 rows × 11 columns</p>\n",
       "</div>"
      ],
      "text/plain": [
       "            order_id      order_placement_date  customer_id  product_id  \\\n",
       "0        FMR34203601    Tuesday, March 1, 2022       789203    25891601   \n",
       "1        FMR32320302    Tuesday, March 1, 2022       789320    25891203   \n",
       "2        FMR33320501    Tuesday, March 1, 2022       789320    25891203   \n",
       "3        FMR34220601    Tuesday, March 1, 2022       789220    25891203   \n",
       "4        FMR33703603    Tuesday, March 1, 2022       789703    25891203   \n",
       "...              ...                       ...          ...         ...   \n",
       "57091  FAUG831420303  Tuesday, August 30, 2022       789420    25891303   \n",
       "57092  FAUG831122303  Tuesday, August 30, 2022       789122    25891303   \n",
       "57093  FAUG831702303  Tuesday, August 30, 2022       789702    25891303   \n",
       "57094  FAUG831221503  Tuesday, August 30, 2022       789221    25891303   \n",
       "57095  FAUG831202303  Tuesday, August 30, 2022       789202    25891303   \n",
       "\n",
       "       order_qty        agreed_delivery_date         actual_delivery_date  \\\n",
       "0            110       Friday, March 4, 2022        Friday, March 4, 2022   \n",
       "1            347    Wednesday, March 2, 2022     Wednesday, March 2, 2022   \n",
       "2            187     Thursday, March 3, 2022      Thursday, March 3, 2022   \n",
       "3            235       Friday, March 4, 2022        Friday, March 4, 2022   \n",
       "4            176     Thursday, March 3, 2022      Thursday, March 3, 2022   \n",
       "...          ...                         ...                          ...   \n",
       "57091         24  Wednesday, August 31, 2022     Tuesday, August 30, 2022   \n",
       "57092         67  Wednesday, August 31, 2022   Wednesday, August 31, 2022   \n",
       "57093         41  Wednesday, August 31, 2022     Tuesday, August 30, 2022   \n",
       "57094         92  Wednesday, August 31, 2022   Wednesday, August 31, 2022   \n",
       "57095         29  Wednesday, August 31, 2022  Thursday, September 1, 2022   \n",
       "\n",
       "       delivery_qty  In Full  On Time  On Time In Full  \n",
       "0               110        1        1                1  \n",
       "1               347        1        1                1  \n",
       "2               150        0        1                0  \n",
       "3               235        1        1                1  \n",
       "4               176        1        1                1  \n",
       "...             ...      ...      ...              ...  \n",
       "57091            24        1        1                1  \n",
       "57092            54        0        1                0  \n",
       "57093            37        0        1                0  \n",
       "57094            83        0        1                0  \n",
       "57095            29        1        0                0  \n",
       "\n",
       "[57096 rows x 11 columns]"
      ]
     },
     "execution_count": 2,
     "metadata": {},
     "output_type": "execute_result"
    }
   ],
   "source": [
    "fact_order_lines=pd.read_csv(\"D:/python practice projects/supply and chain/C2 Input for participants/fact_order_lines.csv\")\n",
    "fact_order_lines"
   ]
  },
  {
   "cell_type": "code",
   "execution_count": 3,
   "id": "1f9656af",
   "metadata": {},
   "outputs": [
    {
     "data": {
      "text/plain": [
       "order_id                0\n",
       "order_placement_date    0\n",
       "customer_id             0\n",
       "product_id              0\n",
       "order_qty               0\n",
       "agreed_delivery_date    0\n",
       "actual_delivery_date    0\n",
       "delivery_qty            0\n",
       "In Full                 0\n",
       "On Time                 0\n",
       "On Time In Full         0\n",
       "dtype: int64"
      ]
     },
     "execution_count": 3,
     "metadata": {},
     "output_type": "execute_result"
    }
   ],
   "source": [
    "## Data cleaning procedures\n",
    "## Checking null values in each column\n",
    "fact_order_lines.isnull().sum()"
   ]
  },
  {
   "cell_type": "code",
   "execution_count": 4,
   "id": "b29080fd",
   "metadata": {},
   "outputs": [
    {
     "data": {
      "text/plain": [
       "order_id                object\n",
       "order_placement_date    object\n",
       "customer_id              int64\n",
       "product_id               int64\n",
       "order_qty                int64\n",
       "agreed_delivery_date    object\n",
       "actual_delivery_date    object\n",
       "delivery_qty             int64\n",
       "In Full                  int64\n",
       "On Time                  int64\n",
       "On Time In Full          int64\n",
       "dtype: object"
      ]
     },
     "execution_count": 4,
     "metadata": {},
     "output_type": "execute_result"
    }
   ],
   "source": [
    "##checking data type\n",
    "fact_order_lines.dtypes"
   ]
  },
  {
   "cell_type": "code",
   "execution_count": 7,
   "id": "6ea220df",
   "metadata": {},
   "outputs": [
    {
     "name": "stdout",
     "output_type": "stream",
     "text": [
      "Total number of order lines is 57096\n"
     ]
    }
   ],
   "source": [
    "## Total order lines\n",
    "len(fact_order_lines[\"order_id\"])\n",
    "print(\"Total number of order lines is\", len(fact_order_lines[\"order_id\"]))"
   ]
  },
  {
   "cell_type": "code",
   "execution_count": 13,
   "id": "2d62d808",
   "metadata": {},
   "outputs": [
    {
     "name": "stdout",
     "output_type": "stream",
     "text": [
      "Number of order lines shipped in full quantity is  37661\n"
     ]
    }
   ],
   "source": [
    "## Number of order lines shipped in full quantity\n",
    "orders_shipped_in_full_quantity=fact_order_lines[fact_order_lines[\"order_qty\"]==fact_order_lines[\"delivery_qty\"]]\n",
    "len(orders_shipped_in_full_quantity)\n",
    "print(\"Number of order lines shipped in full quantity is \", len(orders_shipped_in_full_quantity))"
   ]
  },
  {
   "cell_type": "code",
   "execution_count": 89,
   "id": "b02667e7",
   "metadata": {},
   "outputs": [
    {
     "name": "stdout",
     "output_type": "stream",
     "text": [
      "The line fill rate in percentage is  65.96\n"
     ]
    }
   ],
   "source": [
    "## Line fill rate\n",
    "Line_fill_rate=((len(orders_shipped_in_full_quantity))/len(fact_order_lines[\"order_id\"]))*100\n",
    "round(Line_fill_rate,2)\n",
    "print(\"The line fill rate in percentage is \", round(Line_fill_rate,2))"
   ]
  },
  {
   "cell_type": "code",
   "execution_count": 46,
   "id": "7afcdc3d",
   "metadata": {},
   "outputs": [
    {
     "name": "stdout",
     "output_type": "stream",
     "text": [
      "The volume fill rate in percentage is 96.59\n"
     ]
    }
   ],
   "source": [
    "## volume fill rate\n",
    "total_qty_shipped=fact_order_lines[\"delivery_qty\"].sum()\n",
    "total_qty_ordered=fact_order_lines[\"order_qty\"].sum()\n",
    "volume_fill_rate=(total_qty_shipped/total_qty_ordered)*100\n",
    "round(volume_fill_rate,2)\n",
    "print(\"The volume fill rate in percentage is\" ,round(volume_fill_rate,2))"
   ]
  },
  {
   "cell_type": "code",
   "execution_count": 48,
   "id": "866b1f57",
   "metadata": {},
   "outputs": [
    {
     "data": {
      "text/plain": [
       "order_id                0\n",
       "customer_id             0\n",
       "order_placement_date    0\n",
       "on_time                 0\n",
       "in_full                 0\n",
       "otif                    0\n",
       "dtype: int64"
      ]
     },
     "execution_count": 48,
     "metadata": {},
     "output_type": "execute_result"
    }
   ],
   "source": [
    "orders=pd.read_csv(\"D:/python practice projects/supply and chain/C2 Input for participants/fact_orders_aggregate.csv\")\n",
    "orders\n",
    "## Checking null values\n",
    "orders.isnull().sum()"
   ]
  },
  {
   "cell_type": "code",
   "execution_count": 51,
   "id": "0e6d6ac4",
   "metadata": {},
   "outputs": [
    {
     "name": "stdout",
     "output_type": "stream",
     "text": [
      "The total number of orders is 31729\n"
     ]
    }
   ],
   "source": [
    "## Total number of orders\n",
    "\n",
    "len(orders[\"order_id\"])\n",
    "print(\"The total number of orders is\",len(orders[\"order_id\"]))"
   ]
  },
  {
   "cell_type": "code",
   "execution_count": 58,
   "id": "24514f32",
   "metadata": {},
   "outputs": [
    {
     "name": "stdout",
     "output_type": "stream",
     "text": [
      "The total number of on time delivery is 18730\n"
     ]
    }
   ],
   "source": [
    "## Total on time delivery\n",
    "orders[\"on_time\"].value_counts()[1]\n",
    "print(\"The total number of on time delivery is\",orders[\"on_time\"].value_counts()[1])"
   ]
  },
  {
   "cell_type": "code",
   "execution_count": 63,
   "id": "6c64d1a8",
   "metadata": {},
   "outputs": [
    {
     "name": "stdout",
     "output_type": "stream",
     "text": [
      "Ontime delivery percentage is 59.03\n"
     ]
    }
   ],
   "source": [
    "## On time delivery percentage\n",
    "on_time=((orders[\"on_time\"].value_counts()[1]/len(orders[\"order_id\"]))*100)\n",
    "round(on_time,2)\n",
    "print(\"Ontime delivery percentage is\",round(on_time,2))"
   ]
  },
  {
   "cell_type": "code",
   "execution_count": 66,
   "id": "36e214d1",
   "metadata": {},
   "outputs": [
    {
     "name": "stdout",
     "output_type": "stream",
     "text": [
      "The number of orders delivered in full quantity is 16747\n"
     ]
    }
   ],
   "source": [
    "## Number of orders delivered in full quantity\n",
    "\n",
    "orders[\"in_full\"].value_counts()\n",
    "print(\"The number of orders delivered in full quantity is\",orders[\"in_full\"].value_counts()[1])"
   ]
  },
  {
   "cell_type": "code",
   "execution_count": 70,
   "id": "62513b6c",
   "metadata": {},
   "outputs": [
    {
     "name": "stdout",
     "output_type": "stream",
     "text": [
      "Percentage of full quantity delivery is 52.78\n"
     ]
    }
   ],
   "source": [
    "## Percentage of full quantiy delivery\n",
    "\n",
    "Full_quantity_delivery_pecentage=((orders[\"in_full\"].value_counts()[1]/len(orders[\"order_id\"]))*100)\n",
    "round(Full_quantity_delivery_pecentage,2)\n",
    "print(\"Percentage of full quantity delivery is\",round(Full_quantity_delivery_pecentage,2))"
   ]
  },
  {
   "cell_type": "code",
   "execution_count": 73,
   "id": "1537f0f6",
   "metadata": {},
   "outputs": [
    {
     "name": "stdout",
     "output_type": "stream",
     "text": [
      "The Number of orders delivered in both on time and in full 9208\n"
     ]
    }
   ],
   "source": [
    "## Number of orders delivered in both on time and in full delivery\n",
    "\n",
    "orders[\"otif\"].value_counts()\n",
    "print(\"The Number of orders delivered in both on time and in full\" ,orders[\"otif\"].value_counts()[1])"
   ]
  },
  {
   "cell_type": "code",
   "execution_count": 78,
   "id": "8c6a45c7",
   "metadata": {},
   "outputs": [
    {
     "name": "stdout",
     "output_type": "stream",
     "text": [
      "Percentage of delivery in both on tiome and full quantity delivery is 29.02\n"
     ]
    }
   ],
   "source": [
    "## Percentage of delivery in both on tiome and full quantity delivery\n",
    "both_ot_if=((orders[\"otif\"].value_counts()[1]/len(orders[\"order_id\"])*100))\n",
    "round(both_ot_if,2)\n",
    "print(\"Percentage of delivery in both on tiome and full quantity delivery is\",round(both_ot_if,2))"
   ]
  },
  {
   "cell_type": "code",
   "execution_count": 79,
   "id": "a8356962",
   "metadata": {},
   "outputs": [
    {
     "data": {
      "text/html": [
       "<div>\n",
       "<style scoped>\n",
       "    .dataframe tbody tr th:only-of-type {\n",
       "        vertical-align: middle;\n",
       "    }\n",
       "\n",
       "    .dataframe tbody tr th {\n",
       "        vertical-align: top;\n",
       "    }\n",
       "\n",
       "    .dataframe thead th {\n",
       "        text-align: right;\n",
       "    }\n",
       "</style>\n",
       "<table border=\"1\" class=\"dataframe\">\n",
       "  <thead>\n",
       "    <tr style=\"text-align: right;\">\n",
       "      <th></th>\n",
       "      <th>customer_id</th>\n",
       "      <th>ontime_target%</th>\n",
       "      <th>infull_target%</th>\n",
       "      <th>otif_target%</th>\n",
       "    </tr>\n",
       "  </thead>\n",
       "  <tbody>\n",
       "    <tr>\n",
       "      <th>0</th>\n",
       "      <td>789201</td>\n",
       "      <td>87</td>\n",
       "      <td>81</td>\n",
       "      <td>70</td>\n",
       "    </tr>\n",
       "    <tr>\n",
       "      <th>1</th>\n",
       "      <td>789202</td>\n",
       "      <td>85</td>\n",
       "      <td>81</td>\n",
       "      <td>69</td>\n",
       "    </tr>\n",
       "    <tr>\n",
       "      <th>2</th>\n",
       "      <td>789203</td>\n",
       "      <td>92</td>\n",
       "      <td>76</td>\n",
       "      <td>70</td>\n",
       "    </tr>\n",
       "    <tr>\n",
       "      <th>3</th>\n",
       "      <td>789301</td>\n",
       "      <td>89</td>\n",
       "      <td>78</td>\n",
       "      <td>69</td>\n",
       "    </tr>\n",
       "    <tr>\n",
       "      <th>4</th>\n",
       "      <td>789303</td>\n",
       "      <td>88</td>\n",
       "      <td>78</td>\n",
       "      <td>69</td>\n",
       "    </tr>\n",
       "    <tr>\n",
       "      <th>5</th>\n",
       "      <td>789101</td>\n",
       "      <td>86</td>\n",
       "      <td>80</td>\n",
       "      <td>69</td>\n",
       "    </tr>\n",
       "    <tr>\n",
       "      <th>6</th>\n",
       "      <td>789102</td>\n",
       "      <td>90</td>\n",
       "      <td>81</td>\n",
       "      <td>73</td>\n",
       "    </tr>\n",
       "    <tr>\n",
       "      <th>7</th>\n",
       "      <td>789103</td>\n",
       "      <td>92</td>\n",
       "      <td>67</td>\n",
       "      <td>62</td>\n",
       "    </tr>\n",
       "    <tr>\n",
       "      <th>8</th>\n",
       "      <td>789121</td>\n",
       "      <td>78</td>\n",
       "      <td>77</td>\n",
       "      <td>60</td>\n",
       "    </tr>\n",
       "    <tr>\n",
       "      <th>9</th>\n",
       "      <td>789122</td>\n",
       "      <td>76</td>\n",
       "      <td>65</td>\n",
       "      <td>49</td>\n",
       "    </tr>\n",
       "    <tr>\n",
       "      <th>10</th>\n",
       "      <td>789220</td>\n",
       "      <td>91</td>\n",
       "      <td>76</td>\n",
       "      <td>69</td>\n",
       "    </tr>\n",
       "    <tr>\n",
       "      <th>11</th>\n",
       "      <td>789221</td>\n",
       "      <td>85</td>\n",
       "      <td>80</td>\n",
       "      <td>68</td>\n",
       "    </tr>\n",
       "    <tr>\n",
       "      <th>12</th>\n",
       "      <td>789320</td>\n",
       "      <td>91</td>\n",
       "      <td>81</td>\n",
       "      <td>74</td>\n",
       "    </tr>\n",
       "    <tr>\n",
       "      <th>13</th>\n",
       "      <td>789321</td>\n",
       "      <td>87</td>\n",
       "      <td>81</td>\n",
       "      <td>70</td>\n",
       "    </tr>\n",
       "    <tr>\n",
       "      <th>14</th>\n",
       "      <td>789401</td>\n",
       "      <td>85</td>\n",
       "      <td>79</td>\n",
       "      <td>67</td>\n",
       "    </tr>\n",
       "    <tr>\n",
       "      <th>15</th>\n",
       "      <td>789402</td>\n",
       "      <td>89</td>\n",
       "      <td>80</td>\n",
       "      <td>71</td>\n",
       "    </tr>\n",
       "    <tr>\n",
       "      <th>16</th>\n",
       "      <td>789403</td>\n",
       "      <td>86</td>\n",
       "      <td>79</td>\n",
       "      <td>68</td>\n",
       "    </tr>\n",
       "    <tr>\n",
       "      <th>17</th>\n",
       "      <td>789420</td>\n",
       "      <td>75</td>\n",
       "      <td>79</td>\n",
       "      <td>59</td>\n",
       "    </tr>\n",
       "    <tr>\n",
       "      <th>18</th>\n",
       "      <td>789421</td>\n",
       "      <td>78</td>\n",
       "      <td>66</td>\n",
       "      <td>51</td>\n",
       "    </tr>\n",
       "    <tr>\n",
       "      <th>19</th>\n",
       "      <td>789422</td>\n",
       "      <td>79</td>\n",
       "      <td>81</td>\n",
       "      <td>64</td>\n",
       "    </tr>\n",
       "    <tr>\n",
       "      <th>20</th>\n",
       "      <td>789501</td>\n",
       "      <td>92</td>\n",
       "      <td>80</td>\n",
       "      <td>74</td>\n",
       "    </tr>\n",
       "    <tr>\n",
       "      <th>21</th>\n",
       "      <td>789503</td>\n",
       "      <td>86</td>\n",
       "      <td>82</td>\n",
       "      <td>71</td>\n",
       "    </tr>\n",
       "    <tr>\n",
       "      <th>22</th>\n",
       "      <td>789520</td>\n",
       "      <td>75</td>\n",
       "      <td>68</td>\n",
       "      <td>51</td>\n",
       "    </tr>\n",
       "    <tr>\n",
       "      <th>23</th>\n",
       "      <td>789521</td>\n",
       "      <td>78</td>\n",
       "      <td>79</td>\n",
       "      <td>62</td>\n",
       "    </tr>\n",
       "    <tr>\n",
       "      <th>24</th>\n",
       "      <td>789522</td>\n",
       "      <td>76</td>\n",
       "      <td>79</td>\n",
       "      <td>60</td>\n",
       "    </tr>\n",
       "    <tr>\n",
       "      <th>25</th>\n",
       "      <td>789601</td>\n",
       "      <td>92</td>\n",
       "      <td>67</td>\n",
       "      <td>62</td>\n",
       "    </tr>\n",
       "    <tr>\n",
       "      <th>26</th>\n",
       "      <td>789603</td>\n",
       "      <td>92</td>\n",
       "      <td>75</td>\n",
       "      <td>69</td>\n",
       "    </tr>\n",
       "    <tr>\n",
       "      <th>27</th>\n",
       "      <td>789702</td>\n",
       "      <td>89</td>\n",
       "      <td>66</td>\n",
       "      <td>59</td>\n",
       "    </tr>\n",
       "    <tr>\n",
       "      <th>28</th>\n",
       "      <td>789703</td>\n",
       "      <td>85</td>\n",
       "      <td>78</td>\n",
       "      <td>66</td>\n",
       "    </tr>\n",
       "    <tr>\n",
       "      <th>29</th>\n",
       "      <td>789621</td>\n",
       "      <td>92</td>\n",
       "      <td>81</td>\n",
       "      <td>75</td>\n",
       "    </tr>\n",
       "    <tr>\n",
       "      <th>30</th>\n",
       "      <td>789622</td>\n",
       "      <td>90</td>\n",
       "      <td>79</td>\n",
       "      <td>71</td>\n",
       "    </tr>\n",
       "    <tr>\n",
       "      <th>31</th>\n",
       "      <td>789720</td>\n",
       "      <td>86</td>\n",
       "      <td>77</td>\n",
       "      <td>66</td>\n",
       "    </tr>\n",
       "    <tr>\n",
       "      <th>32</th>\n",
       "      <td>789721</td>\n",
       "      <td>89</td>\n",
       "      <td>75</td>\n",
       "      <td>67</td>\n",
       "    </tr>\n",
       "    <tr>\n",
       "      <th>33</th>\n",
       "      <td>789902</td>\n",
       "      <td>90</td>\n",
       "      <td>81</td>\n",
       "      <td>73</td>\n",
       "    </tr>\n",
       "    <tr>\n",
       "      <th>34</th>\n",
       "      <td>789903</td>\n",
       "      <td>92</td>\n",
       "      <td>65</td>\n",
       "      <td>60</td>\n",
       "    </tr>\n",
       "  </tbody>\n",
       "</table>\n",
       "</div>"
      ],
      "text/plain": [
       "    customer_id  ontime_target%  infull_target%  otif_target%\n",
       "0        789201              87              81            70\n",
       "1        789202              85              81            69\n",
       "2        789203              92              76            70\n",
       "3        789301              89              78            69\n",
       "4        789303              88              78            69\n",
       "5        789101              86              80            69\n",
       "6        789102              90              81            73\n",
       "7        789103              92              67            62\n",
       "8        789121              78              77            60\n",
       "9        789122              76              65            49\n",
       "10       789220              91              76            69\n",
       "11       789221              85              80            68\n",
       "12       789320              91              81            74\n",
       "13       789321              87              81            70\n",
       "14       789401              85              79            67\n",
       "15       789402              89              80            71\n",
       "16       789403              86              79            68\n",
       "17       789420              75              79            59\n",
       "18       789421              78              66            51\n",
       "19       789422              79              81            64\n",
       "20       789501              92              80            74\n",
       "21       789503              86              82            71\n",
       "22       789520              75              68            51\n",
       "23       789521              78              79            62\n",
       "24       789522              76              79            60\n",
       "25       789601              92              67            62\n",
       "26       789603              92              75            69\n",
       "27       789702              89              66            59\n",
       "28       789703              85              78            66\n",
       "29       789621              92              81            75\n",
       "30       789622              90              79            71\n",
       "31       789720              86              77            66\n",
       "32       789721              89              75            67\n",
       "33       789902              90              81            73\n",
       "34       789903              92              65            60"
      ]
     },
     "execution_count": 79,
     "metadata": {},
     "output_type": "execute_result"
    }
   ],
   "source": [
    "## Importing dataset\n",
    "target=pd.read_csv(\"D:/python practice projects/supply and chain/C2 Input for participants/dim_targets_orders.csv\")\n",
    "target"
   ]
  },
  {
   "cell_type": "code",
   "execution_count": 80,
   "id": "aecbe951",
   "metadata": {},
   "outputs": [
    {
     "data": {
      "text/plain": [
       "86.08571428571429"
      ]
     },
     "execution_count": 80,
     "metadata": {},
     "output_type": "execute_result"
    }
   ],
   "source": [
    "## Average of on time target\n",
    "target[\"ontime_target%\"].mean()"
   ]
  },
  {
   "cell_type": "code",
   "execution_count": 82,
   "id": "d3a1cc30",
   "metadata": {},
   "outputs": [
    {
     "data": {
      "text/plain": [
       "76.51428571428572"
      ]
     },
     "execution_count": 82,
     "metadata": {},
     "output_type": "execute_result"
    }
   ],
   "source": [
    "## Average of in full time target\n",
    "target[\"infull_target%\"].mean()"
   ]
  },
  {
   "cell_type": "code",
   "execution_count": 83,
   "id": "759ff62f",
   "metadata": {},
   "outputs": [
    {
     "data": {
      "text/plain": [
       "65.91428571428571"
      ]
     },
     "execution_count": 83,
     "metadata": {},
     "output_type": "execute_result"
    }
   ],
   "source": [
    "## Average of on time in full target\n",
    "target[\"otif_target%\"].mean()"
   ]
  },
  {
   "cell_type": "code",
   "execution_count": null,
   "id": "7259071e",
   "metadata": {},
   "outputs": [],
   "source": []
  }
 ],
 "metadata": {
  "kernelspec": {
   "display_name": "Python 3 (ipykernel)",
   "language": "python",
   "name": "python3"
  },
  "language_info": {
   "codemirror_mode": {
    "name": "ipython",
    "version": 3
   },
   "file_extension": ".py",
   "mimetype": "text/x-python",
   "name": "python",
   "nbconvert_exporter": "python",
   "pygments_lexer": "ipython3",
   "version": "3.9.7"
  }
 },
 "nbformat": 4,
 "nbformat_minor": 5
}
