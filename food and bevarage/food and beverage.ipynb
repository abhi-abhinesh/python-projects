{
 "cells": [
  {
   "cell_type": "code",
   "execution_count": 163,
   "id": "c246dd48",
   "metadata": {},
   "outputs": [
    {
     "data": {
      "text/html": [
       "<div>\n",
       "<style scoped>\n",
       "    .dataframe tbody tr th:only-of-type {\n",
       "        vertical-align: middle;\n",
       "    }\n",
       "\n",
       "    .dataframe tbody tr th {\n",
       "        vertical-align: top;\n",
       "    }\n",
       "\n",
       "    .dataframe thead th {\n",
       "        text-align: right;\n",
       "    }\n",
       "</style>\n",
       "<table border=\"1\" class=\"dataframe\">\n",
       "  <thead>\n",
       "    <tr style=\"text-align: right;\">\n",
       "      <th></th>\n",
       "      <th>City_ID</th>\n",
       "      <th>City</th>\n",
       "      <th>Tier</th>\n",
       "      <th>Respondent_ID</th>\n",
       "      <th>Name</th>\n",
       "      <th>Age</th>\n",
       "      <th>Gender</th>\n",
       "      <th>Response_ID</th>\n",
       "      <th>Consume_frequency</th>\n",
       "      <th>Consume_time</th>\n",
       "      <th>Consume_reason</th>\n",
       "      <th>Heard_before</th>\n",
       "      <th>Brand_perception</th>\n",
       "      <th>General_perception</th>\n",
       "      <th>Tried_before</th>\n",
       "      <th>Taste_experience</th>\n",
       "      <th>Reasons_preventing_trying</th>\n",
       "      <th>Current_brands</th>\n",
       "      <th>Reasons_for_choosing_brands</th>\n",
       "      <th>Improvements_desired</th>\n",
       "      <th>Ingredients_expected</th>\n",
       "      <th>Health_concerns</th>\n",
       "      <th>Interest_in_natural_or_organic</th>\n",
       "      <th>Marketing_channels</th>\n",
       "      <th>Packaging_preference</th>\n",
       "      <th>Limited_edition_packaging</th>\n",
       "      <th>Price_range</th>\n",
       "      <th>Purchase_location</th>\n",
       "      <th>Typical_consumption_situations</th>\n",
       "    </tr>\n",
       "  </thead>\n",
       "  <tbody>\n",
       "    <tr>\n",
       "      <th>0</th>\n",
       "      <td>CT117</td>\n",
       "      <td>Ahmedabad</td>\n",
       "      <td>Tier 2</td>\n",
       "      <td>120031</td>\n",
       "      <td>Aniruddh Issac</td>\n",
       "      <td>15-18</td>\n",
       "      <td>Female</td>\n",
       "      <td>103001</td>\n",
       "      <td>2-3 times a week</td>\n",
       "      <td>To stay awake during work/study</td>\n",
       "      <td>Increased energy and focus</td>\n",
       "      <td>Yes</td>\n",
       "      <td>Neutral</td>\n",
       "      <td>Not sure</td>\n",
       "      <td>No</td>\n",
       "      <td>5</td>\n",
       "      <td>Unfamiliar with the brand</td>\n",
       "      <td>Blue Bull</td>\n",
       "      <td>Availability</td>\n",
       "      <td>Reduced sugar content</td>\n",
       "      <td>Guarana</td>\n",
       "      <td>No</td>\n",
       "      <td>Yes</td>\n",
       "      <td>TV commercials</td>\n",
       "      <td>Compact and portable cans</td>\n",
       "      <td>Yes</td>\n",
       "      <td>50-99</td>\n",
       "      <td>Supermarkets</td>\n",
       "      <td>Studying/working late</td>\n",
       "    </tr>\n",
       "    <tr>\n",
       "      <th>1</th>\n",
       "      <td>CT118</td>\n",
       "      <td>Pune</td>\n",
       "      <td>Tier 2</td>\n",
       "      <td>120032</td>\n",
       "      <td>Trisha Rout</td>\n",
       "      <td>19-30</td>\n",
       "      <td>Male</td>\n",
       "      <td>103002</td>\n",
       "      <td>2-3 times a month</td>\n",
       "      <td>Throughout the day</td>\n",
       "      <td>To boost performance</td>\n",
       "      <td>No</td>\n",
       "      <td>Neutral</td>\n",
       "      <td>Not sure</td>\n",
       "      <td>No</td>\n",
       "      <td>5</td>\n",
       "      <td>Not interested in energy drinks</td>\n",
       "      <td>Bepsi</td>\n",
       "      <td>Availability</td>\n",
       "      <td>More natural ingredients</td>\n",
       "      <td>Caffeine</td>\n",
       "      <td>Yes</td>\n",
       "      <td>Not Sure</td>\n",
       "      <td>Print media</td>\n",
       "      <td>Compact and portable cans</td>\n",
       "      <td>No</td>\n",
       "      <td>50-99</td>\n",
       "      <td>Supermarkets</td>\n",
       "      <td>Sports/exercise</td>\n",
       "    </tr>\n",
       "    <tr>\n",
       "      <th>2</th>\n",
       "      <td>CT116</td>\n",
       "      <td>Hyderabad</td>\n",
       "      <td>Tier 1</td>\n",
       "      <td>120033</td>\n",
       "      <td>Yuvraj  Virk</td>\n",
       "      <td>15-18</td>\n",
       "      <td>Male</td>\n",
       "      <td>103003</td>\n",
       "      <td>Rarely</td>\n",
       "      <td>Before exercise</td>\n",
       "      <td>Increased energy and focus</td>\n",
       "      <td>No</td>\n",
       "      <td>Neutral</td>\n",
       "      <td>Not sure</td>\n",
       "      <td>No</td>\n",
       "      <td>2</td>\n",
       "      <td>Not available locally</td>\n",
       "      <td>Bepsi</td>\n",
       "      <td>Availability</td>\n",
       "      <td>More natural ingredients</td>\n",
       "      <td>Caffeine</td>\n",
       "      <td>No</td>\n",
       "      <td>Yes</td>\n",
       "      <td>Online ads</td>\n",
       "      <td>Innovative bottle design</td>\n",
       "      <td>Not Sure</td>\n",
       "      <td>100-150</td>\n",
       "      <td>Supermarkets</td>\n",
       "      <td>Studying/working late</td>\n",
       "    </tr>\n",
       "    <tr>\n",
       "      <th>3</th>\n",
       "      <td>CT113</td>\n",
       "      <td>Bangalore</td>\n",
       "      <td>Tier 1</td>\n",
       "      <td>120034</td>\n",
       "      <td>Pranay Chand</td>\n",
       "      <td>31-45</td>\n",
       "      <td>Female</td>\n",
       "      <td>103004</td>\n",
       "      <td>2-3 times a week</td>\n",
       "      <td>To stay awake during work/study</td>\n",
       "      <td>To boost performance</td>\n",
       "      <td>No</td>\n",
       "      <td>Positive</td>\n",
       "      <td>Dangerous</td>\n",
       "      <td>Yes</td>\n",
       "      <td>5</td>\n",
       "      <td>Other</td>\n",
       "      <td>Bepsi</td>\n",
       "      <td>Other</td>\n",
       "      <td>Other</td>\n",
       "      <td>Caffeine</td>\n",
       "      <td>No</td>\n",
       "      <td>Yes</td>\n",
       "      <td>Online ads</td>\n",
       "      <td>Compact and portable cans</td>\n",
       "      <td>No</td>\n",
       "      <td>Above 150</td>\n",
       "      <td>Supermarkets</td>\n",
       "      <td>Sports/exercise</td>\n",
       "    </tr>\n",
       "    <tr>\n",
       "      <th>4</th>\n",
       "      <td>CT120</td>\n",
       "      <td>Lucknow</td>\n",
       "      <td>Tier 2</td>\n",
       "      <td>120035</td>\n",
       "      <td>Mohanlal Joshi</td>\n",
       "      <td>19-30</td>\n",
       "      <td>Female</td>\n",
       "      <td>103005</td>\n",
       "      <td>Daily</td>\n",
       "      <td>To stay awake during work/study</td>\n",
       "      <td>Increased energy and focus</td>\n",
       "      <td>Yes</td>\n",
       "      <td>Neutral</td>\n",
       "      <td>Effective</td>\n",
       "      <td>Yes</td>\n",
       "      <td>5</td>\n",
       "      <td>Other</td>\n",
       "      <td>Sky 9</td>\n",
       "      <td>Other</td>\n",
       "      <td>More natural ingredients</td>\n",
       "      <td>Caffeine</td>\n",
       "      <td>Yes</td>\n",
       "      <td>Yes</td>\n",
       "      <td>Online ads</td>\n",
       "      <td>Compact and portable cans</td>\n",
       "      <td>Yes</td>\n",
       "      <td>100-150</td>\n",
       "      <td>Online retailers</td>\n",
       "      <td>Studying/working late</td>\n",
       "    </tr>\n",
       "    <tr>\n",
       "      <th>...</th>\n",
       "      <td>...</td>\n",
       "      <td>...</td>\n",
       "      <td>...</td>\n",
       "      <td>...</td>\n",
       "      <td>...</td>\n",
       "      <td>...</td>\n",
       "      <td>...</td>\n",
       "      <td>...</td>\n",
       "      <td>...</td>\n",
       "      <td>...</td>\n",
       "      <td>...</td>\n",
       "      <td>...</td>\n",
       "      <td>...</td>\n",
       "      <td>...</td>\n",
       "      <td>...</td>\n",
       "      <td>...</td>\n",
       "      <td>...</td>\n",
       "      <td>...</td>\n",
       "      <td>...</td>\n",
       "      <td>...</td>\n",
       "      <td>...</td>\n",
       "      <td>...</td>\n",
       "      <td>...</td>\n",
       "      <td>...</td>\n",
       "      <td>...</td>\n",
       "      <td>...</td>\n",
       "      <td>...</td>\n",
       "      <td>...</td>\n",
       "      <td>...</td>\n",
       "    </tr>\n",
       "    <tr>\n",
       "      <th>9995</th>\n",
       "      <td>CT112</td>\n",
       "      <td>Mumbai</td>\n",
       "      <td>Tier 1</td>\n",
       "      <td>130026</td>\n",
       "      <td>Arnav Kale</td>\n",
       "      <td>31-45</td>\n",
       "      <td>Male</td>\n",
       "      <td>112996</td>\n",
       "      <td>Daily</td>\n",
       "      <td>Before exercise</td>\n",
       "      <td>To enhance sports performance</td>\n",
       "      <td>Yes</td>\n",
       "      <td>Neutral</td>\n",
       "      <td>Not sure</td>\n",
       "      <td>No</td>\n",
       "      <td>4</td>\n",
       "      <td>Health concerns</td>\n",
       "      <td>Cola-Coka</td>\n",
       "      <td>Brand reputation</td>\n",
       "      <td>Other</td>\n",
       "      <td>Caffeine</td>\n",
       "      <td>No</td>\n",
       "      <td>No</td>\n",
       "      <td>Print media</td>\n",
       "      <td>Compact and portable cans</td>\n",
       "      <td>Yes</td>\n",
       "      <td>100-150</td>\n",
       "      <td>Supermarkets</td>\n",
       "      <td>Studying/working late</td>\n",
       "    </tr>\n",
       "    <tr>\n",
       "      <th>9996</th>\n",
       "      <td>CT113</td>\n",
       "      <td>Bangalore</td>\n",
       "      <td>Tier 1</td>\n",
       "      <td>130027</td>\n",
       "      <td>Yuvraj  Agrawal</td>\n",
       "      <td>15-18</td>\n",
       "      <td>Male</td>\n",
       "      <td>112997</td>\n",
       "      <td>Daily</td>\n",
       "      <td>To stay awake during work/study</td>\n",
       "      <td>To combat fatigue</td>\n",
       "      <td>No</td>\n",
       "      <td>Positive</td>\n",
       "      <td>Healthy</td>\n",
       "      <td>Yes</td>\n",
       "      <td>2</td>\n",
       "      <td>Not available locally</td>\n",
       "      <td>Gangster</td>\n",
       "      <td>Effectiveness</td>\n",
       "      <td>More natural ingredients</td>\n",
       "      <td>Caffeine</td>\n",
       "      <td>No</td>\n",
       "      <td>No</td>\n",
       "      <td>TV commercials</td>\n",
       "      <td>Other</td>\n",
       "      <td>Yes</td>\n",
       "      <td>50-99</td>\n",
       "      <td>Online retailers</td>\n",
       "      <td>Social outings/parties</td>\n",
       "    </tr>\n",
       "    <tr>\n",
       "      <th>9997</th>\n",
       "      <td>CT114</td>\n",
       "      <td>Chennai</td>\n",
       "      <td>Tier 1</td>\n",
       "      <td>130028</td>\n",
       "      <td>Vardaniya Chauhan</td>\n",
       "      <td>31-45</td>\n",
       "      <td>Male</td>\n",
       "      <td>112998</td>\n",
       "      <td>Daily</td>\n",
       "      <td>Before exercise</td>\n",
       "      <td>Increased energy and focus</td>\n",
       "      <td>Yes</td>\n",
       "      <td>Positive</td>\n",
       "      <td>Effective</td>\n",
       "      <td>No</td>\n",
       "      <td>2</td>\n",
       "      <td>Other</td>\n",
       "      <td>Blue Bull</td>\n",
       "      <td>Availability</td>\n",
       "      <td>Other</td>\n",
       "      <td>Caffeine</td>\n",
       "      <td>Yes</td>\n",
       "      <td>No</td>\n",
       "      <td>Outdoor billboards</td>\n",
       "      <td>Compact and portable cans</td>\n",
       "      <td>No</td>\n",
       "      <td>100-150</td>\n",
       "      <td>Other</td>\n",
       "      <td>Sports/exercise</td>\n",
       "    </tr>\n",
       "    <tr>\n",
       "      <th>9998</th>\n",
       "      <td>CT113</td>\n",
       "      <td>Bangalore</td>\n",
       "      <td>Tier 1</td>\n",
       "      <td>130029</td>\n",
       "      <td>Jayan Goyal</td>\n",
       "      <td>19-30</td>\n",
       "      <td>Male</td>\n",
       "      <td>112999</td>\n",
       "      <td>2-3 times a week</td>\n",
       "      <td>To stay awake during work/study</td>\n",
       "      <td>Increased energy and focus</td>\n",
       "      <td>No</td>\n",
       "      <td>Positive</td>\n",
       "      <td>Healthy</td>\n",
       "      <td>No</td>\n",
       "      <td>4</td>\n",
       "      <td>Unfamiliar with the brand</td>\n",
       "      <td>Blue Bull</td>\n",
       "      <td>Taste/flavor preference</td>\n",
       "      <td>Other</td>\n",
       "      <td>Sugar</td>\n",
       "      <td>Yes</td>\n",
       "      <td>Yes</td>\n",
       "      <td>Online ads</td>\n",
       "      <td>Compact and portable cans</td>\n",
       "      <td>Not Sure</td>\n",
       "      <td>50-99</td>\n",
       "      <td>Supermarkets</td>\n",
       "      <td>Studying/working late</td>\n",
       "    </tr>\n",
       "    <tr>\n",
       "      <th>9999</th>\n",
       "      <td>CT112</td>\n",
       "      <td>Mumbai</td>\n",
       "      <td>Tier 1</td>\n",
       "      <td>130030</td>\n",
       "      <td>Piya Varty</td>\n",
       "      <td>15-18</td>\n",
       "      <td>Male</td>\n",
       "      <td>113000</td>\n",
       "      <td>Daily</td>\n",
       "      <td>For mental alertness</td>\n",
       "      <td>Other</td>\n",
       "      <td>Yes</td>\n",
       "      <td>Positive</td>\n",
       "      <td>Effective</td>\n",
       "      <td>No</td>\n",
       "      <td>4</td>\n",
       "      <td>Not interested in energy drinks</td>\n",
       "      <td>Bepsi</td>\n",
       "      <td>Brand reputation</td>\n",
       "      <td>Wider range of flavors</td>\n",
       "      <td>Caffeine</td>\n",
       "      <td>Yes</td>\n",
       "      <td>Not Sure</td>\n",
       "      <td>Print media</td>\n",
       "      <td>Eco-friendly design</td>\n",
       "      <td>No</td>\n",
       "      <td>50-99</td>\n",
       "      <td>Supermarkets</td>\n",
       "      <td>Sports/exercise</td>\n",
       "    </tr>\n",
       "  </tbody>\n",
       "</table>\n",
       "<p>10000 rows × 29 columns</p>\n",
       "</div>"
      ],
      "text/plain": [
       "     City_ID       City    Tier  Respondent_ID               Name    Age  \\\n",
       "0      CT117  Ahmedabad  Tier 2         120031     Aniruddh Issac  15-18   \n",
       "1      CT118       Pune  Tier 2         120032        Trisha Rout  19-30   \n",
       "2      CT116  Hyderabad  Tier 1         120033       Yuvraj  Virk  15-18   \n",
       "3      CT113  Bangalore  Tier 1         120034       Pranay Chand  31-45   \n",
       "4      CT120    Lucknow  Tier 2         120035     Mohanlal Joshi  19-30   \n",
       "...      ...        ...     ...            ...                ...    ...   \n",
       "9995   CT112     Mumbai  Tier 1         130026         Arnav Kale  31-45   \n",
       "9996   CT113  Bangalore  Tier 1         130027    Yuvraj  Agrawal  15-18   \n",
       "9997   CT114    Chennai  Tier 1         130028  Vardaniya Chauhan  31-45   \n",
       "9998   CT113  Bangalore  Tier 1         130029        Jayan Goyal  19-30   \n",
       "9999   CT112     Mumbai  Tier 1         130030         Piya Varty  15-18   \n",
       "\n",
       "      Gender  Response_ID  Consume_frequency                     Consume_time  \\\n",
       "0     Female       103001   2-3 times a week  To stay awake during work/study   \n",
       "1       Male       103002  2-3 times a month               Throughout the day   \n",
       "2       Male       103003             Rarely                  Before exercise   \n",
       "3     Female       103004   2-3 times a week  To stay awake during work/study   \n",
       "4     Female       103005              Daily  To stay awake during work/study   \n",
       "...      ...          ...                ...                              ...   \n",
       "9995    Male       112996              Daily                  Before exercise   \n",
       "9996    Male       112997              Daily  To stay awake during work/study   \n",
       "9997    Male       112998              Daily                  Before exercise   \n",
       "9998    Male       112999   2-3 times a week  To stay awake during work/study   \n",
       "9999    Male       113000              Daily             For mental alertness   \n",
       "\n",
       "                     Consume_reason Heard_before Brand_perception  \\\n",
       "0        Increased energy and focus          Yes          Neutral   \n",
       "1              To boost performance           No          Neutral   \n",
       "2        Increased energy and focus           No          Neutral   \n",
       "3              To boost performance           No         Positive   \n",
       "4        Increased energy and focus          Yes          Neutral   \n",
       "...                             ...          ...              ...   \n",
       "9995  To enhance sports performance          Yes          Neutral   \n",
       "9996              To combat fatigue           No         Positive   \n",
       "9997     Increased energy and focus          Yes         Positive   \n",
       "9998     Increased energy and focus           No         Positive   \n",
       "9999                          Other          Yes         Positive   \n",
       "\n",
       "     General_perception Tried_before  Taste_experience  \\\n",
       "0              Not sure           No                 5   \n",
       "1              Not sure           No                 5   \n",
       "2              Not sure           No                 2   \n",
       "3             Dangerous          Yes                 5   \n",
       "4             Effective          Yes                 5   \n",
       "...                 ...          ...               ...   \n",
       "9995           Not sure           No                 4   \n",
       "9996            Healthy          Yes                 2   \n",
       "9997          Effective           No                 2   \n",
       "9998            Healthy           No                 4   \n",
       "9999          Effective           No                 4   \n",
       "\n",
       "            Reasons_preventing_trying Current_brands  \\\n",
       "0           Unfamiliar with the brand      Blue Bull   \n",
       "1     Not interested in energy drinks          Bepsi   \n",
       "2               Not available locally          Bepsi   \n",
       "3                               Other          Bepsi   \n",
       "4                               Other          Sky 9   \n",
       "...                               ...            ...   \n",
       "9995                  Health concerns      Cola-Coka   \n",
       "9996            Not available locally       Gangster   \n",
       "9997                            Other      Blue Bull   \n",
       "9998        Unfamiliar with the brand      Blue Bull   \n",
       "9999  Not interested in energy drinks          Bepsi   \n",
       "\n",
       "     Reasons_for_choosing_brands      Improvements_desired  \\\n",
       "0                   Availability     Reduced sugar content   \n",
       "1                   Availability  More natural ingredients   \n",
       "2                   Availability  More natural ingredients   \n",
       "3                          Other                     Other   \n",
       "4                          Other  More natural ingredients   \n",
       "...                          ...                       ...   \n",
       "9995            Brand reputation                     Other   \n",
       "9996               Effectiveness  More natural ingredients   \n",
       "9997                Availability                     Other   \n",
       "9998     Taste/flavor preference                     Other   \n",
       "9999            Brand reputation    Wider range of flavors   \n",
       "\n",
       "     Ingredients_expected Health_concerns Interest_in_natural_or_organic  \\\n",
       "0                 Guarana              No                            Yes   \n",
       "1                Caffeine             Yes                       Not Sure   \n",
       "2                Caffeine              No                            Yes   \n",
       "3                Caffeine              No                            Yes   \n",
       "4                Caffeine             Yes                            Yes   \n",
       "...                   ...             ...                            ...   \n",
       "9995             Caffeine              No                             No   \n",
       "9996             Caffeine              No                             No   \n",
       "9997             Caffeine             Yes                             No   \n",
       "9998                Sugar             Yes                            Yes   \n",
       "9999             Caffeine             Yes                       Not Sure   \n",
       "\n",
       "      Marketing_channels       Packaging_preference Limited_edition_packaging  \\\n",
       "0         TV commercials  Compact and portable cans                       Yes   \n",
       "1            Print media  Compact and portable cans                        No   \n",
       "2             Online ads   Innovative bottle design                  Not Sure   \n",
       "3             Online ads  Compact and portable cans                        No   \n",
       "4             Online ads  Compact and portable cans                       Yes   \n",
       "...                  ...                        ...                       ...   \n",
       "9995         Print media  Compact and portable cans                       Yes   \n",
       "9996      TV commercials                      Other                       Yes   \n",
       "9997  Outdoor billboards  Compact and portable cans                        No   \n",
       "9998          Online ads  Compact and portable cans                  Not Sure   \n",
       "9999         Print media        Eco-friendly design                        No   \n",
       "\n",
       "     Price_range Purchase_location Typical_consumption_situations  \n",
       "0          50-99      Supermarkets          Studying/working late  \n",
       "1          50-99      Supermarkets                Sports/exercise  \n",
       "2        100-150      Supermarkets          Studying/working late  \n",
       "3      Above 150      Supermarkets                Sports/exercise  \n",
       "4        100-150  Online retailers          Studying/working late  \n",
       "...          ...               ...                            ...  \n",
       "9995     100-150      Supermarkets          Studying/working late  \n",
       "9996       50-99  Online retailers         Social outings/parties  \n",
       "9997     100-150             Other                Sports/exercise  \n",
       "9998       50-99      Supermarkets          Studying/working late  \n",
       "9999       50-99      Supermarkets                Sports/exercise  \n",
       "\n",
       "[10000 rows x 29 columns]"
      ]
     },
     "execution_count": 163,
     "metadata": {},
     "output_type": "execute_result"
    }
   ],
   "source": [
    "## Importing necessory libraries\n",
    "import numpy as np\n",
    "import pandas as pd\n",
    "import matplotlib.pyplot as plt\n",
    "import seaborn as sns\n",
    "##Importing data\n",
    "\n",
    "cities=pd.read_csv(\"D:/python practice projects/food&bevarage/Dataset/dim_cities.csv\")\n",
    "respondents=pd.read_csv(\"D:/python practice projects/food&bevarage/Dataset/dim_repondents.csv\")\n",
    "survey_response=pd.read_csv(\"D:/python practice projects/food&bevarage/Dataset/fact_survey_responses.csv\")\n",
    "\n",
    "## Merging data to answer question\n",
    "\n",
    "partial_merge=cities.merge(respondents,on=\"City_ID\",how=\"inner\")\n",
    "data=partial_merge.merge(survey_response,on=\"Respondent_ID\",how=\"right\")\n",
    "data"
   ]
  },
  {
   "cell_type": "code",
   "execution_count": 32,
   "id": "79026f77",
   "metadata": {},
   "outputs": [
    {
     "name": "stdout",
     "output_type": "stream",
     "text": [
      "Number of rows is 10000\n",
      "Number of columns is 29\n"
     ]
    }
   ],
   "source": [
    "## Data cleanig procedures\n",
    "\n",
    "## 1.) checking number of rows and columns\n",
    "\n",
    "data.shape\n",
    "print(\"Number of rows is\",data.shape[0])\n",
    "print(\"Number of columns is\",data.shape[1])"
   ]
  },
  {
   "cell_type": "code",
   "execution_count": 22,
   "id": "76895aee",
   "metadata": {},
   "outputs": [
    {
     "data": {
      "text/plain": [
       "City_ID                           object\n",
       "City                              object\n",
       "Tier                              object\n",
       "Respondent_ID                      int64\n",
       "Name                              object\n",
       "Age                               object\n",
       "Gender                            object\n",
       "Response_ID                        int64\n",
       "Consume_frequency                 object\n",
       "Consume_time                      object\n",
       "Consume_reason                    object\n",
       "Heard_before                      object\n",
       "Brand_perception                  object\n",
       "General_perception                object\n",
       "Tried_before                      object\n",
       "Taste_experience                   int64\n",
       "Reasons_preventing_trying         object\n",
       "Current_brands                    object\n",
       "Reasons_for_choosing_brands       object\n",
       "Improvements_desired              object\n",
       "Ingredients_expected              object\n",
       "Health_concerns                   object\n",
       "Interest_in_natural_or_organic    object\n",
       "Marketing_channels                object\n",
       "Packaging_preference              object\n",
       "Limited_edition_packaging         object\n",
       "Price_range                       object\n",
       "Purchase_location                 object\n",
       "Typical_consumption_situations    object\n",
       "dtype: object"
      ]
     },
     "execution_count": 22,
     "metadata": {},
     "output_type": "execute_result"
    }
   ],
   "source": [
    "## 2.) Checking data types of each column\n",
    "\n",
    "data.dtypes"
   ]
  },
  {
   "cell_type": "code",
   "execution_count": 23,
   "id": "0bf20b41",
   "metadata": {},
   "outputs": [
    {
     "data": {
      "text/plain": [
       "City_ID                           0\n",
       "City                              0\n",
       "Tier                              0\n",
       "Respondent_ID                     0\n",
       "Name                              0\n",
       "Age                               0\n",
       "Gender                            0\n",
       "Response_ID                       0\n",
       "Consume_frequency                 0\n",
       "Consume_time                      0\n",
       "Consume_reason                    0\n",
       "Heard_before                      0\n",
       "Brand_perception                  0\n",
       "General_perception                0\n",
       "Tried_before                      0\n",
       "Taste_experience                  0\n",
       "Reasons_preventing_trying         0\n",
       "Current_brands                    0\n",
       "Reasons_for_choosing_brands       0\n",
       "Improvements_desired              0\n",
       "Ingredients_expected              0\n",
       "Health_concerns                   0\n",
       "Interest_in_natural_or_organic    0\n",
       "Marketing_channels                0\n",
       "Packaging_preference              0\n",
       "Limited_edition_packaging         0\n",
       "Price_range                       0\n",
       "Purchase_location                 0\n",
       "Typical_consumption_situations    0\n",
       "dtype: int64"
      ]
     },
     "execution_count": 23,
     "metadata": {},
     "output_type": "execute_result"
    }
   ],
   "source": [
    "## 3.)checking null values in each column\n",
    "data.isnull().sum()"
   ]
  },
  {
   "cell_type": "code",
   "execution_count": 24,
   "id": "64dae1ff",
   "metadata": {},
   "outputs": [
    {
     "data": {
      "text/html": [
       "<div>\n",
       "<style scoped>\n",
       "    .dataframe tbody tr th:only-of-type {\n",
       "        vertical-align: middle;\n",
       "    }\n",
       "\n",
       "    .dataframe tbody tr th {\n",
       "        vertical-align: top;\n",
       "    }\n",
       "\n",
       "    .dataframe thead th {\n",
       "        text-align: right;\n",
       "    }\n",
       "</style>\n",
       "<table border=\"1\" class=\"dataframe\">\n",
       "  <thead>\n",
       "    <tr style=\"text-align: right;\">\n",
       "      <th></th>\n",
       "      <th>City_ID</th>\n",
       "      <th>City</th>\n",
       "      <th>Tier</th>\n",
       "      <th>Respondent_ID</th>\n",
       "      <th>Name</th>\n",
       "      <th>Age</th>\n",
       "      <th>Gender</th>\n",
       "      <th>Response_ID</th>\n",
       "      <th>Consume_frequency</th>\n",
       "      <th>Consume_time</th>\n",
       "      <th>...</th>\n",
       "      <th>Improvements_desired</th>\n",
       "      <th>Ingredients_expected</th>\n",
       "      <th>Health_concerns</th>\n",
       "      <th>Interest_in_natural_or_organic</th>\n",
       "      <th>Marketing_channels</th>\n",
       "      <th>Packaging_preference</th>\n",
       "      <th>Limited_edition_packaging</th>\n",
       "      <th>Price_range</th>\n",
       "      <th>Purchase_location</th>\n",
       "      <th>Typical_consumption_situations</th>\n",
       "    </tr>\n",
       "  </thead>\n",
       "  <tbody>\n",
       "  </tbody>\n",
       "</table>\n",
       "<p>0 rows × 29 columns</p>\n",
       "</div>"
      ],
      "text/plain": [
       "Empty DataFrame\n",
       "Columns: [City_ID, City, Tier, Respondent_ID, Name, Age, Gender, Response_ID, Consume_frequency, Consume_time, Consume_reason, Heard_before, Brand_perception, General_perception, Tried_before, Taste_experience, Reasons_preventing_trying, Current_brands, Reasons_for_choosing_brands, Improvements_desired, Ingredients_expected, Health_concerns, Interest_in_natural_or_organic, Marketing_channels, Packaging_preference, Limited_edition_packaging, Price_range, Purchase_location, Typical_consumption_situations]\n",
       "Index: []\n",
       "\n",
       "[0 rows x 29 columns]"
      ]
     },
     "execution_count": 24,
     "metadata": {},
     "output_type": "execute_result"
    }
   ],
   "source": [
    "## 4.) Checking duplicate data\n",
    "\n",
    "data[data.duplicated()]"
   ]
  },
  {
   "cell_type": "code",
   "execution_count": 14,
   "id": "5b1835b1",
   "metadata": {},
   "outputs": [
    {
     "data": {
      "text/html": [
       "<div>\n",
       "<style scoped>\n",
       "    .dataframe tbody tr th:only-of-type {\n",
       "        vertical-align: middle;\n",
       "    }\n",
       "\n",
       "    .dataframe tbody tr th {\n",
       "        vertical-align: top;\n",
       "    }\n",
       "\n",
       "    .dataframe thead th {\n",
       "        text-align: right;\n",
       "    }\n",
       "</style>\n",
       "<table border=\"1\" class=\"dataframe\">\n",
       "  <thead>\n",
       "    <tr style=\"text-align: right;\">\n",
       "      <th></th>\n",
       "      <th>City_ID</th>\n",
       "      <th>City</th>\n",
       "      <th>Tier</th>\n",
       "      <th>Respondent_ID</th>\n",
       "      <th>Name</th>\n",
       "      <th>Age</th>\n",
       "      <th>Gender</th>\n",
       "      <th>Response_ID</th>\n",
       "      <th>Consume_frequency</th>\n",
       "      <th>Consume_time</th>\n",
       "      <th>Consume_reason</th>\n",
       "      <th>Heard_before</th>\n",
       "      <th>Brand_perception</th>\n",
       "      <th>General_perception</th>\n",
       "      <th>Tried_before</th>\n",
       "      <th>Taste_experience</th>\n",
       "      <th>Reasons_preventing_trying</th>\n",
       "      <th>Current_brands</th>\n",
       "      <th>Reasons_for_choosing_brands</th>\n",
       "      <th>Improvements_desired</th>\n",
       "      <th>Ingredients_expected</th>\n",
       "      <th>Health_concerns</th>\n",
       "      <th>Interest_in_natural_or_organic</th>\n",
       "      <th>Marketing_channels</th>\n",
       "      <th>Packaging_preference</th>\n",
       "      <th>Limited_edition_packaging</th>\n",
       "      <th>Price_range</th>\n",
       "      <th>Purchase_location</th>\n",
       "      <th>Typical_consumption_situations</th>\n",
       "    </tr>\n",
       "  </thead>\n",
       "  <tbody>\n",
       "    <tr>\n",
       "      <th>0</th>\n",
       "      <td>CT117</td>\n",
       "      <td>Ahmedabad</td>\n",
       "      <td>Tier 2</td>\n",
       "      <td>120031</td>\n",
       "      <td>Aniruddh Issac</td>\n",
       "      <td>15-18</td>\n",
       "      <td>Female</td>\n",
       "      <td>103001</td>\n",
       "      <td>2-3 times a week</td>\n",
       "      <td>To stay awake during work/study</td>\n",
       "      <td>Increased energy and focus</td>\n",
       "      <td>Yes</td>\n",
       "      <td>Neutral</td>\n",
       "      <td>Not sure</td>\n",
       "      <td>No</td>\n",
       "      <td>5</td>\n",
       "      <td>Unfamiliar with the brand</td>\n",
       "      <td>Blue Bull</td>\n",
       "      <td>Availability</td>\n",
       "      <td>Reduced sugar content</td>\n",
       "      <td>Guarana</td>\n",
       "      <td>No</td>\n",
       "      <td>Yes</td>\n",
       "      <td>TV commercials</td>\n",
       "      <td>Compact and portable cans</td>\n",
       "      <td>Yes</td>\n",
       "      <td>50-99</td>\n",
       "      <td>Supermarkets</td>\n",
       "      <td>Studying/working late</td>\n",
       "    </tr>\n",
       "    <tr>\n",
       "      <th>1</th>\n",
       "      <td>CT118</td>\n",
       "      <td>Pune</td>\n",
       "      <td>Tier 2</td>\n",
       "      <td>120032</td>\n",
       "      <td>Trisha Rout</td>\n",
       "      <td>19-30</td>\n",
       "      <td>Male</td>\n",
       "      <td>103002</td>\n",
       "      <td>2-3 times a month</td>\n",
       "      <td>Throughout the day</td>\n",
       "      <td>To boost performance</td>\n",
       "      <td>No</td>\n",
       "      <td>Neutral</td>\n",
       "      <td>Not sure</td>\n",
       "      <td>No</td>\n",
       "      <td>5</td>\n",
       "      <td>Not interested in energy drinks</td>\n",
       "      <td>Bepsi</td>\n",
       "      <td>Availability</td>\n",
       "      <td>More natural ingredients</td>\n",
       "      <td>Caffeine</td>\n",
       "      <td>Yes</td>\n",
       "      <td>Not Sure</td>\n",
       "      <td>Print media</td>\n",
       "      <td>Compact and portable cans</td>\n",
       "      <td>No</td>\n",
       "      <td>50-99</td>\n",
       "      <td>Supermarkets</td>\n",
       "      <td>Sports/exercise</td>\n",
       "    </tr>\n",
       "    <tr>\n",
       "      <th>2</th>\n",
       "      <td>CT116</td>\n",
       "      <td>Hyderabad</td>\n",
       "      <td>Tier 1</td>\n",
       "      <td>120033</td>\n",
       "      <td>Yuvraj  Virk</td>\n",
       "      <td>15-18</td>\n",
       "      <td>Male</td>\n",
       "      <td>103003</td>\n",
       "      <td>Rarely</td>\n",
       "      <td>Before exercise</td>\n",
       "      <td>Increased energy and focus</td>\n",
       "      <td>No</td>\n",
       "      <td>Neutral</td>\n",
       "      <td>Not sure</td>\n",
       "      <td>No</td>\n",
       "      <td>2</td>\n",
       "      <td>Not available locally</td>\n",
       "      <td>Bepsi</td>\n",
       "      <td>Availability</td>\n",
       "      <td>More natural ingredients</td>\n",
       "      <td>Caffeine</td>\n",
       "      <td>No</td>\n",
       "      <td>Yes</td>\n",
       "      <td>Online ads</td>\n",
       "      <td>Innovative bottle design</td>\n",
       "      <td>Not Sure</td>\n",
       "      <td>100-150</td>\n",
       "      <td>Supermarkets</td>\n",
       "      <td>Studying/working late</td>\n",
       "    </tr>\n",
       "    <tr>\n",
       "      <th>3</th>\n",
       "      <td>CT113</td>\n",
       "      <td>Bangalore</td>\n",
       "      <td>Tier 1</td>\n",
       "      <td>120034</td>\n",
       "      <td>Pranay Chand</td>\n",
       "      <td>31-45</td>\n",
       "      <td>Female</td>\n",
       "      <td>103004</td>\n",
       "      <td>2-3 times a week</td>\n",
       "      <td>To stay awake during work/study</td>\n",
       "      <td>To boost performance</td>\n",
       "      <td>No</td>\n",
       "      <td>Positive</td>\n",
       "      <td>Dangerous</td>\n",
       "      <td>Yes</td>\n",
       "      <td>5</td>\n",
       "      <td>Other</td>\n",
       "      <td>Bepsi</td>\n",
       "      <td>Other</td>\n",
       "      <td>Other</td>\n",
       "      <td>Caffeine</td>\n",
       "      <td>No</td>\n",
       "      <td>Yes</td>\n",
       "      <td>Online ads</td>\n",
       "      <td>Compact and portable cans</td>\n",
       "      <td>No</td>\n",
       "      <td>Above 150</td>\n",
       "      <td>Supermarkets</td>\n",
       "      <td>Sports/exercise</td>\n",
       "    </tr>\n",
       "    <tr>\n",
       "      <th>4</th>\n",
       "      <td>CT120</td>\n",
       "      <td>Lucknow</td>\n",
       "      <td>Tier 2</td>\n",
       "      <td>120035</td>\n",
       "      <td>Mohanlal Joshi</td>\n",
       "      <td>19-30</td>\n",
       "      <td>Female</td>\n",
       "      <td>103005</td>\n",
       "      <td>Daily</td>\n",
       "      <td>To stay awake during work/study</td>\n",
       "      <td>Increased energy and focus</td>\n",
       "      <td>Yes</td>\n",
       "      <td>Neutral</td>\n",
       "      <td>Effective</td>\n",
       "      <td>Yes</td>\n",
       "      <td>5</td>\n",
       "      <td>Other</td>\n",
       "      <td>Sky 9</td>\n",
       "      <td>Other</td>\n",
       "      <td>More natural ingredients</td>\n",
       "      <td>Caffeine</td>\n",
       "      <td>Yes</td>\n",
       "      <td>Yes</td>\n",
       "      <td>Online ads</td>\n",
       "      <td>Compact and portable cans</td>\n",
       "      <td>Yes</td>\n",
       "      <td>100-150</td>\n",
       "      <td>Online retailers</td>\n",
       "      <td>Studying/working late</td>\n",
       "    </tr>\n",
       "  </tbody>\n",
       "</table>\n",
       "</div>"
      ],
      "text/plain": [
       "  City_ID       City    Tier  Respondent_ID            Name    Age  Gender  \\\n",
       "0   CT117  Ahmedabad  Tier 2         120031  Aniruddh Issac  15-18  Female   \n",
       "1   CT118       Pune  Tier 2         120032     Trisha Rout  19-30    Male   \n",
       "2   CT116  Hyderabad  Tier 1         120033    Yuvraj  Virk  15-18    Male   \n",
       "3   CT113  Bangalore  Tier 1         120034    Pranay Chand  31-45  Female   \n",
       "4   CT120    Lucknow  Tier 2         120035  Mohanlal Joshi  19-30  Female   \n",
       "\n",
       "   Response_ID  Consume_frequency                     Consume_time  \\\n",
       "0       103001   2-3 times a week  To stay awake during work/study   \n",
       "1       103002  2-3 times a month               Throughout the day   \n",
       "2       103003             Rarely                  Before exercise   \n",
       "3       103004   2-3 times a week  To stay awake during work/study   \n",
       "4       103005              Daily  To stay awake during work/study   \n",
       "\n",
       "               Consume_reason Heard_before Brand_perception  \\\n",
       "0  Increased energy and focus          Yes          Neutral   \n",
       "1        To boost performance           No          Neutral   \n",
       "2  Increased energy and focus           No          Neutral   \n",
       "3        To boost performance           No         Positive   \n",
       "4  Increased energy and focus          Yes          Neutral   \n",
       "\n",
       "  General_perception Tried_before  Taste_experience  \\\n",
       "0           Not sure           No                 5   \n",
       "1           Not sure           No                 5   \n",
       "2           Not sure           No                 2   \n",
       "3          Dangerous          Yes                 5   \n",
       "4          Effective          Yes                 5   \n",
       "\n",
       "         Reasons_preventing_trying Current_brands Reasons_for_choosing_brands  \\\n",
       "0        Unfamiliar with the brand      Blue Bull                Availability   \n",
       "1  Not interested in energy drinks          Bepsi                Availability   \n",
       "2            Not available locally          Bepsi                Availability   \n",
       "3                            Other          Bepsi                       Other   \n",
       "4                            Other          Sky 9                       Other   \n",
       "\n",
       "       Improvements_desired Ingredients_expected Health_concerns  \\\n",
       "0     Reduced sugar content              Guarana              No   \n",
       "1  More natural ingredients             Caffeine             Yes   \n",
       "2  More natural ingredients             Caffeine              No   \n",
       "3                     Other             Caffeine              No   \n",
       "4  More natural ingredients             Caffeine             Yes   \n",
       "\n",
       "  Interest_in_natural_or_organic Marketing_channels  \\\n",
       "0                            Yes     TV commercials   \n",
       "1                       Not Sure        Print media   \n",
       "2                            Yes         Online ads   \n",
       "3                            Yes         Online ads   \n",
       "4                            Yes         Online ads   \n",
       "\n",
       "        Packaging_preference Limited_edition_packaging Price_range  \\\n",
       "0  Compact and portable cans                       Yes       50-99   \n",
       "1  Compact and portable cans                        No       50-99   \n",
       "2   Innovative bottle design                  Not Sure     100-150   \n",
       "3  Compact and portable cans                        No   Above 150   \n",
       "4  Compact and portable cans                       Yes     100-150   \n",
       "\n",
       "  Purchase_location Typical_consumption_situations  \n",
       "0      Supermarkets          Studying/working late  \n",
       "1      Supermarkets                Sports/exercise  \n",
       "2      Supermarkets          Studying/working late  \n",
       "3      Supermarkets                Sports/exercise  \n",
       "4  Online retailers          Studying/working late  "
      ]
     },
     "execution_count": 14,
     "metadata": {},
     "output_type": "execute_result"
    }
   ],
   "source": [
    "## Viewing all the available columns in the dataset\n",
    "\n",
    "pd.set_option(\"display.max_columns\",None)\n",
    "data.head()"
   ]
  },
  {
   "cell_type": "code",
   "execution_count": 172,
   "id": "7332b489",
   "metadata": {},
   "outputs": [
    {
     "data": {
      "text/plain": [
       "<AxesSubplot:>"
      ]
     },
     "execution_count": 172,
     "metadata": {},
     "output_type": "execute_result"
    },
    {
     "data": {
      "image/png": "[encoded data removed]",
      "text/plain": [
       "<Figure size 432x288 with 1 Axes>"
      ]
     },
     "metadata": {
      "needs_background": "light"
     },
     "output_type": "display_data"
    }
   ],
   "source": [
    "## Demographic insights\n",
    "## 1.) Who prefers energy drink more?\n",
    "data[\"Gender\"].value_counts().plot(kind=\"barh\")"
   ]
  },
  {
   "cell_type": "code",
   "execution_count": 161,
   "id": "97e95b56",
   "metadata": {},
   "outputs": [
    {
     "data": {
      "text/plain": [
       "19-30    3337\n",
       "31-45    1435\n",
       "15-18     903\n",
       "46-65     261\n",
       "65+       102\n",
       "Name: Age, dtype: int64"
      ]
     },
     "execution_count": 161,
     "metadata": {},
     "output_type": "execute_result"
    }
   ],
   "source": [
    "## Which age group prefer the energy drink most under male category \n",
    "\n",
    "preference_by_age=data[data[\"Gender\"]==\"Male\"][[\"Gender\",\"Age\"]]\n",
    "preference_by_age[\"Age\"].value_counts()"
   ]
  },
  {
   "cell_type": "code",
   "execution_count": 174,
   "id": "70d718ac",
   "metadata": {},
   "outputs": [
    {
     "data": {
      "text/plain": [
       "<AxesSubplot:>"
      ]
     },
     "execution_count": 174,
     "metadata": {},
     "output_type": "execute_result"
    },
    {
     "data": {
      "image/png": "[encoded data removed]",
      "text/plain": [
       "<Figure size 432x288 with 1 Axes>"
      ]
     },
     "metadata": {
      "needs_background": "light"
     },
     "output_type": "display_data"
    }
   ],
   "source": [
    "preference_by_age[\"Age\"].value_counts().plot(kind=\"bar\")"
   ]
  },
  {
   "cell_type": "code",
   "execution_count": 22,
   "id": "d33fd049",
   "metadata": {},
   "outputs": [
    {
     "data": {
      "text/plain": [
       "19-30    5520\n",
       "31-45    2376\n",
       "15-18    1488\n",
       "46-65     426\n",
       "65+       190\n",
       "Name: Age, dtype: int64"
      ]
     },
     "execution_count": 22,
     "metadata": {},
     "output_type": "execute_result"
    }
   ],
   "source": [
    "## 2.) Which age group prefer the enery drink more?\n",
    "\n",
    "data[\"Age\"].value_counts()"
   ]
  },
  {
   "cell_type": "code",
   "execution_count": 175,
   "id": "e301baeb",
   "metadata": {},
   "outputs": [
    {
     "data": {
      "text/plain": [
       "<AxesSubplot:>"
      ]
     },
     "execution_count": 175,
     "metadata": {},
     "output_type": "execute_result"
    },
    {
     "data": {
      "image/png": "[encoded data removed]",
      "text/plain": [
       "<Figure size 432x288 with 1 Axes>"
      ]
     },
     "metadata": {
      "needs_background": "light"
     },
     "output_type": "display_data"
    }
   ],
   "source": [
    "data[\"Age\"].value_counts().plot(kind=\"barh\")"
   ]
  },
  {
   "cell_type": "code",
   "execution_count": 60,
   "id": "0907d421",
   "metadata": {},
   "outputs": [
    {
     "data": {
      "text/plain": [
       "Online ads            3373\n",
       "TV commercials        1785\n",
       "Other                  702\n",
       "Outdoor billboards     702\n",
       "Print media            446\n",
       "Name: Marketing_channels, dtype: int64"
      ]
     },
     "execution_count": 60,
     "metadata": {},
     "output_type": "execute_result"
    }
   ],
   "source": [
    "## Which type of marketing reaches the most youth (15-30)?\n",
    "\n",
    "best_marketing=data[(data[\"Age\"]==\"15-18\") | (data[\"Age\"]==\"19-30\")][[\"Age\",\"Marketing_channels\"]]\n",
    "best_marketing[\"Age\"]=best_marketing[\"Age\"].str.replace(\"15-18\",\"15-30\")\n",
    "best_marketing[\"Age\"]=best_marketing[\"Age\"].str.replace(\"19-30\",\"15-30\")\n",
    "best_marketing[\"Marketing_channels\"].value_counts()"
   ]
  },
  {
   "cell_type": "code",
   "execution_count": 176,
   "id": "41763b96",
   "metadata": {},
   "outputs": [
    {
     "data": {
      "text/plain": [
       "Text(0.5, 1.0, 'Best marketing type')"
      ]
     },
     "execution_count": 176,
     "metadata": {},
     "output_type": "execute_result"
    },
    {
     "data": {
      "image/png": "[encoded data removed]",
      "text/plain": [
       "<Figure size 432x288 with 1 Axes>"
      ]
     },
     "metadata": {
      "needs_background": "light"
     },
     "output_type": "display_data"
    }
   ],
   "source": [
    "best_marketing[\"Marketing_channels\"].value_counts().plot(kind=\"barh\")\n",
    "plt.title(\"Best marketing type\")"
   ]
  },
  {
   "cell_type": "code",
   "execution_count": 71,
   "id": "7e242979",
   "metadata": {},
   "outputs": [
    {
     "name": "stdout",
     "output_type": "stream",
     "text": [
      "The variety of ingredients in the energy drink includes ['Guarana' 'Caffeine' 'Vitamins' 'Sugar']\n",
      "The number of preferences for each ingredient are Caffeine    3896\n",
      "Vitamins    2534\n",
      "Sugar       2017\n",
      "Guarana     1553\n",
      "Name: Ingredients_expected, dtype: int64\n"
     ]
    }
   ],
   "source": [
    "## Consumer prefernces\n",
    "## 1.) What are the preferred ingredients of energy drinks among respondents?\n",
    "data[\"Ingredients_expected\"].unique()\n",
    "data[\"Ingredients_expected\"].value_counts()\n",
    "\n",
    "print (\"The variety of ingredients in the energy drink includes\" ,data[\"Ingredients_expected\"].unique())\n",
    "print(\"The number of preferences for each ingredient are\" ,data[\"Ingredients_expected\"].value_counts())"
   ]
  },
  {
   "cell_type": "code",
   "execution_count": 177,
   "id": "8e651d3b",
   "metadata": {},
   "outputs": [
    {
     "data": {
      "text/plain": [
       "Text(0.5, 1.0, 'Consumer preferred ingredient')"
      ]
     },
     "execution_count": 177,
     "metadata": {},
     "output_type": "execute_result"
    },
    {
     "data": {
      "image/png": "[encoded data removed]",
      "text/plain": [
       "<Figure size 432x288 with 1 Axes>"
      ]
     },
     "metadata": {
      "needs_background": "light"
     },
     "output_type": "display_data"
    }
   ],
   "source": [
    "data[\"Ingredients_expected\"].value_counts().plot(kind=\"barh\")\n",
    "plt.title(\"Consumer preferred ingredient\")"
   ]
  },
  {
   "cell_type": "code",
   "execution_count": 76,
   "id": "232fdc4d",
   "metadata": {},
   "outputs": [
    {
     "data": {
      "text/plain": [
       "Compact and portable cans    3984\n",
       "Innovative bottle design     3047\n",
       "Collectible packaging        1501\n",
       "Eco-friendly design           983\n",
       "Other                         485\n",
       "Name: Packaging_preference, dtype: int64"
      ]
     },
     "execution_count": 76,
     "metadata": {},
     "output_type": "execute_result"
    }
   ],
   "source": [
    "##2.) What packaging preferences do respondents have for energy drinks?\n",
    "\n",
    "data[\"Packaging_preference\"].unique()\n",
    "data[\"Packaging_preference\"].value_counts()"
   ]
  },
  {
   "cell_type": "code",
   "execution_count": 171,
   "id": "735e8b13",
   "metadata": {},
   "outputs": [
    {
     "data": {
      "text/plain": [
       "Text(0.5, 1.0, 'Packaging preference')"
      ]
     },
     "execution_count": 171,
     "metadata": {},
     "output_type": "execute_result"
    },
    {
     "data": {
      "image/png": "[encoded data removed]",
      "text/plain": [
       "<Figure size 432x288 with 1 Axes>"
      ]
     },
     "metadata": {
      "needs_background": "light"
     },
     "output_type": "display_data"
    }
   ],
   "source": [
    "data[\"Packaging_preference\"].value_counts().plot(kind=\"barh\")\n",
    "plt.title(\"Packaging preference\")"
   ]
  },
  {
   "cell_type": "code",
   "execution_count": 80,
   "id": "16524132",
   "metadata": {},
   "outputs": [
    {
     "data": {
      "text/plain": [
       "Cola-Coka    2538\n",
       "Bepsi        2112\n",
       "Gangster     1854\n",
       "Blue Bull    1058\n",
       "CodeX         980\n",
       "Sky 9         979\n",
       "Others        479\n",
       "Name: Current_brands, dtype: int64"
      ]
     },
     "execution_count": 80,
     "metadata": {},
     "output_type": "execute_result"
    }
   ],
   "source": [
    "## Competition analysis\n",
    "## 1.)Who are the current market leaders?\n",
    "\n",
    "data[\"Current_brands\"].unique()\n",
    "data[\"Current_brands\"].value_counts()"
   ]
  },
  {
   "cell_type": "code",
   "execution_count": 179,
   "id": "1caa4d7b",
   "metadata": {},
   "outputs": [
    {
     "data": {
      "text/plain": [
       "Text(0.5, 1.0, 'Current market leaders')"
      ]
     },
     "execution_count": 179,
     "metadata": {},
     "output_type": "execute_result"
    },
    {
     "data": {
      "image/png": "[encoded data removed]",
      "text/plain": [
       "<Figure size 432x288 with 1 Axes>"
      ]
     },
     "metadata": {
      "needs_background": "light"
     },
     "output_type": "display_data"
    }
   ],
   "source": [
    "data[\"Current_brands\"].value_counts().plot(kind=\"barh\")\n",
    "plt.title(\"Current market leaders\")"
   ]
  },
  {
   "cell_type": "code",
   "execution_count": 183,
   "id": "2cab81ce",
   "metadata": {},
   "outputs": [
    {
     "data": {
      "text/plain": [
       "Text(0.5, 1.0, 'Primary reason of consumers prefering other brands')"
      ]
     },
     "execution_count": 183,
     "metadata": {},
     "output_type": "execute_result"
    },
    {
     "data": {
      "image/png": "[encoded data removed]",
      "text/plain": [
       "<Figure size 432x288 with 1 Axes>"
      ]
     },
     "metadata": {
      "needs_background": "light"
     },
     "output_type": "display_data"
    }
   ],
   "source": [
    "## 2.)What are the primary reasons consumers prefer those brands over ours?\n",
    "\n",
    "data.groupby([\"Current_brands\",\"Reasons_for_choosing_brands\"]).Reasons_for_choosing_brands.count().plot.bar()\n",
    "plt.title(\"Primary reason of consumers prefering other brands\")\n"
   ]
  },
  {
   "cell_type": "code",
   "execution_count": 89,
   "id": "aacc17ff",
   "metadata": {},
   "outputs": [
    {
     "data": {
      "text/plain": [
       "Online ads            4020\n",
       "TV commercials        2688\n",
       "Outdoor billboards    1226\n",
       "Other                 1225\n",
       "Print media            841\n",
       "Name: Marketing_channels, dtype: int64"
      ]
     },
     "execution_count": 89,
     "metadata": {},
     "output_type": "execute_result"
    }
   ],
   "source": [
    "## Marketing channels and brand awarness\n",
    "## 1.) Which marketing channel can be used to reach more customers?\n",
    "data[\"Marketing_channels\"].value_counts()"
   ]
  },
  {
   "cell_type": "code",
   "execution_count": 184,
   "id": "c981b403",
   "metadata": {},
   "outputs": [
    {
     "data": {
      "text/plain": [
       "Text(0.5, 1.0, 'Marketing channels')"
      ]
     },
     "execution_count": 184,
     "metadata": {},
     "output_type": "execute_result"
    },
    {
     "data": {
      "image/png": "[encoded data removed]",
      "text/plain": [
       "<Figure size 432x288 with 1 Axes>"
      ]
     },
     "metadata": {
      "needs_background": "light"
     },
     "output_type": "display_data"
    }
   ],
   "source": [
    "data[\"Marketing_channels\"].value_counts().plot(kind=\"barh\")\n",
    "plt.title(\"Marketing channels\")"
   ]
  },
  {
   "cell_type": "code",
   "execution_count": 115,
   "id": "c8a70f9a",
   "metadata": {},
   "outputs": [
    {
     "data": {
      "text/plain": [
       "Marketing_channels\n",
       "Online ads            411\n",
       "Other                 116\n",
       "Outdoor billboards    119\n",
       "Print media            73\n",
       "TV commercials        261\n",
       "Name: Marketing_channels, dtype: int64"
      ]
     },
     "execution_count": 115,
     "metadata": {},
     "output_type": "execute_result"
    }
   ],
   "source": [
    "##2.)How effective are different marketing strategies and channels in reaching our customers?\n",
    "\n",
    "codex_marketing=data[data[\"Current_brands\"]==\"CodeX\"][[\"Current_brands\",\"Marketing_channels\"]]\n",
    "x=codex_marketing.groupby(\"Marketing_channels\").Marketing_channels.count()\n",
    "x"
   ]
  },
  {
   "cell_type": "code",
   "execution_count": 137,
   "id": "5e805f80",
   "metadata": {},
   "outputs": [
    {
     "data": {
      "text/plain": [
       "Neutral     589\n",
       "Positive    219\n",
       "Negative    172\n",
       "Name: Brand_perception, dtype: int64"
      ]
     },
     "execution_count": 137,
     "metadata": {},
     "output_type": "execute_result"
    }
   ],
   "source": [
    "## Brand penetration\n",
    "## 1.)What do people think about our brand?\n",
    "\n",
    "codex_data=data[data[\"Current_brands\"]==\"CodeX\"]\n",
    "codex_data[\"Brand_perception\"].value_counts()"
   ]
  },
  {
   "cell_type": "code",
   "execution_count": 192,
   "id": "88de4c08",
   "metadata": {},
   "outputs": [
    {
     "data": {
      "text/plain": [
       "Text(0.5, 1.0, 'Brand perception')"
      ]
     },
     "execution_count": 192,
     "metadata": {},
     "output_type": "execute_result"
    },
    {
     "data": {
      "image/png": "[encoded data removed]",
      "text/plain": [
       "<Figure size 432x288 with 1 Axes>"
      ]
     },
     "metadata": {
      "needs_background": "light"
     },
     "output_type": "display_data"
    }
   ],
   "source": [
    "codex_data[\"Brand_perception\"].value_counts().plot(kind=\"bar\")\n",
    "plt.title(\"Brand perception\")"
   ]
  },
  {
   "cell_type": "code",
   "execution_count": 136,
   "id": "35f1830d",
   "metadata": {},
   "outputs": [
    {
     "data": {
      "text/plain": [
       "Effective    286\n",
       "Not sure     260\n",
       "Healthy      220\n",
       "Dangerous    214\n",
       "Name: General_perception, dtype: int64"
      ]
     },
     "execution_count": 136,
     "metadata": {},
     "output_type": "execute_result"
    }
   ],
   "source": [
    "codex_data[\"General_perception\"].value_counts()"
   ]
  },
  {
   "cell_type": "code",
   "execution_count": 139,
   "id": "f15a78f5",
   "metadata": {},
   "outputs": [
    {
     "data": {
      "text/plain": [
       "3    286\n",
       "4    248\n",
       "5    191\n",
       "2    148\n",
       "1    107\n",
       "Name: Taste_experience, dtype: int64"
      ]
     },
     "execution_count": 139,
     "metadata": {},
     "output_type": "execute_result"
    }
   ],
   "source": [
    "codex_data[\"Taste_experience\"].value_counts()"
   ]
  },
  {
   "cell_type": "code",
   "execution_count": 141,
   "id": "240ab510",
   "metadata": {},
   "outputs": [
    {
     "data": {
      "text/plain": [
       "Bangalore    292\n",
       "Hyderabad    182\n",
       "Mumbai       156\n",
       "Chennai       92\n",
       "Pune          92\n",
       "Kolkata       48\n",
       "Ahmedabad     45\n",
       "Delhi         40\n",
       "Jaipur        28\n",
       "Lucknow        5\n",
       "Name: City, dtype: int64"
      ]
     },
     "execution_count": 141,
     "metadata": {},
     "output_type": "execute_result"
    }
   ],
   "source": [
    "## 2.)Which cities do we need to focus more on?\n",
    "\n",
    "codex_data[\"City\"].value_counts()"
   ]
  },
  {
   "cell_type": "code",
   "execution_count": 185,
   "id": "bc382760",
   "metadata": {},
   "outputs": [
    {
     "data": {
      "text/plain": [
       "<AxesSubplot:>"
      ]
     },
     "execution_count": 185,
     "metadata": {},
     "output_type": "execute_result"
    },
    {
     "data": {
      "image/png": "[encoded data removed]",
      "text/plain": [
       "<Figure size 432x288 with 1 Axes>"
      ]
     },
     "metadata": {
      "needs_background": "light"
     },
     "output_type": "display_data"
    }
   ],
   "source": [
    "codex_data[\"City\"].value_counts().plot(kind=\"barh\")"
   ]
  },
  {
   "cell_type": "code",
   "execution_count": 144,
   "id": "c60649ed",
   "metadata": {},
   "outputs": [
    {
     "data": {
      "text/plain": [
       "Supermarkets                4494\n",
       "Online retailers            2550\n",
       "Gyms and fitness centers    1464\n",
       "Local stores                 813\n",
       "Other                        679\n",
       "Name: Purchase_location, dtype: int64"
      ]
     },
     "execution_count": 144,
     "metadata": {},
     "output_type": "execute_result"
    }
   ],
   "source": [
    "## Purchase Behaviour\n",
    "## Where do respondents prefer to purchase energy drinks?\n",
    "data[\"Purchase_location\"].unique()\n",
    "data[\"Purchase_location\"].value_counts()"
   ]
  },
  {
   "cell_type": "code",
   "execution_count": 187,
   "id": "8b7c900c",
   "metadata": {},
   "outputs": [
    {
     "data": {
      "text/plain": [
       "Text(0.5, 1.0, 'Top purchase spots')"
      ]
     },
     "execution_count": 187,
     "metadata": {},
     "output_type": "execute_result"
    },
    {
     "data": {
      "image/png": "[encoded data removed]",
      "text/plain": [
       "<Figure size 432x288 with 1 Axes>"
      ]
     },
     "metadata": {
      "needs_background": "light"
     },
     "output_type": "display_data"
    }
   ],
   "source": [
    "data[\"Purchase_location\"].value_counts().plot(kind=\"barh\")\n",
    "plt.title(\"Top purchase spots\")"
   ]
  },
  {
   "cell_type": "code",
   "execution_count": 148,
   "id": "4056edbf",
   "metadata": {},
   "outputs": [
    {
     "data": {
      "text/plain": [
       "array(['Studying/working late', 'Sports/exercise',\n",
       "       'Social outings/parties', 'Other', 'Driving/commuting'],\n",
       "      dtype=object)"
      ]
     },
     "execution_count": 148,
     "metadata": {},
     "output_type": "execute_result"
    }
   ],
   "source": [
    "##What are the typical consumption situations for energy drinks among respondents?\n",
    "\n",
    "data[\"Typical_consumption_situations\"].unique()"
   ]
  },
  {
   "cell_type": "code",
   "execution_count": 149,
   "id": "d6df5fb3",
   "metadata": {
    "scrolled": true
   },
   "outputs": [
    {
     "data": {
      "text/html": [
       "<div>\n",
       "<style scoped>\n",
       "    .dataframe tbody tr th:only-of-type {\n",
       "        vertical-align: middle;\n",
       "    }\n",
       "\n",
       "    .dataframe tbody tr th {\n",
       "        vertical-align: top;\n",
       "    }\n",
       "\n",
       "    .dataframe thead th {\n",
       "        text-align: right;\n",
       "    }\n",
       "</style>\n",
       "<table border=\"1\" class=\"dataframe\">\n",
       "  <thead>\n",
       "    <tr style=\"text-align: right;\">\n",
       "      <th></th>\n",
       "      <th>City_ID</th>\n",
       "      <th>City</th>\n",
       "      <th>Tier</th>\n",
       "      <th>Respondent_ID</th>\n",
       "      <th>Name</th>\n",
       "      <th>Age</th>\n",
       "      <th>Gender</th>\n",
       "      <th>Response_ID</th>\n",
       "      <th>Consume_frequency</th>\n",
       "      <th>Consume_time</th>\n",
       "      <th>Consume_reason</th>\n",
       "      <th>Heard_before</th>\n",
       "      <th>Brand_perception</th>\n",
       "      <th>General_perception</th>\n",
       "      <th>Tried_before</th>\n",
       "      <th>Taste_experience</th>\n",
       "      <th>Reasons_preventing_trying</th>\n",
       "      <th>Current_brands</th>\n",
       "      <th>Reasons_for_choosing_brands</th>\n",
       "      <th>Improvements_desired</th>\n",
       "      <th>Ingredients_expected</th>\n",
       "      <th>Health_concerns</th>\n",
       "      <th>Interest_in_natural_or_organic</th>\n",
       "      <th>Marketing_channels</th>\n",
       "      <th>Packaging_preference</th>\n",
       "      <th>Limited_edition_packaging</th>\n",
       "      <th>Price_range</th>\n",
       "      <th>Purchase_location</th>\n",
       "      <th>Typical_consumption_situations</th>\n",
       "    </tr>\n",
       "  </thead>\n",
       "  <tbody>\n",
       "    <tr>\n",
       "      <th>0</th>\n",
       "      <td>CT117</td>\n",
       "      <td>Ahmedabad</td>\n",
       "      <td>Tier 2</td>\n",
       "      <td>120031</td>\n",
       "      <td>Aniruddh Issac</td>\n",
       "      <td>15-18</td>\n",
       "      <td>Female</td>\n",
       "      <td>103001</td>\n",
       "      <td>2-3 times a week</td>\n",
       "      <td>To stay awake during work/study</td>\n",
       "      <td>Increased energy and focus</td>\n",
       "      <td>Yes</td>\n",
       "      <td>Neutral</td>\n",
       "      <td>Not sure</td>\n",
       "      <td>No</td>\n",
       "      <td>5</td>\n",
       "      <td>Unfamiliar with the brand</td>\n",
       "      <td>Blue Bull</td>\n",
       "      <td>Availability</td>\n",
       "      <td>Reduced sugar content</td>\n",
       "      <td>Guarana</td>\n",
       "      <td>No</td>\n",
       "      <td>Yes</td>\n",
       "      <td>TV commercials</td>\n",
       "      <td>Compact and portable cans</td>\n",
       "      <td>Yes</td>\n",
       "      <td>50-99</td>\n",
       "      <td>Supermarkets</td>\n",
       "      <td>Studying/working late</td>\n",
       "    </tr>\n",
       "    <tr>\n",
       "      <th>1</th>\n",
       "      <td>CT118</td>\n",
       "      <td>Pune</td>\n",
       "      <td>Tier 2</td>\n",
       "      <td>120032</td>\n",
       "      <td>Trisha Rout</td>\n",
       "      <td>19-30</td>\n",
       "      <td>Male</td>\n",
       "      <td>103002</td>\n",
       "      <td>2-3 times a month</td>\n",
       "      <td>Throughout the day</td>\n",
       "      <td>To boost performance</td>\n",
       "      <td>No</td>\n",
       "      <td>Neutral</td>\n",
       "      <td>Not sure</td>\n",
       "      <td>No</td>\n",
       "      <td>5</td>\n",
       "      <td>Not interested in energy drinks</td>\n",
       "      <td>Bepsi</td>\n",
       "      <td>Availability</td>\n",
       "      <td>More natural ingredients</td>\n",
       "      <td>Caffeine</td>\n",
       "      <td>Yes</td>\n",
       "      <td>Not Sure</td>\n",
       "      <td>Print media</td>\n",
       "      <td>Compact and portable cans</td>\n",
       "      <td>No</td>\n",
       "      <td>50-99</td>\n",
       "      <td>Supermarkets</td>\n",
       "      <td>Sports/exercise</td>\n",
       "    </tr>\n",
       "    <tr>\n",
       "      <th>2</th>\n",
       "      <td>CT116</td>\n",
       "      <td>Hyderabad</td>\n",
       "      <td>Tier 1</td>\n",
       "      <td>120033</td>\n",
       "      <td>Yuvraj  Virk</td>\n",
       "      <td>15-18</td>\n",
       "      <td>Male</td>\n",
       "      <td>103003</td>\n",
       "      <td>Rarely</td>\n",
       "      <td>Before exercise</td>\n",
       "      <td>Increased energy and focus</td>\n",
       "      <td>No</td>\n",
       "      <td>Neutral</td>\n",
       "      <td>Not sure</td>\n",
       "      <td>No</td>\n",
       "      <td>2</td>\n",
       "      <td>Not available locally</td>\n",
       "      <td>Bepsi</td>\n",
       "      <td>Availability</td>\n",
       "      <td>More natural ingredients</td>\n",
       "      <td>Caffeine</td>\n",
       "      <td>No</td>\n",
       "      <td>Yes</td>\n",
       "      <td>Online ads</td>\n",
       "      <td>Innovative bottle design</td>\n",
       "      <td>Not Sure</td>\n",
       "      <td>100-150</td>\n",
       "      <td>Supermarkets</td>\n",
       "      <td>Studying/working late</td>\n",
       "    </tr>\n",
       "    <tr>\n",
       "      <th>3</th>\n",
       "      <td>CT113</td>\n",
       "      <td>Bangalore</td>\n",
       "      <td>Tier 1</td>\n",
       "      <td>120034</td>\n",
       "      <td>Pranay Chand</td>\n",
       "      <td>31-45</td>\n",
       "      <td>Female</td>\n",
       "      <td>103004</td>\n",
       "      <td>2-3 times a week</td>\n",
       "      <td>To stay awake during work/study</td>\n",
       "      <td>To boost performance</td>\n",
       "      <td>No</td>\n",
       "      <td>Positive</td>\n",
       "      <td>Dangerous</td>\n",
       "      <td>Yes</td>\n",
       "      <td>5</td>\n",
       "      <td>Other</td>\n",
       "      <td>Bepsi</td>\n",
       "      <td>Other</td>\n",
       "      <td>Other</td>\n",
       "      <td>Caffeine</td>\n",
       "      <td>No</td>\n",
       "      <td>Yes</td>\n",
       "      <td>Online ads</td>\n",
       "      <td>Compact and portable cans</td>\n",
       "      <td>No</td>\n",
       "      <td>Above 150</td>\n",
       "      <td>Supermarkets</td>\n",
       "      <td>Sports/exercise</td>\n",
       "    </tr>\n",
       "    <tr>\n",
       "      <th>4</th>\n",
       "      <td>CT120</td>\n",
       "      <td>Lucknow</td>\n",
       "      <td>Tier 2</td>\n",
       "      <td>120035</td>\n",
       "      <td>Mohanlal Joshi</td>\n",
       "      <td>19-30</td>\n",
       "      <td>Female</td>\n",
       "      <td>103005</td>\n",
       "      <td>Daily</td>\n",
       "      <td>To stay awake during work/study</td>\n",
       "      <td>Increased energy and focus</td>\n",
       "      <td>Yes</td>\n",
       "      <td>Neutral</td>\n",
       "      <td>Effective</td>\n",
       "      <td>Yes</td>\n",
       "      <td>5</td>\n",
       "      <td>Other</td>\n",
       "      <td>Sky 9</td>\n",
       "      <td>Other</td>\n",
       "      <td>More natural ingredients</td>\n",
       "      <td>Caffeine</td>\n",
       "      <td>Yes</td>\n",
       "      <td>Yes</td>\n",
       "      <td>Online ads</td>\n",
       "      <td>Compact and portable cans</td>\n",
       "      <td>Yes</td>\n",
       "      <td>100-150</td>\n",
       "      <td>Online retailers</td>\n",
       "      <td>Studying/working late</td>\n",
       "    </tr>\n",
       "  </tbody>\n",
       "</table>\n",
       "</div>"
      ],
      "text/plain": [
       "  City_ID       City    Tier  Respondent_ID            Name    Age  Gender  \\\n",
       "0   CT117  Ahmedabad  Tier 2         120031  Aniruddh Issac  15-18  Female   \n",
       "1   CT118       Pune  Tier 2         120032     Trisha Rout  19-30    Male   \n",
       "2   CT116  Hyderabad  Tier 1         120033    Yuvraj  Virk  15-18    Male   \n",
       "3   CT113  Bangalore  Tier 1         120034    Pranay Chand  31-45  Female   \n",
       "4   CT120    Lucknow  Tier 2         120035  Mohanlal Joshi  19-30  Female   \n",
       "\n",
       "   Response_ID  Consume_frequency                     Consume_time  \\\n",
       "0       103001   2-3 times a week  To stay awake during work/study   \n",
       "1       103002  2-3 times a month               Throughout the day   \n",
       "2       103003             Rarely                  Before exercise   \n",
       "3       103004   2-3 times a week  To stay awake during work/study   \n",
       "4       103005              Daily  To stay awake during work/study   \n",
       "\n",
       "               Consume_reason Heard_before Brand_perception  \\\n",
       "0  Increased energy and focus          Yes          Neutral   \n",
       "1        To boost performance           No          Neutral   \n",
       "2  Increased energy and focus           No          Neutral   \n",
       "3        To boost performance           No         Positive   \n",
       "4  Increased energy and focus          Yes          Neutral   \n",
       "\n",
       "  General_perception Tried_before  Taste_experience  \\\n",
       "0           Not sure           No                 5   \n",
       "1           Not sure           No                 5   \n",
       "2           Not sure           No                 2   \n",
       "3          Dangerous          Yes                 5   \n",
       "4          Effective          Yes                 5   \n",
       "\n",
       "         Reasons_preventing_trying Current_brands Reasons_for_choosing_brands  \\\n",
       "0        Unfamiliar with the brand      Blue Bull                Availability   \n",
       "1  Not interested in energy drinks          Bepsi                Availability   \n",
       "2            Not available locally          Bepsi                Availability   \n",
       "3                            Other          Bepsi                       Other   \n",
       "4                            Other          Sky 9                       Other   \n",
       "\n",
       "       Improvements_desired Ingredients_expected Health_concerns  \\\n",
       "0     Reduced sugar content              Guarana              No   \n",
       "1  More natural ingredients             Caffeine             Yes   \n",
       "2  More natural ingredients             Caffeine              No   \n",
       "3                     Other             Caffeine              No   \n",
       "4  More natural ingredients             Caffeine             Yes   \n",
       "\n",
       "  Interest_in_natural_or_organic Marketing_channels  \\\n",
       "0                            Yes     TV commercials   \n",
       "1                       Not Sure        Print media   \n",
       "2                            Yes         Online ads   \n",
       "3                            Yes         Online ads   \n",
       "4                            Yes         Online ads   \n",
       "\n",
       "        Packaging_preference Limited_edition_packaging Price_range  \\\n",
       "0  Compact and portable cans                       Yes       50-99   \n",
       "1  Compact and portable cans                        No       50-99   \n",
       "2   Innovative bottle design                  Not Sure     100-150   \n",
       "3  Compact and portable cans                        No   Above 150   \n",
       "4  Compact and portable cans                       Yes     100-150   \n",
       "\n",
       "  Purchase_location Typical_consumption_situations  \n",
       "0      Supermarkets          Studying/working late  \n",
       "1      Supermarkets                Sports/exercise  \n",
       "2      Supermarkets          Studying/working late  \n",
       "3      Supermarkets                Sports/exercise  \n",
       "4  Online retailers          Studying/working late  "
      ]
     },
     "execution_count": 149,
     "metadata": {},
     "output_type": "execute_result"
    }
   ],
   "source": [
    "## What factors influence respondents' purchase decisions, such as price range and limited edition packaging?\n",
    "data.head()"
   ]
  },
  {
   "cell_type": "code",
   "execution_count": 151,
   "id": "3ad67ac7",
   "metadata": {},
   "outputs": [
    {
     "data": {
      "text/plain": [
       "array(['Reduced sugar content', 'Wider range of flavors',\n",
       "       'More natural ingredients', 'Healthier alternatives', 'Other'],\n",
       "      dtype=object)"
      ]
     },
     "execution_count": 151,
     "metadata": {},
     "output_type": "execute_result"
    }
   ],
   "source": [
    "codex_data[\"Improvements_desired\"].unique()"
   ]
  },
  {
   "cell_type": "code",
   "execution_count": 153,
   "id": "e400ce51",
   "metadata": {},
   "outputs": [
    {
     "data": {
      "text/plain": [
       "Age    Consume_frequency\n",
       "15-18  2-3 times a month     18\n",
       "       2-3 times a week      54\n",
       "       Daily                 17\n",
       "       Once a week           14\n",
       "       Rarely                32\n",
       "19-30  2-3 times a month     77\n",
       "       2-3 times a week     202\n",
       "       Daily                 71\n",
       "       Once a week           82\n",
       "       Rarely               108\n",
       "31-45  2-3 times a month     43\n",
       "       2-3 times a week      79\n",
       "       Daily                 27\n",
       "       Once a week           40\n",
       "       Rarely                53\n",
       "46-65  2-3 times a month      5\n",
       "       2-3 times a week      13\n",
       "       Daily                  6\n",
       "       Once a week            6\n",
       "       Rarely                 7\n",
       "65+    2-3 times a month      4\n",
       "       2-3 times a week      13\n",
       "       Daily                  2\n",
       "       Once a week            3\n",
       "       Rarely                 4\n",
       "Name: Consume_frequency, dtype: int64"
      ]
     },
     "execution_count": 153,
     "metadata": {},
     "output_type": "execute_result"
    }
   ],
   "source": [
    "codex_data.groupby([\"Age\",\"Consume_frequency\"]).Consume_frequency.count()"
   ]
  },
  {
   "cell_type": "code",
   "execution_count": 190,
   "id": "ffefc9e3",
   "metadata": {},
   "outputs": [
    {
     "data": {
      "text/plain": [
       "Text(0.5, 1.0, 'consumption type each age group')"
      ]
     },
     "execution_count": 190,
     "metadata": {},
     "output_type": "execute_result"
    },
    {
     "data": {
      "image/png": "[encoded data removed]",
      "text/plain": [
       "<Figure size 432x288 with 1 Axes>"
      ]
     },
     "metadata": {
      "needs_background": "light"
     },
     "output_type": "display_data"
    }
   ],
   "source": [
    "codex_data.groupby([\"Age\",\"Consume_frequency\"]).Consume_frequency.count().plot.bar()\n",
    "plt.title(\"consumption type each age group\")"
   ]
  },
  {
   "cell_type": "code",
   "execution_count": 155,
   "id": "4fa25730",
   "metadata": {},
   "outputs": [
    {
     "data": {
      "text/plain": [
       "50-99        4288\n",
       "100-150      3142\n",
       "Above 150    1561\n",
       "Below 50     1009\n",
       "Name: Price_range, dtype: int64"
      ]
     },
     "execution_count": 155,
     "metadata": {},
     "output_type": "execute_result"
    }
   ],
   "source": [
    "data[\"Price_range\"].value_counts()"
   ]
  },
  {
   "cell_type": "code",
   "execution_count": null,
   "id": "5638d589",
   "metadata": {},
   "outputs": [],
   "source": []
  }
 ],
 "metadata": {
  "kernelspec": {
   "display_name": "Python 3 (ipykernel)",
   "language": "python",
   "name": "python3"
  },
  "language_info": {
   "codemirror_mode": {
    "name": "ipython",
    "version": 3
   },
   "file_extension": ".py",
   "mimetype": "text/x-python",
   "name": "python",
   "nbconvert_exporter": "python",
   "pygments_lexer": "ipython3",
   "version": "3.9.7"
  }
 },
 "nbformat": 4,
 "nbformat_minor": 5
}
